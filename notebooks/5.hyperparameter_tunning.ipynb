{
 "cells": [
  {
   "cell_type": "markdown",
   "id": "52c0597b",
   "metadata": {},
   "source": [
    "## Realizar optimizacion con optuna pero de todo el pipeline, desde imputacion, tolerancia, encoding hasta el modelo"
   ]
  },
  {
   "cell_type": "code",
   "execution_count": null,
   "id": "39a8e27e",
   "metadata": {},
   "outputs": [],
   "source": []
  }
 ],
 "metadata": {
  "kernelspec": {
   "display_name": ".venv",
   "language": "python",
   "name": "python3"
  },
  "language_info": {
   "name": "python",
   "version": "3.11.5"
  }
 },
 "nbformat": 4,
 "nbformat_minor": 5
}
