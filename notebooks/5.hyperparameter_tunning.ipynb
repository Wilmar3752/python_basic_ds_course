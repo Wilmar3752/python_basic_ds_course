{
 "cells": [
  {
   "cell_type": "markdown",
   "id": "52c0597b",
   "metadata": {},
   "source": [
    "## Realizar optimizacion con optuna pero de todo el pipeline, desde imputacion, tolerancia, encoding hasta el modelo"
   ]
  },
  {
   "cell_type": "code",
   "execution_count": 29,
   "id": "39a8e27e",
   "metadata": {},
   "outputs": [],
   "source": [
    "import pandas as pd\n",
    "import numpy as np\n",
    "import matplotlib.pyplot as plt\n",
    "import seaborn as sns\n",
    "from sklearn.model_selection import train_test_split\n",
    "from feature_engine.imputation import (AddMissingIndicator, \n",
    "                                       MeanMedianImputer, \n",
    "                                       CategoricalImputer\n",
    "                                       )\n",
    "from feature_engine.encoding import RareLabelEncoder, OneHotEncoder, OrdinalEncoder\n",
    "from feature_engine.wrappers import SklearnTransformerWrapper\n",
    "from sklearn.preprocessing import StandardScaler, MinMaxScaler\n",
    "from sklearn.pipeline import Pipeline\n",
    "import optuna\n",
    "import lightgbm as lgb\n",
    "from optuna.visualization import (plot_param_importances,\n",
    "                                  plot_optimization_history,\n",
    "                                  plot_parallel_coordinate,\n",
    "                                  plot_slice,\n",
    "                                  plot_contour)\n",
    "from sklearn.metrics import mean_squared_error, r2_score, mean_absolute_error, median_absolute_error\n"
   ]
  },
  {
   "cell_type": "code",
   "execution_count": 30,
   "id": "dad82cf9",
   "metadata": {},
   "outputs": [
    {
     "data": {
      "text/html": [
       "<div>\n",
       "<style scoped>\n",
       "    .dataframe tbody tr th:only-of-type {\n",
       "        vertical-align: middle;\n",
       "    }\n",
       "\n",
       "    .dataframe tbody tr th {\n",
       "        vertical-align: top;\n",
       "    }\n",
       "\n",
       "    .dataframe thead th {\n",
       "        text-align: right;\n",
       "    }\n",
       "</style>\n",
       "<table border=\"1\" class=\"dataframe\">\n",
       "  <thead>\n",
       "    <tr style=\"text-align: right;\">\n",
       "      <th></th>\n",
       "      <th>price</th>\n",
       "      <th>antiguedad</th>\n",
       "      <th>kilometraje</th>\n",
       "      <th>vehicle_brand</th>\n",
       "      <th>vehicle_line</th>\n",
       "      <th>location_state</th>\n",
       "    </tr>\n",
       "  </thead>\n",
       "  <tbody>\n",
       "    <tr>\n",
       "      <th>0</th>\n",
       "      <td>183900000</td>\n",
       "      <td>0.0</td>\n",
       "      <td>5800.0</td>\n",
       "      <td>byd</td>\n",
       "      <td>song</td>\n",
       "      <td>bogota_d.c.</td>\n",
       "    </tr>\n",
       "    <tr>\n",
       "      <th>1</th>\n",
       "      <td>64900000</td>\n",
       "      <td>8.0</td>\n",
       "      <td>59000.0</td>\n",
       "      <td>mazda</td>\n",
       "      <td>3</td>\n",
       "      <td>antioquia</td>\n",
       "    </tr>\n",
       "    <tr>\n",
       "      <th>2</th>\n",
       "      <td>72000000</td>\n",
       "      <td>6.0</td>\n",
       "      <td>47000.0</td>\n",
       "      <td>NaN</td>\n",
       "      <td>NaN</td>\n",
       "      <td>bogota_d.c.</td>\n",
       "    </tr>\n",
       "    <tr>\n",
       "      <th>3</th>\n",
       "      <td>59500000</td>\n",
       "      <td>0.0</td>\n",
       "      <td>3600.0</td>\n",
       "      <td>kia</td>\n",
       "      <td>picanto</td>\n",
       "      <td>bogota_d.c.</td>\n",
       "    </tr>\n",
       "    <tr>\n",
       "      <th>4</th>\n",
       "      <td>63000000</td>\n",
       "      <td>9.0</td>\n",
       "      <td>81000.0</td>\n",
       "      <td>nissan</td>\n",
       "      <td>x-trail</td>\n",
       "      <td>bogota_d.c.</td>\n",
       "    </tr>\n",
       "  </tbody>\n",
       "</table>\n",
       "</div>"
      ],
      "text/plain": [
       "       price  antiguedad  kilometraje vehicle_brand vehicle_line  \\\n",
       "0  183900000         0.0       5800.0           byd         song   \n",
       "1   64900000         8.0      59000.0         mazda            3   \n",
       "2   72000000         6.0      47000.0           NaN          NaN   \n",
       "3   59500000         0.0       3600.0           kia      picanto   \n",
       "4   63000000         9.0      81000.0        nissan      x-trail   \n",
       "\n",
       "  location_state  \n",
       "0    bogota_d.c.  \n",
       "1      antioquia  \n",
       "2    bogota_d.c.  \n",
       "3    bogota_d.c.  \n",
       "4    bogota_d.c.  "
      ]
     },
     "execution_count": 30,
     "metadata": {},
     "output_type": "execute_result"
    }
   ],
   "source": [
    "data_gold = pd.read_excel(\"../data/gold/car_gold.xlsx\")\n",
    "## selected feature\n",
    "features = [\"price\", \"antiguedad\", \"kilometraje\", \"vehicle_brand\", \"vehicle_line\", 'location_state']\n",
    "data_gold = data_gold[features]\n",
    "data_gold.head()\n",
    "\n"
   ]
  },
  {
   "cell_type": "code",
   "execution_count": 31,
   "id": "211a668e",
   "metadata": {},
   "outputs": [],
   "source": [
    "## dividir en train y test\n",
    "X_train, X_test, y_train, y_test = train_test_split(data_gold.drop(labels=['price'], axis=1),\n",
    "                                                    data_gold['price'],\n",
    "                                                    test_size=0.3,\n",
    "                                                    random_state=0) # reproducibilidad"
   ]
  },
  {
   "cell_type": "code",
   "execution_count": 32,
   "id": "6395f6f2",
   "metadata": {},
   "outputs": [],
   "source": [
    "def autoconfigure_features(data):\n",
    "    vars_with_na = [var for var in data.columns if data[var].isnull().sum() > 0]\n",
    "    num_vars = data.select_dtypes(include=['int64', 'float64']).columns\n",
    "    num_vars_na = [var for var in num_vars if var in vars_with_na]\n",
    "    cat_vars = data.select_dtypes(include=['object']).columns\n",
    "    cat_vars_na = [var for var in cat_vars if var in vars_with_na]\n",
    "\n",
    "    output = {\n",
    "        \"num_vars\": num_vars_na,\n",
    "        \"cat_vars\": cat_vars_na,\n",
    "        \"vars_with_na\": vars_with_na,\n",
    "        \"num_vars_na\": num_vars_na,\n",
    "        \"cat_vars_na\": cat_vars_na\n",
    "    }\n",
    "    return output\n"
   ]
  },
  {
   "cell_type": "code",
   "execution_count": 33,
   "id": "2f64e902",
   "metadata": {},
   "outputs": [],
   "source": [
    "variables = autoconfigure_features(data_gold)"
   ]
  },
  {
   "cell_type": "code",
   "execution_count": 34,
   "id": "e65a7d5f",
   "metadata": {},
   "outputs": [],
   "source": [
    "num_vars_na = variables['num_vars_na']\n",
    "cat_vars_na = variables['cat_vars_na']\n",
    "vars_with_na = variables['vars_with_na']\n",
    "num_vars = variables['num_vars']\n",
    "cat_vars = variables['cat_vars']\n"
   ]
  },
  {
   "cell_type": "code",
   "execution_count": 50,
   "id": "fbd3e8db",
   "metadata": {},
   "outputs": [],
   "source": [
    "def objective(trial):\n",
    "    params = {\n",
    "        \"objective\": \"regression\",\n",
    "        \"metric\": \"mse\",\n",
    "        \"verbosity\": -1,\n",
    "        \"boosting_type\": \"gbdt\",\n",
    "        \"num_leaves\": trial.suggest_int(\"num_leaves\", 150, 300),\n",
    "        \"max_depth\": trial.suggest_int(\"max_depth\", 3, 15),\n",
    "        \"learning_rate\": trial.suggest_float(\"learning_rate\", 0.008, 0.02, log=True),\n",
    "        \"n_estimators\": trial.suggest_int(\"n_estimators\", 500, 800),\n",
    "        \"min_child_samples\": trial.suggest_int(\"min_child_samples\", 5, 30),\n",
    "        \"subsample\": trial.suggest_float(\"subsample\", 0.5, 1.0),\n",
    "        \"colsample_bytree\": trial.suggest_float(\"colsample_bytree\", 0.7, 0.9),\n",
    "        \"reg_alpha\": trial.suggest_float(\"reg_alpha\", 1e-4, 10.0, log=True),\n",
    "        \"reg_lambda\": trial.suggest_float(\"reg_lambda\", 1e-4, 10.0, log=True),\n",
    "    }\n",
    "    imputation_method_suggest = trial.suggest_categorical('imputation_method', ['median', 'mean'])\n",
    "    rarelabel_tol_suggest = trial.suggest_float('rarelabel_tol', 0.0009, 0.005)\n",
    "    encoding_method_suggest = trial.suggest_categorical('encoding_method', ['ordered', 'onehot'])\n",
    "    scaler_method_suggest = trial.suggest_categorical('scaler_method', ['standard', 'minmax'])\n",
    "    pipeline_steps = [\n",
    "        (\"missing_indicator\", AddMissingIndicator(variables=vars_with_na)),\n",
    "        (\"numerical_imputation\", MeanMedianImputer(imputation_method=imputation_method_suggest, variables=num_vars_na)),\n",
    "        (\"categorical_imputation\", CategoricalImputer(imputation_method='missing', fill_value='missing', variables=cat_vars_na)),\n",
    "        (\"rare_label_encoder\", RareLabelEncoder(tol=rarelabel_tol_suggest, variables=cat_vars, n_categories=1)),\n",
    "    ]\n",
    "    if encoding_method_suggest == 'ordered':\n",
    "        pipeline_steps.append((\"ordinal_encoder\", OrdinalEncoder(variables=cat_vars, encoding_method='ordered')))\n",
    "    else:\n",
    "        pipeline_steps.append((\"onehot_encoder\", OneHotEncoder(variables=cat_vars, drop_last=True)))\n",
    "    \n",
    "    if scaler_method_suggest == 'standard':\n",
    "        pipeline_steps.append((\"scaler\", SklearnTransformerWrapper(transformer=StandardScaler())))\n",
    "    else:\n",
    "        pipeline_steps.append((\"scaler\", SklearnTransformerWrapper(transformer=MinMaxScaler())))\n",
    "    \n",
    "    pipeline_steps.append((\"model\", lgb.LGBMRegressor(**params)))\n",
    "    \n",
    "    pipeline = Pipeline(pipeline_steps)\n",
    "    pipeline.fit(X_train, y_train)\n",
    "    y_pred_train = pipeline.predict(X_train)\n",
    "    y_pred_test = pipeline.predict(X_test)\n",
    "    r2 = r2_score(y_test, y_pred_test)\n",
    "    return r2\n",
    "    \n",
    "    "
   ]
  },
  {
   "cell_type": "code",
   "execution_count": 52,
   "id": "b322d096",
   "metadata": {},
   "outputs": [
    {
     "name": "stderr",
     "output_type": "stream",
     "text": [
      "[I 2025-10-23 19:31:40,291] A new study created in memory with name: no-name-cd681a48-a985-4942-acbf-c8f019d610d5\n"
     ]
    },
    {
     "data": {
      "application/vnd.jupyter.widget-view+json": {
       "model_id": "14116706663c48dbad037eb0358684e9",
       "version_major": 2,
       "version_minor": 0
      },
      "text/plain": [
       "  0%|          | 0/10 [00:00<?, ?it/s]"
      ]
     },
     "metadata": {},
     "output_type": "display_data"
    },
    {
     "name": "stdout",
     "output_type": "stream",
     "text": [
      "[I 2025-10-23 19:31:52,535] Trial 0 finished with value: 0.6663049353358369 and parameters: {'num_leaves': 216, 'max_depth': 13, 'learning_rate': 0.013382038116433721, 'n_estimators': 620, 'min_child_samples': 5, 'subsample': 0.7637401090547913, 'colsample_bytree': 0.7529888953517473, 'reg_alpha': 0.10477390911337738, 'reg_lambda': 0.13555474794273625, 'imputation_method': 'mean', 'rarelabel_tol': 0.002435718543349576, 'encoding_method': 'onehot', 'scaler_method': 'minmax'}. Best is trial 0 with value: 0.6663049353358369.\n",
      "[I 2025-10-23 19:31:54,647] Trial 1 finished with value: 0.603977412554102 and parameters: {'num_leaves': 295, 'max_depth': 4, 'learning_rate': 0.014217797920231107, 'n_estimators': 772, 'min_child_samples': 8, 'subsample': 0.9841161571097934, 'colsample_bytree': 0.7564992070292442, 'reg_alpha': 0.6971129291494439, 'reg_lambda': 0.010290817137363501, 'imputation_method': 'median', 'rarelabel_tol': 0.0041825239021547125, 'encoding_method': 'onehot', 'scaler_method': 'minmax'}. Best is trial 0 with value: 0.6663049353358369.\n",
      "[I 2025-10-23 19:32:00,848] Trial 2 finished with value: 0.6310963648165621 and parameters: {'num_leaves': 209, 'max_depth': 10, 'learning_rate': 0.014643280309305522, 'n_estimators': 711, 'min_child_samples': 17, 'subsample': 0.5284927682087479, 'colsample_bytree': 0.726692934603877, 'reg_alpha': 0.009385104163190655, 'reg_lambda': 0.0001496701611707126, 'imputation_method': 'median', 'rarelabel_tol': 0.003738300339007804, 'encoding_method': 'onehot', 'scaler_method': 'minmax'}. Best is trial 0 with value: 0.6663049353358369.\n",
      "[I 2025-10-23 19:32:13,557] Trial 3 finished with value: 0.6872924759652996 and parameters: {'num_leaves': 208, 'max_depth': 12, 'learning_rate': 0.01745793855623428, 'n_estimators': 557, 'min_child_samples': 11, 'subsample': 0.8145251303975058, 'colsample_bytree': 0.8199483548743226, 'reg_alpha': 0.016465203445315477, 'reg_lambda': 0.00022303454217872883, 'imputation_method': 'median', 'rarelabel_tol': 0.0025083168147203927, 'encoding_method': 'ordered', 'scaler_method': 'minmax'}. Best is trial 3 with value: 0.6872924759652996.\n",
      "[I 2025-10-23 19:32:21,704] Trial 4 finished with value: 0.6368536227307673 and parameters: {'num_leaves': 218, 'max_depth': 12, 'learning_rate': 0.01855198913042589, 'n_estimators': 582, 'min_child_samples': 10, 'subsample': 0.6388112636623806, 'colsample_bytree': 0.8010457077497514, 'reg_alpha': 0.5894793965355791, 'reg_lambda': 0.0001329692120898211, 'imputation_method': 'mean', 'rarelabel_tol': 0.004584858974788262, 'encoding_method': 'onehot', 'scaler_method': 'minmax'}. Best is trial 3 with value: 0.6872924759652996.\n",
      "[I 2025-10-23 19:32:28,734] Trial 5 finished with value: 0.6262481231017534 and parameters: {'num_leaves': 178, 'max_depth': 12, 'learning_rate': 0.010448456017525478, 'n_estimators': 531, 'min_child_samples': 14, 'subsample': 0.7306963579660285, 'colsample_bytree': 0.8047785728418433, 'reg_alpha': 0.473859271575584, 'reg_lambda': 0.00016071078550325437, 'imputation_method': 'mean', 'rarelabel_tol': 0.004603266245364496, 'encoding_method': 'onehot', 'scaler_method': 'standard'}. Best is trial 3 with value: 0.6872924759652996.\n",
      "[I 2025-10-23 19:32:31,276] Trial 6 finished with value: 0.6748933649063216 and parameters: {'num_leaves': 177, 'max_depth': 5, 'learning_rate': 0.013595172051301842, 'n_estimators': 576, 'min_child_samples': 6, 'subsample': 0.8365013646561499, 'colsample_bytree': 0.7697105548189033, 'reg_alpha': 0.34914718728214755, 'reg_lambda': 7.244630782016876, 'imputation_method': 'median', 'rarelabel_tol': 0.002996298965888903, 'encoding_method': 'ordered', 'scaler_method': 'standard'}. Best is trial 3 with value: 0.6872924759652996.\n",
      "[I 2025-10-23 19:32:39,931] Trial 7 finished with value: 0.6333468040241546 and parameters: {'num_leaves': 298, 'max_depth': 9, 'learning_rate': 0.008115472889073523, 'n_estimators': 756, 'min_child_samples': 7, 'subsample': 0.6304494811543129, 'colsample_bytree': 0.7395144292112608, 'reg_alpha': 0.48013892603469954, 'reg_lambda': 0.06943522593831547, 'imputation_method': 'median', 'rarelabel_tol': 0.004244730072511498, 'encoding_method': 'onehot', 'scaler_method': 'standard'}. Best is trial 3 with value: 0.6872924759652996.\n",
      "[I 2025-10-23 19:32:43,178] Trial 8 finished with value: 0.6411091636872426 and parameters: {'num_leaves': 286, 'max_depth': 6, 'learning_rate': 0.01931685274960733, 'n_estimators': 740, 'min_child_samples': 7, 'subsample': 0.695640339402634, 'colsample_bytree': 0.7844573136690055, 'reg_alpha': 3.186270174628791, 'reg_lambda': 0.25231309437941285, 'imputation_method': 'mean', 'rarelabel_tol': 0.0038305800384424403, 'encoding_method': 'onehot', 'scaler_method': 'standard'}. Best is trial 3 with value: 0.6872924759652996.\n",
      "[I 2025-10-23 19:32:51,507] Trial 9 finished with value: 0.6890609208805107 and parameters: {'num_leaves': 186, 'max_depth': 7, 'learning_rate': 0.008817351759028794, 'n_estimators': 797, 'min_child_samples': 7, 'subsample': 0.6548106635253633, 'colsample_bytree': 0.7636929152700445, 'reg_alpha': 9.371509884255788, 'reg_lambda': 0.00021761147730702814, 'imputation_method': 'mean', 'rarelabel_tol': 0.003270088646746995, 'encoding_method': 'ordered', 'scaler_method': 'standard'}. Best is trial 9 with value: 0.6890609208805107.\n"
     ]
    }
   ],
   "source": [
    "study = optuna.create_study(direction='maximize')\n",
    "study.optimize(objective, n_trials=10, show_progress_bar=True)"
   ]
  },
  {
   "cell_type": "code",
   "execution_count": 54,
   "id": "cf354892",
   "metadata": {},
   "outputs": [
    {
     "data": {
      "text/plain": [
       "{'num_leaves': 186,\n",
       " 'max_depth': 7,\n",
       " 'learning_rate': 0.008817351759028794,\n",
       " 'n_estimators': 797,\n",
       " 'min_child_samples': 7,\n",
       " 'subsample': 0.6548106635253633,\n",
       " 'colsample_bytree': 0.7636929152700445,\n",
       " 'reg_alpha': 9.371509884255788,\n",
       " 'reg_lambda': 0.00021761147730702814,\n",
       " 'imputation_method': 'mean',\n",
       " 'rarelabel_tol': 0.003270088646746995,\n",
       " 'encoding_method': 'ordered',\n",
       " 'scaler_method': 'standard'}"
      ]
     },
     "execution_count": 54,
     "metadata": {},
     "output_type": "execute_result"
    }
   ],
   "source": [
    "study.best_params"
   ]
  },
  {
   "cell_type": "code",
   "execution_count": 55,
   "id": "dc2e5f86",
   "metadata": {},
   "outputs": [
    {
     "data": {
      "text/plain": [
       "0.6890609208805107"
      ]
     },
     "execution_count": 55,
     "metadata": {},
     "output_type": "execute_result"
    }
   ],
   "source": [
    "study.best_value\n"
   ]
  },
  {
   "cell_type": "code",
   "execution_count": 57,
   "id": "58e79146",
   "metadata": {},
   "outputs": [
    {
     "data": {
      "text/plain": [
       "{'num_leaves': 186,\n",
       " 'max_depth': 7,\n",
       " 'learning_rate': 0.008817351759028794,\n",
       " 'n_estimators': 797,\n",
       " 'min_child_samples': 7,\n",
       " 'subsample': 0.6548106635253633,\n",
       " 'colsample_bytree': 0.7636929152700445,\n",
       " 'reg_alpha': 9.371509884255788,\n",
       " 'reg_lambda': 0.00021761147730702814}"
      ]
     },
     "execution_count": 57,
     "metadata": {},
     "output_type": "execute_result"
    }
   ],
   "source": [
    "# Filtrar solo los parámetros del modelo LightGBM (quitar los de preprocesamiento)\n",
    "model_param_keys = [\n",
    "    'num_leaves', 'max_depth', 'learning_rate', 'n_estimators',\n",
    "    'min_child_samples', 'subsample', 'colsample_bytree',\n",
    "    'reg_alpha', 'reg_lambda'\n",
    "]\n",
    "best_model_params = {k: v for k, v in study.best_trial.params.items() if k in model_param_keys}\n",
    "best_model_params\n"
   ]
  },
  {
   "cell_type": "code",
   "execution_count": null,
   "id": "605acd92",
   "metadata": {},
   "outputs": [],
   "source": []
  },
  {
   "cell_type": "code",
   "execution_count": 58,
   "id": "4921dae5",
   "metadata": {},
   "outputs": [],
   "source": [
    "pipeline_steps = [\n",
    "    (\"missing_indicator\", AddMissingIndicator(variables=vars_with_na)),\n",
    "    (\"numerical_imputation\", MeanMedianImputer(imputation_method = best_pipeline['imputation_method'], variables=num_vars_na)),\n",
    "    (\"categorical_imputation\", CategoricalImputer(imputation_method='missing', fill_value='missing', variables=cat_vars_na)),\n",
    "    (\"rare_label_encoder\", RareLabelEncoder(tol=best_pipeline['rarelabel_tol'], variables=cat_vars, n_categories=1)),\n",
    "    (\"ordinal_encoder\", OrdinalEncoder(variables=cat_vars, encoding_method='ordered')),\n",
    "    (\"scaler\", SklearnTransformerWrapper(transformer=StandardScaler())),\n",
    "    (\"model\", lgb.LGBMRegressor(**best_model_params))\n",
    "]\n"
   ]
  },
  {
   "cell_type": "code",
   "execution_count": 59,
   "id": "3db9227b",
   "metadata": {},
   "outputs": [],
   "source": [
    "final_pipeline = Pipeline(pipeline_steps)"
   ]
  },
  {
   "cell_type": "code",
   "execution_count": null,
   "id": "26c7b5b2",
   "metadata": {},
   "outputs": [],
   "source": [
    "final_pipeline.fit(X_train, y_train)\n",
    "y_pred_train_lgb = final_pipeline.predict(X_train)\n",
    "r2_lgb = r2_score(y_train, y_pred_train_lgb)\n",
    "mse_lgb = np.sqrt(mean_squared_error(y_train, y_pred_train_lgb))\n",
    "mae_lgb = mean_absolute_error(y_train, y_pred_train_lgb)\n",
    "medae_lgb = median_absolute_error(y_train, y_pred_train_lgb)\n",
    "metrics_lgb_train = {\n",
    "    \"r2\": r2_lgb,\n",
    "    \"mse\": mse_lgb,\n",
    "    \"mae\": mae_lgb,\n",
    "    \"medae\": medae_lgb\n",
    "}\n",
    "\n",
    "y_pred_test_lgb = final_pipeline.predict(X_test)\n",
    "r2_lgb = r2_score(y_test, y_pred_test_lgb)\n",
    "mse_lgb = np.sqrt(mean_squared_error(y_test, y_pred_test_lgb))\n",
    "mae_lgb = mean_absolute_error(y_test, y_pred_test_lgb)\n",
    "medae_lgb = median_absolute_error(y_test, y_pred_test_lgb)\n",
    "metrics_lgb_test = {\n",
    "    \"r2\": r2_lgb,\n",
    "    \"mse\": mse_lgb,\n",
    "    \"mae\": mae_lgb,\n",
    "    \"medae\": medae_lgb\n",
    "}\n",
    "metrics_lgb = {\n",
    "    \"train\": metrics_lgb_train,\n",
    "    \"test\": metrics_lgb_test\n",
    "}\n",
    "metrics_lgb"
   ]
  },
  {
   "cell_type": "code",
   "execution_count": null,
   "id": "021c4a24",
   "metadata": {},
   "outputs": [],
   "source": []
  }
 ],
 "metadata": {
  "kernelspec": {
   "display_name": ".venv",
   "language": "python",
   "name": "python3"
  },
  "language_info": {
   "codemirror_mode": {
    "name": "ipython",
    "version": 3
   },
   "file_extension": ".py",
   "mimetype": "text/x-python",
   "name": "python",
   "nbconvert_exporter": "python",
   "pygments_lexer": "ipython3",
   "version": "3.11.5"
  }
 },
 "nbformat": 4,
 "nbformat_minor": 5
}
