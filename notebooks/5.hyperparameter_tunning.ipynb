{
 "cells": [
  {
   "cell_type": "markdown",
   "id": "52c0597b",
   "metadata": {},
   "source": [
    "## Realizar optimizacion con optuna pero de todo el pipeline, desde imputacion, tolerancia, encoding hasta el modelo"
   ]
  },
  {
   "cell_type": "code",
   "execution_count": 29,
   "id": "39a8e27e",
   "metadata": {},
   "outputs": [],
   "source": [
    "import pandas as pd\n",
    "import numpy as np\n",
    "import matplotlib.pyplot as plt\n",
    "import seaborn as sns\n",
    "from sklearn.model_selection import train_test_split\n",
    "from feature_engine.imputation import (AddMissingIndicator, \n",
    "                                       MeanMedianImputer, \n",
    "                                       CategoricalImputer\n",
    "                                       )\n",
    "from feature_engine.encoding import RareLabelEncoder, OneHotEncoder, OrdinalEncoder\n",
    "from feature_engine.wrappers import SklearnTransformerWrapper\n",
    "from sklearn.preprocessing import StandardScaler, MinMaxScaler\n",
    "from sklearn.pipeline import Pipeline\n",
    "import optuna\n",
    "import lightgbm as lgb\n",
    "from optuna.visualization import (plot_param_importances,\n",
    "                                  plot_optimization_history,\n",
    "                                  plot_parallel_coordinate,\n",
    "                                  plot_slice,\n",
    "                                  plot_contour)\n",
    "from sklearn.metrics import mean_squared_error, r2_score, mean_absolute_error, median_absolute_error\n"
   ]
  },
  {
   "cell_type": "code",
   "execution_count": 30,
   "id": "dad82cf9",
   "metadata": {},
   "outputs": [
    {
     "data": {
      "text/html": [
       "<div>\n",
       "<style scoped>\n",
       "    .dataframe tbody tr th:only-of-type {\n",
       "        vertical-align: middle;\n",
       "    }\n",
       "\n",
       "    .dataframe tbody tr th {\n",
       "        vertical-align: top;\n",
       "    }\n",
       "\n",
       "    .dataframe thead th {\n",
       "        text-align: right;\n",
       "    }\n",
       "</style>\n",
       "<table border=\"1\" class=\"dataframe\">\n",
       "  <thead>\n",
       "    <tr style=\"text-align: right;\">\n",
       "      <th></th>\n",
       "      <th>price</th>\n",
       "      <th>antiguedad</th>\n",
       "      <th>kilometraje</th>\n",
       "      <th>vehicle_brand</th>\n",
       "      <th>vehicle_line</th>\n",
       "      <th>location_state</th>\n",
       "    </tr>\n",
       "  </thead>\n",
       "  <tbody>\n",
       "    <tr>\n",
       "      <th>0</th>\n",
       "      <td>183900000</td>\n",
       "      <td>0.0</td>\n",
       "      <td>5800.0</td>\n",
       "      <td>byd</td>\n",
       "      <td>song</td>\n",
       "      <td>bogota_d.c.</td>\n",
       "    </tr>\n",
       "    <tr>\n",
       "      <th>1</th>\n",
       "      <td>64900000</td>\n",
       "      <td>8.0</td>\n",
       "      <td>59000.0</td>\n",
       "      <td>mazda</td>\n",
       "      <td>3</td>\n",
       "      <td>antioquia</td>\n",
       "    </tr>\n",
       "    <tr>\n",
       "      <th>2</th>\n",
       "      <td>72000000</td>\n",
       "      <td>6.0</td>\n",
       "      <td>47000.0</td>\n",
       "      <td>NaN</td>\n",
       "      <td>NaN</td>\n",
       "      <td>bogota_d.c.</td>\n",
       "    </tr>\n",
       "    <tr>\n",
       "      <th>3</th>\n",
       "      <td>59500000</td>\n",
       "      <td>0.0</td>\n",
       "      <td>3600.0</td>\n",
       "      <td>kia</td>\n",
       "      <td>picanto</td>\n",
       "      <td>bogota_d.c.</td>\n",
       "    </tr>\n",
       "    <tr>\n",
       "      <th>4</th>\n",
       "      <td>63000000</td>\n",
       "      <td>9.0</td>\n",
       "      <td>81000.0</td>\n",
       "      <td>nissan</td>\n",
       "      <td>x-trail</td>\n",
       "      <td>bogota_d.c.</td>\n",
       "    </tr>\n",
       "  </tbody>\n",
       "</table>\n",
       "</div>"
      ],
      "text/plain": [
       "       price  antiguedad  kilometraje vehicle_brand vehicle_line  \\\n",
       "0  183900000         0.0       5800.0           byd         song   \n",
       "1   64900000         8.0      59000.0         mazda            3   \n",
       "2   72000000         6.0      47000.0           NaN          NaN   \n",
       "3   59500000         0.0       3600.0           kia      picanto   \n",
       "4   63000000         9.0      81000.0        nissan      x-trail   \n",
       "\n",
       "  location_state  \n",
       "0    bogota_d.c.  \n",
       "1      antioquia  \n",
       "2    bogota_d.c.  \n",
       "3    bogota_d.c.  \n",
       "4    bogota_d.c.  "
      ]
     },
     "execution_count": 30,
     "metadata": {},
     "output_type": "execute_result"
    }
   ],
   "source": [
    "data_gold = pd.read_excel(\"../data/gold/car_gold.xlsx\")\n",
    "## selected feature\n",
    "features = [\"price\", \"antiguedad\", \"kilometraje\", \"vehicle_brand\", \"vehicle_line\", 'location_state']\n",
    "data_gold = data_gold[features]\n",
    "data_gold.head()\n",
    "\n"
   ]
  },
  {
   "cell_type": "code",
   "execution_count": 31,
   "id": "211a668e",
   "metadata": {},
   "outputs": [],
   "source": [
    "## dividir en train y test\n",
    "X_train, X_test, y_train, y_test = train_test_split(data_gold.drop(labels=['price'], axis=1),\n",
    "                                                    data_gold['price'],\n",
    "                                                    test_size=0.3,\n",
    "                                                    random_state=0) # reproducibilidad"
   ]
  },
  {
   "cell_type": "code",
   "execution_count": 32,
   "id": "6395f6f2",
   "metadata": {},
   "outputs": [],
   "source": [
    "def autoconfigure_features(data):\n",
    "    vars_with_na = [var for var in data.columns if data[var].isnull().sum() > 0]\n",
    "    num_vars = data.select_dtypes(include=['int64', 'float64']).columns\n",
    "    num_vars_na = [var for var in num_vars if var in vars_with_na]\n",
    "    cat_vars = data.select_dtypes(include=['object']).columns\n",
    "    cat_vars_na = [var for var in cat_vars if var in vars_with_na]\n",
    "\n",
    "    output = {\n",
    "        \"num_vars\": num_vars_na,\n",
    "        \"cat_vars\": cat_vars_na,\n",
    "        \"vars_with_na\": vars_with_na,\n",
    "        \"num_vars_na\": num_vars_na,\n",
    "        \"cat_vars_na\": cat_vars_na\n",
    "    }\n",
    "    return output\n"
   ]
  },
  {
   "cell_type": "code",
   "execution_count": 33,
   "id": "2f64e902",
   "metadata": {},
   "outputs": [],
   "source": [
    "variables = autoconfigure_features(data_gold)"
   ]
  },
  {
   "cell_type": "code",
   "execution_count": 34,
   "id": "e65a7d5f",
   "metadata": {},
   "outputs": [],
   "source": [
    "num_vars_na = variables['num_vars_na']\n",
    "cat_vars_na = variables['cat_vars_na']\n",
    "vars_with_na = variables['vars_with_na']\n",
    "num_vars = variables['num_vars']\n",
    "cat_vars = variables['cat_vars']\n"
   ]
  },
  {
   "cell_type": "code",
   "execution_count": 61,
   "id": "fbd3e8db",
   "metadata": {},
   "outputs": [],
   "source": [
    "def objective(trial):\n",
    "    params = {\n",
    "        \"objective\": \"regression\",\n",
    "        \"metric\": \"mse\",\n",
    "        \"verbosity\": -1,\n",
    "        \"boosting_type\": \"gbdt\",\n",
    "        \"num_leaves\": trial.suggest_int(\"num_leaves\", 150, 300),\n",
    "        \"max_depth\": trial.suggest_int(\"max_depth\", 3, 15),\n",
    "        \"learning_rate\": trial.suggest_float(\"learning_rate\", 0.008, 0.02, log=True),\n",
    "        \"n_estimators\": trial.suggest_int(\"n_estimators\", 500, 800),\n",
    "        \"min_child_samples\": trial.suggest_int(\"min_child_samples\", 5, 30),\n",
    "        \"subsample\": trial.suggest_float(\"subsample\", 0.5, 1.0),\n",
    "        \"colsample_bytree\": trial.suggest_float(\"colsample_bytree\", 0.7, 0.9),\n",
    "        \"reg_alpha\": trial.suggest_float(\"reg_alpha\", 1e-4, 10.0, log=True),\n",
    "        \"reg_lambda\": trial.suggest_float(\"reg_lambda\", 1e-4, 10.0, log=True),\n",
    "    }\n",
    "    imputation_method_suggest = trial.suggest_categorical('imputation_method', ['median', 'mean'])\n",
    "    rarelabel_tol_suggest = trial.suggest_float('rarelabel_tol', 0.0009, 0.005)\n",
    "    encoding_method_suggest = trial.suggest_categorical('encoding_method', ['ordered', 'onehot'])\n",
    "    scaler_method_suggest = trial.suggest_categorical('scaler_method', ['standard', 'minmax'])\n",
    "    pipeline_steps = [\n",
    "        (\"missing_indicator\", AddMissingIndicator(variables=vars_with_na)),\n",
    "        (\"numerical_imputation\", MeanMedianImputer(imputation_method=imputation_method_suggest, variables=num_vars_na)),\n",
    "        (\"categorical_imputation\", CategoricalImputer(imputation_method='missing', fill_value='missing', variables=cat_vars_na)),\n",
    "        (\"rare_label_encoder\", RareLabelEncoder(tol=rarelabel_tol_suggest, variables=cat_vars, n_categories=1)),\n",
    "    ]\n",
    "    if encoding_method_suggest == 'ordered':\n",
    "        pipeline_steps.append((\"ordinal_encoder\", OrdinalEncoder(variables=cat_vars, encoding_method='ordered')))\n",
    "    else:\n",
    "        pipeline_steps.append((\"onehot_encoder\", OneHotEncoder(variables=cat_vars, drop_last=True)))\n",
    "    \n",
    "    if scaler_method_suggest == 'standard':\n",
    "        pipeline_steps.append((\"scaler\", SklearnTransformerWrapper(transformer=StandardScaler())))\n",
    "    else:\n",
    "        pipeline_steps.append((\"scaler\", SklearnTransformerWrapper(transformer=MinMaxScaler())))\n",
    "    \n",
    "    pipeline_steps.append((\"model\", lgb.LGBMRegressor(**params)))\n",
    "    \n",
    "    pipeline = Pipeline(pipeline_steps)\n",
    "    pipeline.fit(X_train, y_train)\n",
    "    y_pred_train = pipeline.predict(X_train)\n",
    "    y_pred_test = pipeline.predict(X_test)\n",
    "    r2 = r2_score(y_test, y_pred_test)\n",
    "    return r2\n",
    "    \n",
    "    "
   ]
  },
  {
   "cell_type": "code",
   "execution_count": 62,
   "id": "b322d096",
   "metadata": {},
   "outputs": [
    {
     "name": "stderr",
     "output_type": "stream",
     "text": [
      "[I 2025-10-23 19:38:14,352] A new study created in memory with name: no-name-c5a45880-dd4b-42ef-9ea9-92499851d058\n"
     ]
    },
    {
     "data": {
      "application/vnd.jupyter.widget-view+json": {
       "model_id": "03d5829a8d454fa9a27b5553eb325a36",
       "version_major": 2,
       "version_minor": 0
      },
      "text/plain": [
       "  0%|          | 0/100 [00:00<?, ?it/s]"
      ]
     },
     "metadata": {},
     "output_type": "display_data"
    },
    {
     "name": "stdout",
     "output_type": "stream",
     "text": [
      "[I 2025-10-23 19:38:16,910] Trial 0 finished with value: 0.5891308160626638 and parameters: {'num_leaves': 153, 'max_depth': 7, 'learning_rate': 0.01453804717479783, 'n_estimators': 627, 'min_child_samples': 28, 'subsample': 0.958737385281806, 'colsample_bytree': 0.8505294385655255, 'reg_alpha': 0.019738570956098947, 'reg_lambda': 2.598602111873286, 'imputation_method': 'median', 'rarelabel_tol': 0.002586807728988591, 'encoding_method': 'onehot', 'scaler_method': 'minmax'}. Best is trial 0 with value: 0.5891308160626638.\n",
      "[I 2025-10-23 19:38:20,100] Trial 1 finished with value: 0.6942911216464291 and parameters: {'num_leaves': 193, 'max_depth': 6, 'learning_rate': 0.014825945370211823, 'n_estimators': 609, 'min_child_samples': 19, 'subsample': 0.951500620281734, 'colsample_bytree': 0.8828799092333501, 'reg_alpha': 0.047195156994219806, 'reg_lambda': 0.000443807344962488, 'imputation_method': 'median', 'rarelabel_tol': 0.0020820357340203236, 'encoding_method': 'ordered', 'scaler_method': 'standard'}. Best is trial 1 with value: 0.6942911216464291.\n",
      "[I 2025-10-23 19:38:29,656] Trial 2 finished with value: 0.6975417819020564 and parameters: {'num_leaves': 161, 'max_depth': 9, 'learning_rate': 0.013882150444553772, 'n_estimators': 707, 'min_child_samples': 10, 'subsample': 0.9789049661639339, 'colsample_bytree': 0.8946127687987463, 'reg_alpha': 0.21151987014629114, 'reg_lambda': 0.25763255486948294, 'imputation_method': 'median', 'rarelabel_tol': 0.0018860820540646738, 'encoding_method': 'ordered', 'scaler_method': 'standard'}. Best is trial 2 with value: 0.6975417819020564.\n",
      "[I 2025-10-23 19:38:35,374] Trial 3 finished with value: 0.6063693913008062 and parameters: {'num_leaves': 160, 'max_depth': 13, 'learning_rate': 0.011097034643231725, 'n_estimators': 680, 'min_child_samples': 26, 'subsample': 0.7390971674631126, 'colsample_bytree': 0.8548355118261477, 'reg_alpha': 0.00012058808994341292, 'reg_lambda': 1.5380280931689974, 'imputation_method': 'median', 'rarelabel_tol': 0.0024095044756131134, 'encoding_method': 'onehot', 'scaler_method': 'minmax'}. Best is trial 2 with value: 0.6975417819020564.\n",
      "[I 2025-10-23 19:38:36,490] Trial 4 finished with value: 0.5722532097485108 and parameters: {'num_leaves': 291, 'max_depth': 3, 'learning_rate': 0.019746438679814904, 'n_estimators': 653, 'min_child_samples': 16, 'subsample': 0.8786832471859054, 'colsample_bytree': 0.8658956244657722, 'reg_alpha': 0.05924790172294369, 'reg_lambda': 6.359754463501299, 'imputation_method': 'mean', 'rarelabel_tol': 0.003674824789172649, 'encoding_method': 'onehot', 'scaler_method': 'standard'}. Best is trial 2 with value: 0.6975417819020564.\n",
      "[I 2025-10-23 19:38:44,386] Trial 5 finished with value: 0.6705691372292828 and parameters: {'num_leaves': 260, 'max_depth': 10, 'learning_rate': 0.011613877681850331, 'n_estimators': 657, 'min_child_samples': 28, 'subsample': 0.7814134775022922, 'colsample_bytree': 0.8089993785950917, 'reg_alpha': 0.0008908496088972229, 'reg_lambda': 0.009825754522048858, 'imputation_method': 'mean', 'rarelabel_tol': 0.003944921377874122, 'encoding_method': 'ordered', 'scaler_method': 'minmax'}. Best is trial 2 with value: 0.6975417819020564.\n",
      "[I 2025-10-23 19:38:50,372] Trial 6 finished with value: 0.6233387969263354 and parameters: {'num_leaves': 281, 'max_depth': 12, 'learning_rate': 0.012597624371724563, 'n_estimators': 512, 'min_child_samples': 14, 'subsample': 0.9440247681154585, 'colsample_bytree': 0.7839309010137601, 'reg_alpha': 2.275844474346495, 'reg_lambda': 0.06691190648068648, 'imputation_method': 'median', 'rarelabel_tol': 0.0036873670755633637, 'encoding_method': 'onehot', 'scaler_method': 'standard'}. Best is trial 2 with value: 0.6975417819020564.\n",
      "[I 2025-10-23 19:38:59,627] Trial 7 finished with value: 0.6293394558414871 and parameters: {'num_leaves': 273, 'max_depth': 15, 'learning_rate': 0.008666783882779762, 'n_estimators': 611, 'min_child_samples': 10, 'subsample': 0.8332635026624935, 'colsample_bytree': 0.862760341857379, 'reg_alpha': 0.06893907710778023, 'reg_lambda': 8.900478532942715, 'imputation_method': 'mean', 'rarelabel_tol': 0.001057625319833307, 'encoding_method': 'onehot', 'scaler_method': 'minmax'}. Best is trial 2 with value: 0.6975417819020564.\n",
      "[I 2025-10-23 19:39:14,497] Trial 8 finished with value: 0.6807331126947693 and parameters: {'num_leaves': 204, 'max_depth': 12, 'learning_rate': 0.008063194184319415, 'n_estimators': 601, 'min_child_samples': 16, 'subsample': 0.7668353872006163, 'colsample_bytree': 0.8316004981441953, 'reg_alpha': 0.06069947925888488, 'reg_lambda': 0.023240884009346794, 'imputation_method': 'mean', 'rarelabel_tol': 0.0035697510746393905, 'encoding_method': 'ordered', 'scaler_method': 'standard'}. Best is trial 2 with value: 0.6975417819020564.\n",
      "[I 2025-10-23 19:39:18,029] Trial 9 finished with value: 0.6055181220701891 and parameters: {'num_leaves': 285, 'max_depth': 8, 'learning_rate': 0.0096495073248614, 'n_estimators': 515, 'min_child_samples': 16, 'subsample': 0.7355454177450225, 'colsample_bytree': 0.8366595601860852, 'reg_alpha': 0.0058931807056444695, 'reg_lambda': 0.0036568958470127337, 'imputation_method': 'median', 'rarelabel_tol': 0.0028159112782488306, 'encoding_method': 'onehot', 'scaler_method': 'minmax'}. Best is trial 2 with value: 0.6975417819020564.\n",
      "[I 2025-10-23 19:39:19,131] Trial 10 finished with value: 0.6298508920268819 and parameters: {'num_leaves': 237, 'max_depth': 3, 'learning_rate': 0.017731335791207194, 'n_estimators': 793, 'min_child_samples': 6, 'subsample': 0.585582605419467, 'colsample_bytree': 0.7519415806792654, 'reg_alpha': 2.051282964979464, 'reg_lambda': 0.21843815490452023, 'imputation_method': 'median', 'rarelabel_tol': 0.004927983836630493, 'encoding_method': 'ordered', 'scaler_method': 'standard'}. Best is trial 2 with value: 0.6975417819020564.\n",
      "[I 2025-10-23 19:39:22,465] Trial 11 finished with value: 0.6975962644495128 and parameters: {'num_leaves': 191, 'max_depth': 6, 'learning_rate': 0.01504628408986513, 'n_estimators': 732, 'min_child_samples': 20, 'subsample': 0.9883893549860521, 'colsample_bytree': 0.8953150802306201, 'reg_alpha': 0.43134103620006375, 'reg_lambda': 0.00013168850743344872, 'imputation_method': 'median', 'rarelabel_tol': 0.0016863300617096493, 'encoding_method': 'ordered', 'scaler_method': 'standard'}. Best is trial 11 with value: 0.6975962644495128.\n",
      "[I 2025-10-23 19:39:24,769] Trial 12 finished with value: 0.6936963492394149 and parameters: {'num_leaves': 181, 'max_depth': 5, 'learning_rate': 0.015139951082637576, 'n_estimators': 741, 'min_child_samples': 21, 'subsample': 0.9996324693014732, 'colsample_bytree': 0.898842594237658, 'reg_alpha': 0.6527869065168727, 'reg_lambda': 0.00011687162822858855, 'imputation_method': 'median', 'rarelabel_tol': 0.0015246886080487244, 'encoding_method': 'ordered', 'scaler_method': 'standard'}. Best is trial 11 with value: 0.6975962644495128.\n",
      "[I 2025-10-23 19:39:32,827] Trial 13 finished with value: 0.7003070655050492 and parameters: {'num_leaves': 174, 'max_depth': 10, 'learning_rate': 0.01647919978234518, 'n_estimators': 721, 'min_child_samples': 23, 'subsample': 0.6289992735820701, 'colsample_bytree': 0.7321014918600792, 'reg_alpha': 0.4414755185425328, 'reg_lambda': 0.4418892897533997, 'imputation_method': 'median', 'rarelabel_tol': 0.0018320445870208346, 'encoding_method': 'ordered', 'scaler_method': 'standard'}. Best is trial 13 with value: 0.7003070655050492.\n",
      "[I 2025-10-23 19:39:41,417] Trial 14 finished with value: 0.7104158548806987 and parameters: {'num_leaves': 209, 'max_depth': 10, 'learning_rate': 0.016747225193501063, 'n_estimators': 750, 'min_child_samples': 23, 'subsample': 0.6054489366256162, 'colsample_bytree': 0.7077051679852768, 'reg_alpha': 0.5036474455558967, 'reg_lambda': 0.0018387471235129002, 'imputation_method': 'median', 'rarelabel_tol': 0.0012482245579957063, 'encoding_method': 'ordered', 'scaler_method': 'standard'}. Best is trial 14 with value: 0.7104158548806987.\n",
      "[I 2025-10-23 19:39:49,921] Trial 15 finished with value: 0.7155673206759485 and parameters: {'num_leaves': 219, 'max_depth': 10, 'learning_rate': 0.017553991145742836, 'n_estimators': 798, 'min_child_samples': 24, 'subsample': 0.5800620854348443, 'colsample_bytree': 0.7002859308160075, 'reg_alpha': 8.439300530986253, 'reg_lambda': 0.0025995469472050317, 'imputation_method': 'median', 'rarelabel_tol': 0.0009164576143421647, 'encoding_method': 'ordered', 'scaler_method': 'standard'}. Best is trial 15 with value: 0.7155673206759485.\n",
      "[I 2025-10-23 19:39:59,520] Trial 16 finished with value: 0.7131661203180847 and parameters: {'num_leaves': 221, 'max_depth': 11, 'learning_rate': 0.01953022895504346, 'n_estimators': 800, 'min_child_samples': 25, 'subsample': 0.5086219198502604, 'colsample_bytree': 0.7002211130132783, 'reg_alpha': 8.52430192468374, 'reg_lambda': 0.001803798647313972, 'imputation_method': 'median', 'rarelabel_tol': 0.0011258436231146873, 'encoding_method': 'ordered', 'scaler_method': 'standard'}. Best is trial 15 with value: 0.7155673206759485.\n",
      "[I 2025-10-23 19:40:12,424] Trial 17 finished with value: 0.7092261176407902 and parameters: {'num_leaves': 238, 'max_depth': 14, 'learning_rate': 0.01942588382223519, 'n_estimators': 790, 'min_child_samples': 25, 'subsample': 0.5082864622238665, 'colsample_bytree': 0.7024553302956396, 'reg_alpha': 8.468202091196986, 'reg_lambda': 0.0010256072981721302, 'imputation_method': 'median', 'rarelabel_tol': 0.0009371954142411929, 'encoding_method': 'ordered', 'scaler_method': 'standard'}. Best is trial 15 with value: 0.7155673206759485.\n",
      "[I 2025-10-23 19:40:22,005] Trial 18 finished with value: 0.7047966888290784 and parameters: {'num_leaves': 220, 'max_depth': 12, 'learning_rate': 0.01805487906709871, 'n_estimators': 767, 'min_child_samples': 29, 'subsample': 0.5027136413861241, 'colsample_bytree': 0.7540502522351917, 'reg_alpha': 9.107315339882083, 'reg_lambda': 0.007264100152740055, 'imputation_method': 'mean', 'rarelabel_tol': 0.0012970646472052613, 'encoding_method': 'ordered', 'scaler_method': 'standard'}. Best is trial 15 with value: 0.7155673206759485.\n",
      "[I 2025-10-23 19:40:30,748] Trial 19 finished with value: 0.693483567185889 and parameters: {'num_leaves': 253, 'max_depth': 11, 'learning_rate': 0.019920106390657232, 'n_estimators': 796, 'min_child_samples': 30, 'subsample': 0.672928679490949, 'colsample_bytree': 0.7291843857225396, 'reg_alpha': 2.464073721336352, 'reg_lambda': 0.0005205249478643474, 'imputation_method': 'median', 'rarelabel_tol': 0.0021850583769337205, 'encoding_method': 'ordered', 'scaler_method': 'standard'}. Best is trial 15 with value: 0.7155673206759485.\n",
      "[I 2025-10-23 19:40:35,161] Trial 20 finished with value: 0.6902403695750721 and parameters: {'num_leaves': 227, 'max_depth': 8, 'learning_rate': 0.016527462752965193, 'n_estimators': 565, 'min_child_samples': 25, 'subsample': 0.5675130121023373, 'colsample_bytree': 0.7708941223325796, 'reg_alpha': 0.007096332907130898, 'reg_lambda': 0.028317109317710185, 'imputation_method': 'median', 'rarelabel_tol': 0.0031212649604475257, 'encoding_method': 'ordered', 'scaler_method': 'standard'}. Best is trial 15 with value: 0.7155673206759485.\n",
      "[I 2025-10-23 19:40:43,457] Trial 21 finished with value: 0.7091354307708755 and parameters: {'num_leaves': 212, 'max_depth': 10, 'learning_rate': 0.017387663079107652, 'n_estimators': 755, 'min_child_samples': 24, 'subsample': 0.5617653793315064, 'colsample_bytree': 0.7000313622845943, 'reg_alpha': 4.200610117430938, 'reg_lambda': 0.001916454366367577, 'imputation_method': 'median', 'rarelabel_tol': 0.0012890373275166447, 'encoding_method': 'ordered', 'scaler_method': 'standard'}. Best is trial 15 with value: 0.7155673206759485.\n",
      "[I 2025-10-23 19:40:51,054] Trial 22 finished with value: 0.6964983437829635 and parameters: {'num_leaves': 207, 'max_depth': 9, 'learning_rate': 0.016175211776053272, 'n_estimators': 771, 'min_child_samples': 22, 'subsample': 0.6696825722045983, 'colsample_bytree': 0.7169211023317443, 'reg_alpha': 0.8860732130498762, 'reg_lambda': 0.0027004729745499756, 'imputation_method': 'median', 'rarelabel_tol': 0.0014029353752474348, 'encoding_method': 'ordered', 'scaler_method': 'standard'}. Best is trial 15 with value: 0.7155673206759485.\n",
      "[I 2025-10-23 19:40:58,980] Trial 23 finished with value: 0.7147916512833128 and parameters: {'num_leaves': 236, 'max_depth': 11, 'learning_rate': 0.018663070209230782, 'n_estimators': 691, 'min_child_samples': 27, 'subsample': 0.6188493046749526, 'colsample_bytree': 0.7233551547276779, 'reg_alpha': 8.834842652059647, 'reg_lambda': 0.0006937411813274421, 'imputation_method': 'median', 'rarelabel_tol': 0.0009201748041271563, 'encoding_method': 'ordered', 'scaler_method': 'standard'}. Best is trial 15 with value: 0.7155673206759485.\n",
      "[I 2025-10-23 19:41:07,270] Trial 24 finished with value: 0.7159047019029596 and parameters: {'num_leaves': 246, 'max_depth': 11, 'learning_rate': 0.017934952443798835, 'n_estimators': 689, 'min_child_samples': 27, 'subsample': 0.5376849059676656, 'colsample_bytree': 0.7278181354848025, 'reg_alpha': 8.87414941692603, 'reg_lambda': 0.00039680932249960653, 'imputation_method': 'median', 'rarelabel_tol': 0.0009278738223438962, 'encoding_method': 'ordered', 'scaler_method': 'standard'}. Best is trial 24 with value: 0.7159047019029596.\n",
      "[I 2025-10-23 19:41:18,381] Trial 25 finished with value: 0.7159546635026681 and parameters: {'num_leaves': 248, 'max_depth': 13, 'learning_rate': 0.013374254954132546, 'n_estimators': 698, 'min_child_samples': 26, 'subsample': 0.645329459761107, 'colsample_bytree': 0.7369035744571495, 'reg_alpha': 1.5067675265112355, 'reg_lambda': 0.0003452940646843465, 'imputation_method': 'median', 'rarelabel_tol': 0.0009445058867852159, 'encoding_method': 'ordered', 'scaler_method': 'standard'}. Best is trial 25 with value: 0.7159546635026681.\n",
      "[I 2025-10-23 19:41:29,431] Trial 26 finished with value: 0.6902408495933758 and parameters: {'num_leaves': 254, 'max_depth': 15, 'learning_rate': 0.013243026046025636, 'n_estimators': 683, 'min_child_samples': 30, 'subsample': 0.6659419242751949, 'colsample_bytree': 0.7459438792258822, 'reg_alpha': 1.6094153885945572, 'reg_lambda': 0.0002497808175498418, 'imputation_method': 'mean', 'rarelabel_tol': 0.0016199009827533514, 'encoding_method': 'ordered', 'scaler_method': 'minmax'}. Best is trial 25 with value: 0.7159546635026681.\n",
      "[I 2025-10-23 19:41:39,832] Trial 27 finished with value: 0.6633428271114344 and parameters: {'num_leaves': 266, 'max_depth': 13, 'learning_rate': 0.012189646318729217, 'n_estimators': 709, 'min_child_samples': 27, 'subsample': 0.5375494761313196, 'colsample_bytree': 0.7774467654028165, 'reg_alpha': 3.2871659905403146, 'reg_lambda': 0.00030036798275434785, 'imputation_method': 'median', 'rarelabel_tol': 0.004724105261824675, 'encoding_method': 'ordered', 'scaler_method': 'standard'}. Best is trial 25 with value: 0.7159546635026681.\n",
      "[I 2025-10-23 19:41:53,223] Trial 28 finished with value: 0.6939134964825602 and parameters: {'num_leaves': 245, 'max_depth': 13, 'learning_rate': 0.01049811559192583, 'n_estimators': 570, 'min_child_samples': 19, 'subsample': 0.6966991563899473, 'colsample_bytree': 0.737988212824356, 'reg_alpha': 0.18251781254399962, 'reg_lambda': 0.007274211237355642, 'imputation_method': 'median', 'rarelabel_tol': 0.002221620608590771, 'encoding_method': 'ordered', 'scaler_method': 'standard'}. Best is trial 25 with value: 0.7159546635026681.\n",
      "[I 2025-10-23 19:41:59,562] Trial 29 finished with value: 0.6083959632806107 and parameters: {'num_leaves': 228, 'max_depth': 14, 'learning_rate': 0.014018288695139798, 'n_estimators': 640, 'min_child_samples': 28, 'subsample': 0.6386608357984007, 'colsample_bytree': 0.7640358460727021, 'reg_alpha': 0.17230247178673572, 'reg_lambda': 0.00022897902254257778, 'imputation_method': 'median', 'rarelabel_tol': 0.0026166733734190066, 'encoding_method': 'onehot', 'scaler_method': 'minmax'}. Best is trial 25 with value: 0.7159546635026681.\n",
      "[I 2025-10-23 19:42:05,071] Trial 30 finished with value: 0.7185348170162409 and parameters: {'num_leaves': 248, 'max_depth': 8, 'learning_rate': 0.01544776340781786, 'n_estimators': 669, 'min_child_samples': 22, 'subsample': 0.5442991045489123, 'colsample_bytree': 0.7920796160966974, 'reg_alpha': 1.331263262414404, 'reg_lambda': 0.0009210351003697613, 'imputation_method': 'median', 'rarelabel_tol': 0.0009103609310620422, 'encoding_method': 'ordered', 'scaler_method': 'standard'}. Best is trial 30 with value: 0.7185348170162409.\n",
      "[I 2025-10-23 19:42:10,770] Trial 31 finished with value: 0.6987124786095212 and parameters: {'num_leaves': 248, 'max_depth': 8, 'learning_rate': 0.013338112417952118, 'n_estimators': 662, 'min_child_samples': 22, 'subsample': 0.5476318638187069, 'colsample_bytree': 0.7999478651234317, 'reg_alpha': 1.4137252654219852, 'reg_lambda': 0.0008941643991261419, 'imputation_method': 'median', 'rarelabel_tol': 0.0014145695905347937, 'encoding_method': 'ordered', 'scaler_method': 'standard'}. Best is trial 30 with value: 0.7185348170162409.\n",
      "[I 2025-10-23 19:42:14,795] Trial 32 finished with value: 0.7181393519583892 and parameters: {'num_leaves': 266, 'max_depth': 7, 'learning_rate': 0.015564947262608273, 'n_estimators': 630, 'min_child_samples': 26, 'subsample': 0.5839248315648182, 'colsample_bytree': 0.713667540397456, 'reg_alpha': 4.011695720961489, 'reg_lambda': 0.001010198071406552, 'imputation_method': 'median', 'rarelabel_tol': 0.0009850579668538543, 'encoding_method': 'ordered', 'scaler_method': 'standard'}. Best is trial 30 with value: 0.7185348170162409.\n",
      "[I 2025-10-23 19:42:18,877] Trial 33 finished with value: 0.699017833233949 and parameters: {'num_leaves': 273, 'max_depth': 7, 'learning_rate': 0.01576064705792848, 'n_estimators': 623, 'min_child_samples': 26, 'subsample': 0.5379946554234011, 'colsample_bytree': 0.7161265745982733, 'reg_alpha': 3.5704420290880248, 'reg_lambda': 0.0004248338706765871, 'imputation_method': 'median', 'rarelabel_tol': 0.0019176100864035307, 'encoding_method': 'ordered', 'scaler_method': 'standard'}. Best is trial 30 with value: 0.7185348170162409.\n",
      "[I 2025-10-23 19:42:21,171] Trial 34 finished with value: 0.7049906985240726 and parameters: {'num_leaves': 298, 'max_depth': 5, 'learning_rate': 0.014657613573836114, 'n_estimators': 673, 'min_child_samples': 27, 'subsample': 0.5946562946127933, 'colsample_bytree': 0.7394924505604222, 'reg_alpha': 4.016675907109762, 'reg_lambda': 0.0009537834080334381, 'imputation_method': 'median', 'rarelabel_tol': 0.0011660027336583367, 'encoding_method': 'ordered', 'scaler_method': 'standard'}. Best is trial 30 with value: 0.7185348170162409.\n",
      "[I 2025-10-23 19:42:24,556] Trial 35 finished with value: 0.6946494722537483 and parameters: {'num_leaves': 264, 'max_depth': 6, 'learning_rate': 0.014117026604971253, 'n_estimators': 696, 'min_child_samples': 20, 'subsample': 0.646326795679607, 'colsample_bytree': 0.761426744382433, 'reg_alpha': 1.1627759373959448, 'reg_lambda': 0.00013822676632249589, 'imputation_method': 'median', 'rarelabel_tol': 0.0016851174060727708, 'encoding_method': 'ordered', 'scaler_method': 'standard'}. Best is trial 30 with value: 0.7185348170162409.\n",
      "[I 2025-10-23 19:42:27,845] Trial 36 finished with value: 0.6102785479329123 and parameters: {'num_leaves': 245, 'max_depth': 7, 'learning_rate': 0.015251643164508713, 'n_estimators': 629, 'min_child_samples': 18, 'subsample': 0.7071811475264346, 'colsample_bytree': 0.7915008657066259, 'reg_alpha': 0.01516779627048452, 'reg_lambda': 0.013361856854815786, 'imputation_method': 'median', 'rarelabel_tol': 0.001921823475301451, 'encoding_method': 'onehot', 'scaler_method': 'standard'}. Best is trial 30 with value: 0.7185348170162409.\n",
      "[I 2025-10-23 19:42:34,943] Trial 37 finished with value: 0.7119092136747059 and parameters: {'num_leaves': 258, 'max_depth': 9, 'learning_rate': 0.013346166517704029, 'n_estimators': 668, 'min_child_samples': 29, 'subsample': 0.5342978321585949, 'colsample_bytree': 0.8140707551810759, 'reg_alpha': 0.00020526834002714323, 'reg_lambda': 0.004725143308070912, 'imputation_method': 'mean', 'rarelabel_tol': 0.0011395880123937173, 'encoding_method': 'ordered', 'scaler_method': 'minmax'}. Best is trial 30 with value: 0.7185348170162409.\n",
      "[I 2025-10-23 19:42:36,307] Trial 38 finished with value: 0.6457344704021423 and parameters: {'num_leaves': 274, 'max_depth': 4, 'learning_rate': 0.012066478870165435, 'n_estimators': 591, 'min_child_samples': 26, 'subsample': 0.6164511800722323, 'colsample_bytree': 0.7159653233805487, 'reg_alpha': 0.10343809942806634, 'reg_lambda': 0.07890521906123144, 'imputation_method': 'median', 'rarelabel_tol': 0.004318585498186785, 'encoding_method': 'ordered', 'scaler_method': 'standard'}. Best is trial 30 with value: 0.7185348170162409.\n",
      "[I 2025-10-23 19:42:40,505] Trial 39 finished with value: 0.6019502671802799 and parameters: {'num_leaves': 265, 'max_depth': 8, 'learning_rate': 0.011340303213327123, 'n_estimators': 644, 'min_child_samples': 23, 'subsample': 0.5608697783755324, 'colsample_bytree': 0.8230170690583354, 'reg_alpha': 4.941902233755342, 'reg_lambda': 0.0004562754677803138, 'imputation_method': 'median', 'rarelabel_tol': 0.000913889489123937, 'encoding_method': 'onehot', 'scaler_method': 'standard'}. Best is trial 30 with value: 0.7185348170162409.\n",
      "[I 2025-10-23 19:42:51,022] Trial 40 finished with value: 0.6840631161982469 and parameters: {'num_leaves': 281, 'max_depth': 14, 'learning_rate': 0.01592667676297068, 'n_estimators': 713, 'min_child_samples': 29, 'subsample': 0.5269537407889228, 'colsample_bytree': 0.8776069609547311, 'reg_alpha': 0.9143968191102531, 'reg_lambda': 0.0012289684775844628, 'imputation_method': 'mean', 'rarelabel_tol': 0.0024043996457296904, 'encoding_method': 'ordered', 'scaler_method': 'minmax'}. Best is trial 30 with value: 0.7185348170162409.\n",
      "[I 2025-10-23 19:42:56,591] Trial 41 finished with value: 0.7167306287383803 and parameters: {'num_leaves': 232, 'max_depth': 7, 'learning_rate': 0.017205899625884112, 'n_estimators': 695, 'min_child_samples': 24, 'subsample': 0.5833964835446842, 'colsample_bytree': 0.7236923152522242, 'reg_alpha': 6.1929316365355405, 'reg_lambda': 0.0002550177393486946, 'imputation_method': 'median', 'rarelabel_tol': 0.0009088660087731637, 'encoding_method': 'ordered', 'scaler_method': 'standard'}. Best is trial 30 with value: 0.7185348170162409.\n",
      "[I 2025-10-23 19:43:00,869] Trial 42 finished with value: 0.697961897063121 and parameters: {'num_leaves': 232, 'max_depth': 7, 'learning_rate': 0.017132680973941387, 'n_estimators': 690, 'min_child_samples': 26, 'subsample': 0.5900045552480429, 'colsample_bytree': 0.7212210400993928, 'reg_alpha': 4.742252889333558, 'reg_lambda': 0.00022642163136752955, 'imputation_method': 'median', 'rarelabel_tol': 0.0014388191266164888, 'encoding_method': 'ordered', 'scaler_method': 'standard'}. Best is trial 30 with value: 0.7185348170162409.\n",
      "[I 2025-10-23 19:43:06,626] Trial 43 finished with value: 0.7173096877249696 and parameters: {'num_leaves': 242, 'max_depth': 7, 'learning_rate': 0.01443428454155546, 'n_estimators': 726, 'min_child_samples': 13, 'subsample': 0.8438679476759947, 'colsample_bytree': 0.7450839288952906, 'reg_alpha': 2.1280545016441224, 'reg_lambda': 0.0003139729056353724, 'imputation_method': 'median', 'rarelabel_tol': 0.0011184946192981204, 'encoding_method': 'ordered', 'scaler_method': 'standard'}. Best is trial 30 with value: 0.7185348170162409.\n",
      "[I 2025-10-23 19:43:12,323] Trial 44 finished with value: 0.7157989394687859 and parameters: {'num_leaves': 250, 'max_depth': 7, 'learning_rate': 0.015623716821617917, 'n_estimators': 721, 'min_child_samples': 12, 'subsample': 0.8404477839124522, 'colsample_bytree': 0.7474307595491572, 'reg_alpha': 0.33149373922719794, 'reg_lambda': 0.00010124117112468337, 'imputation_method': 'median', 'rarelabel_tol': 0.0011802426230075726, 'encoding_method': 'ordered', 'scaler_method': 'standard'}. Best is trial 30 with value: 0.7185348170162409.\n",
      "[I 2025-10-23 19:43:15,002] Trial 45 finished with value: 0.607011122854239 and parameters: {'num_leaves': 241, 'max_depth': 5, 'learning_rate': 0.01425449726290722, 'n_estimators': 656, 'min_child_samples': 14, 'subsample': 0.9035627313716967, 'colsample_bytree': 0.741735715978682, 'reg_alpha': 1.9662504313336806, 'reg_lambda': 0.00019453371774698952, 'imputation_method': 'median', 'rarelabel_tol': 0.0014703704619048298, 'encoding_method': 'onehot', 'scaler_method': 'standard'}. Best is trial 30 with value: 0.7185348170162409.\n",
      "[I 2025-10-23 19:43:20,288] Trial 46 finished with value: 0.7187058473596826 and parameters: {'num_leaves': 256, 'max_depth': 6, 'learning_rate': 0.012749480817728942, 'n_estimators': 701, 'min_child_samples': 6, 'subsample': 0.8345455858214752, 'colsample_bytree': 0.8487003583909248, 'reg_alpha': 0.8915339315238838, 'reg_lambda': 0.0005241828762221277, 'imputation_method': 'median', 'rarelabel_tol': 0.0011061982153530794, 'encoding_method': 'ordered', 'scaler_method': 'standard'}. Best is trial 46 with value: 0.7187058473596826.\n",
      "[I 2025-10-23 19:43:25,450] Trial 47 finished with value: 0.6997331803390584 and parameters: {'num_leaves': 258, 'max_depth': 6, 'learning_rate': 0.014851762436017645, 'n_estimators': 729, 'min_child_samples': 5, 'subsample': 0.8030240415910808, 'colsample_bytree': 0.8452922964375094, 'reg_alpha': 0.26820722701457367, 'reg_lambda': 0.0006792308223134409, 'imputation_method': 'median', 'rarelabel_tol': 0.0018058722962669845, 'encoding_method': 'ordered', 'scaler_method': 'standard'}. Best is trial 46 with value: 0.7187058473596826.\n",
      "[I 2025-10-23 19:43:27,156] Trial 48 finished with value: 0.67058110770713 and parameters: {'num_leaves': 275, 'max_depth': 4, 'learning_rate': 0.010406145447890303, 'n_estimators': 673, 'min_child_samples': 12, 'subsample': 0.8783691414760451, 'colsample_bytree': 0.8836651241546805, 'reg_alpha': 0.7397538458468299, 'reg_lambda': 0.0034775405398099336, 'imputation_method': 'mean', 'rarelabel_tol': 0.0031682149954889625, 'encoding_method': 'ordered', 'scaler_method': 'minmax'}. Best is trial 46 with value: 0.7187058473596826.\n",
      "[I 2025-10-23 19:43:33,289] Trial 49 finished with value: 0.6934418352513729 and parameters: {'num_leaves': 235, 'max_depth': 7, 'learning_rate': 0.012409616639150346, 'n_estimators': 633, 'min_child_samples': 7, 'subsample': 0.8416432921009331, 'colsample_bytree': 0.7884662163400346, 'reg_alpha': 2.536417387261709, 'reg_lambda': 3.026512707476608, 'imputation_method': 'median', 'rarelabel_tol': 0.0015874284311351776, 'encoding_method': 'ordered', 'scaler_method': 'standard'}. Best is trial 46 with value: 0.7187058473596826.\n",
      "[I 2025-10-23 19:43:36,745] Trial 50 finished with value: 0.6220546437492755 and parameters: {'num_leaves': 288, 'max_depth': 6, 'learning_rate': 0.01302636079401241, 'n_estimators': 615, 'min_child_samples': 9, 'subsample': 0.9325199114118414, 'colsample_bytree': 0.8622179415535846, 'reg_alpha': 0.5639164807258484, 'reg_lambda': 0.0014701163608904161, 'imputation_method': 'median', 'rarelabel_tol': 0.0011034440814081058, 'encoding_method': 'onehot', 'scaler_method': 'standard'}. Best is trial 46 with value: 0.7187058473596826.\n",
      "[I 2025-10-23 19:43:44,260] Trial 51 finished with value: 0.7142529888790909 and parameters: {'num_leaves': 261, 'max_depth': 8, 'learning_rate': 0.013614752723863312, 'n_estimators': 700, 'min_child_samples': 13, 'subsample': 0.7910027811064124, 'colsample_bytree': 0.7335629159357274, 'reg_alpha': 1.3698095599592892, 'reg_lambda': 0.00015722859426900085, 'imputation_method': 'median', 'rarelabel_tol': 0.00129432540811876, 'encoding_method': 'ordered', 'scaler_method': 'standard'}. Best is trial 46 with value: 0.7187058473596826.\n",
      "[I 2025-10-23 19:43:56,622] Trial 52 finished with value: 0.7081446174129367 and parameters: {'num_leaves': 269, 'max_depth': 9, 'learning_rate': 0.014513410195960474, 'n_estimators': 706, 'min_child_samples': 8, 'subsample': 0.7476544855001462, 'colsample_bytree': 0.7085784020464888, 'reg_alpha': 0.026334726320163104, 'reg_lambda': 0.0006316056163358383, 'imputation_method': 'median', 'rarelabel_tol': 0.0010722951691271645, 'encoding_method': 'ordered', 'scaler_method': 'standard'}. Best is trial 46 with value: 0.7187058473596826.\n",
      "[I 2025-10-23 19:44:00,860] Trial 53 finished with value: 0.7116498643191967 and parameters: {'num_leaves': 241, 'max_depth': 6, 'learning_rate': 0.012936416847878702, 'n_estimators': 742, 'min_child_samples': 16, 'subsample': 0.8129475438800128, 'colsample_bytree': 0.757019019249477, 'reg_alpha': 2.251389517675415, 'reg_lambda': 0.00034619937085056255, 'imputation_method': 'median', 'rarelabel_tol': 0.0010600462821502882, 'encoding_method': 'ordered', 'scaler_method': 'standard'}. Best is trial 46 with value: 0.7187058473596826.\n",
      "[I 2025-10-23 19:44:03,349] Trial 54 finished with value: 0.701355690075759 and parameters: {'num_leaves': 254, 'max_depth': 5, 'learning_rate': 0.011667378627212802, 'n_estimators': 722, 'min_child_samples': 22, 'subsample': 0.8897171843690865, 'colsample_bytree': 0.8431948663367232, 'reg_alpha': 5.196837061941967, 'reg_lambda': 0.00033282217334831165, 'imputation_method': 'median', 'rarelabel_tol': 0.001309424438021771, 'encoding_method': 'ordered', 'scaler_method': 'standard'}. Best is trial 46 with value: 0.7187058473596826.\n",
      "[I 2025-10-23 19:44:08,852] Trial 55 finished with value: 0.7156958928873167 and parameters: {'num_leaves': 230, 'max_depth': 8, 'learning_rate': 0.013802691101093298, 'n_estimators': 652, 'min_child_samples': 24, 'subsample': 0.8565327029481743, 'colsample_bytree': 0.8278752610233981, 'reg_alpha': 0.9205744401718191, 'reg_lambda': 0.0006806721163664311, 'imputation_method': 'median', 'rarelabel_tol': 0.0010531072487641364, 'encoding_method': 'ordered', 'scaler_method': 'standard'}. Best is trial 46 with value: 0.7187058473596826.\n",
      "[I 2025-10-23 19:44:14,534] Trial 56 finished with value: 0.6921976238628127 and parameters: {'num_leaves': 214, 'max_depth': 7, 'learning_rate': 0.015401325281490724, 'n_estimators': 678, 'min_child_samples': 10, 'subsample': 0.7681506468565685, 'colsample_bytree': 0.772726392639386, 'reg_alpha': 6.3078251677521235, 'reg_lambda': 0.0011244091180481785, 'imputation_method': 'median', 'rarelabel_tol': 0.0015348158086110342, 'encoding_method': 'ordered', 'scaler_method': 'standard'}. Best is trial 46 with value: 0.7187058473596826.\n",
      "[I 2025-10-23 19:44:18,098] Trial 57 finished with value: 0.7096147110018725 and parameters: {'num_leaves': 150, 'max_depth': 6, 'learning_rate': 0.016876046633135047, 'n_estimators': 734, 'min_child_samples': 17, 'subsample': 0.7241683221396064, 'colsample_bytree': 0.7107381468419265, 'reg_alpha': 0.0030374738834624583, 'reg_lambda': 0.00016559558555358223, 'imputation_method': 'median', 'rarelabel_tol': 0.0012735442691125982, 'encoding_method': 'ordered', 'scaler_method': 'standard'}. Best is trial 46 with value: 0.7187058473596826.\n",
      "[I 2025-10-23 19:44:24,154] Trial 58 finished with value: 0.6987116855435708 and parameters: {'num_leaves': 241, 'max_depth': 9, 'learning_rate': 0.018662314169087507, 'n_estimators': 598, 'min_child_samples': 20, 'subsample': 0.575338220794781, 'colsample_bytree': 0.8026463404741551, 'reg_alpha': 0.11298287385024375, 'reg_lambda': 0.8075693927374847, 'imputation_method': 'median', 'rarelabel_tol': 0.0017630645343204797, 'encoding_method': 'ordered', 'scaler_method': 'standard'}. Best is trial 46 with value: 0.7187058473596826.\n",
      "[I 2025-10-23 19:44:25,667] Trial 59 finished with value: 0.6991432373162535 and parameters: {'num_leaves': 196, 'max_depth': 4, 'learning_rate': 0.016332076513269147, 'n_estimators': 663, 'min_child_samples': 25, 'subsample': 0.604466888202739, 'colsample_bytree': 0.7254980583911664, 'reg_alpha': 2.8202468921255432, 'reg_lambda': 0.07082017287637832, 'imputation_method': 'mean', 'rarelabel_tol': 0.0009049308055315528, 'encoding_method': 'ordered', 'scaler_method': 'standard'}. Best is trial 46 with value: 0.7187058473596826.\n",
      "[I 2025-10-23 19:44:31,172] Trial 60 finished with value: 0.6768080751250627 and parameters: {'num_leaves': 225, 'max_depth': 7, 'learning_rate': 0.012556507253882966, 'n_estimators': 761, 'min_child_samples': 21, 'subsample': 0.9189233894425528, 'colsample_bytree': 0.8543808534231677, 'reg_alpha': 0.4412421499310472, 'reg_lambda': 0.001953532509538274, 'imputation_method': 'median', 'rarelabel_tol': 0.0034480824704537835, 'encoding_method': 'ordered', 'scaler_method': 'standard'}. Best is trial 46 with value: 0.7187058473596826.\n",
      "[I 2025-10-23 19:44:39,821] Trial 61 finished with value: 0.7143387004293118 and parameters: {'num_leaves': 248, 'max_depth': 11, 'learning_rate': 0.018659213748850465, 'n_estimators': 700, 'min_child_samples': 27, 'subsample': 0.9639833734122311, 'colsample_bytree': 0.7275039364232226, 'reg_alpha': 6.284300835183193, 'reg_lambda': 0.0004388602432000092, 'imputation_method': 'median', 'rarelabel_tol': 0.001024997291013638, 'encoding_method': 'ordered', 'scaler_method': 'standard'}. Best is trial 46 with value: 0.7187058473596826.\n",
      "[I 2025-10-23 19:44:49,537] Trial 62 finished with value: 0.7138481627533145 and parameters: {'num_leaves': 254, 'max_depth': 12, 'learning_rate': 0.01786625306939205, 'n_estimators': 712, 'min_child_samples': 28, 'subsample': 0.5216722007736246, 'colsample_bytree': 0.731345141438682, 'reg_alpha': 1.565160559519376, 'reg_lambda': 0.0003115276826690302, 'imputation_method': 'median', 'rarelabel_tol': 0.0010160939893602567, 'encoding_method': 'ordered', 'scaler_method': 'standard'}. Best is trial 46 with value: 0.7187058473596826.\n",
      "[I 2025-10-23 19:44:55,466] Trial 63 finished with value: 0.7123965251545793 and parameters: {'num_leaves': 244, 'max_depth': 8, 'learning_rate': 0.014615166553125435, 'n_estimators': 691, 'min_child_samples': 24, 'subsample': 0.5535981277383683, 'colsample_bytree': 0.7448476821370905, 'reg_alpha': 6.655220889449896, 'reg_lambda': 0.0005565081418714007, 'imputation_method': 'median', 'rarelabel_tol': 0.0013725009349750557, 'encoding_method': 'ordered', 'scaler_method': 'standard'}. Best is trial 46 with value: 0.7187058473596826.\n",
      "[I 2025-10-23 19:45:03,286] Trial 64 finished with value: 0.7121019251923684 and parameters: {'num_leaves': 234, 'max_depth': 10, 'learning_rate': 0.018261027011355558, 'n_estimators': 679, 'min_child_samples': 25, 'subsample': 0.6540762374007036, 'colsample_bytree': 0.7180177998645698, 'reg_alpha': 3.1587646269322796, 'reg_lambda': 0.00010066289977800649, 'imputation_method': 'median', 'rarelabel_tol': 0.0011991998152566788, 'encoding_method': 'ordered', 'scaler_method': 'standard'}. Best is trial 46 with value: 0.7187058473596826.\n",
      "[I 2025-10-23 19:45:27,217] Trial 65 finished with value: 0.6894026969070894 and parameters: {'num_leaves': 224, 'max_depth': 12, 'learning_rate': 0.016635660221590295, 'n_estimators': 780, 'min_child_samples': 5, 'subsample': 0.5786437977028389, 'colsample_bytree': 0.7373528957950409, 'reg_alpha': 1.942637435139667, 'reg_lambda': 0.00021443940536671293, 'imputation_method': 'median', 'rarelabel_tol': 0.0009217688364526073, 'encoding_method': 'ordered', 'scaler_method': 'standard'}. Best is trial 46 with value: 0.7187058473596826.\n",
      "[I 2025-10-23 19:45:30,889] Trial 66 finished with value: 0.7016095797245494 and parameters: {'num_leaves': 259, 'max_depth': 6, 'learning_rate': 0.008538795061709169, 'n_estimators': 685, 'min_child_samples': 23, 'subsample': 0.5008986205252225, 'colsample_bytree': 0.7534902757007188, 'reg_alpha': 0.9980094792459405, 'reg_lambda': 0.0010147804702498853, 'imputation_method': 'median', 'rarelabel_tol': 0.0012017955010822552, 'encoding_method': 'ordered', 'scaler_method': 'minmax'}. Best is trial 46 with value: 0.7187058473596826.\n",
      "[I 2025-10-23 19:45:39,357] Trial 67 finished with value: 0.7147640121057532 and parameters: {'num_leaves': 161, 'max_depth': 13, 'learning_rate': 0.01738750554469655, 'n_estimators': 528, 'min_child_samples': 26, 'subsample': 0.627065146391102, 'colsample_bytree': 0.7115282870763022, 'reg_alpha': 9.513039436203632, 'reg_lambda': 0.0025993735795943333, 'imputation_method': 'median', 'rarelabel_tol': 0.001034605770157445, 'encoding_method': 'ordered', 'scaler_method': 'standard'}. Best is trial 46 with value: 0.7187058473596826.\n",
      "[I 2025-10-23 19:45:42,648] Trial 68 finished with value: 0.6009611335302742 and parameters: {'num_leaves': 251, 'max_depth': 8, 'learning_rate': 0.015150757328148821, 'n_estimators': 645, 'min_child_samples': 27, 'subsample': 0.5188070398447967, 'colsample_bytree': 0.7677023438617795, 'reg_alpha': 3.310788307272117, 'reg_lambda': 0.0008184859038438003, 'imputation_method': 'median', 'rarelabel_tol': 0.0015058620803480582, 'encoding_method': 'onehot', 'scaler_method': 'standard'}. Best is trial 46 with value: 0.7187058473596826.\n",
      "[I 2025-10-23 19:45:45,070] Trial 69 finished with value: 0.6673139248581901 and parameters: {'num_leaves': 238, 'max_depth': 5, 'learning_rate': 0.016048731693524353, 'n_estimators': 745, 'min_child_samples': 21, 'subsample': 0.8188035886581574, 'colsample_bytree': 0.7236584748739241, 'reg_alpha': 0.6094599153743322, 'reg_lambda': 0.0004159966232064679, 'imputation_method': 'median', 'rarelabel_tol': 0.003948695399545939, 'encoding_method': 'ordered', 'scaler_method': 'standard'}. Best is trial 46 with value: 0.7187058473596826.\n",
      "[I 2025-10-23 19:45:54,652] Trial 70 finished with value: 0.711666353447112 and parameters: {'num_leaves': 246, 'max_depth': 9, 'learning_rate': 0.013794587764810727, 'n_estimators': 722, 'min_child_samples': 11, 'subsample': 0.860822070233114, 'colsample_bytree': 0.780399638988365, 'reg_alpha': 1.2265968964933973, 'reg_lambda': 0.017659878263034307, 'imputation_method': 'mean', 'rarelabel_tol': 0.0012080591869890378, 'encoding_method': 'ordered', 'scaler_method': 'standard'}. Best is trial 46 with value: 0.7187058473596826.\n",
      "[I 2025-10-23 19:45:59,751] Trial 71 finished with value: 0.7163434803215238 and parameters: {'num_leaves': 250, 'max_depth': 7, 'learning_rate': 0.01585081769276513, 'n_estimators': 715, 'min_child_samples': 14, 'subsample': 0.8339776832577818, 'colsample_bytree': 0.7475213126362587, 'reg_alpha': 0.2710952859980128, 'reg_lambda': 0.00012379181514882812, 'imputation_method': 'median', 'rarelabel_tol': 0.0011613568437736969, 'encoding_method': 'ordered', 'scaler_method': 'standard'}. Best is trial 46 with value: 0.7187058473596826.\n",
      "[I 2025-10-23 19:46:04,912] Trial 72 finished with value: 0.7120102513076243 and parameters: {'num_leaves': 256, 'max_depth': 7, 'learning_rate': 0.014292081262079304, 'n_estimators': 704, 'min_child_samples': 14, 'subsample': 0.827725433555475, 'colsample_bytree': 0.7480186885893999, 'reg_alpha': 0.32039667472149064, 'reg_lambda': 0.00027601987627996413, 'imputation_method': 'median', 'rarelabel_tol': 0.001351742441599669, 'encoding_method': 'ordered', 'scaler_method': 'standard'}. Best is trial 46 with value: 0.7187058473596826.\n",
      "[I 2025-10-23 19:46:08,988] Trial 73 finished with value: 0.718175411346992 and parameters: {'num_leaves': 250, 'max_depth': 7, 'learning_rate': 0.019236960846443756, 'n_estimators': 731, 'min_child_samples': 24, 'subsample': 0.5517680457319192, 'colsample_bytree': 0.7340258282239158, 'reg_alpha': 1.6986605692741308, 'reg_lambda': 0.00014826135106597703, 'imputation_method': 'median', 'rarelabel_tol': 0.0009762923439864998, 'encoding_method': 'ordered', 'scaler_method': 'standard'}. Best is trial 46 with value: 0.7187058473596826.\n",
      "[I 2025-10-23 19:46:13,683] Trial 74 finished with value: 0.6947763559829805 and parameters: {'num_leaves': 279, 'max_depth': 7, 'learning_rate': 0.01950440127351696, 'n_estimators': 735, 'min_child_samples': 16, 'subsample': 0.6025473716732218, 'colsample_bytree': 0.7338135853056639, 'reg_alpha': 1.8446648928974305, 'reg_lambda': 0.00014648207163990768, 'imputation_method': 'median', 'rarelabel_tol': 0.0020182019042670977, 'encoding_method': 'ordered', 'scaler_method': 'standard'}. Best is trial 46 with value: 0.7187058473596826.\n",
      "[I 2025-10-23 19:46:20,672] Trial 75 finished with value: 0.7167115875634387 and parameters: {'num_leaves': 267, 'max_depth': 8, 'learning_rate': 0.015510260505105403, 'n_estimators': 755, 'min_child_samples': 15, 'subsample': 0.7708118867355542, 'colsample_bytree': 0.8175542122138434, 'reg_alpha': 0.7656750228941468, 'reg_lambda': 0.00017574685020285789, 'imputation_method': 'median', 'rarelabel_tol': 0.001010060807291536, 'encoding_method': 'ordered', 'scaler_method': 'standard'}. Best is trial 46 with value: 0.7187058473596826.\n",
      "[I 2025-10-23 19:46:27,274] Trial 76 finished with value: 0.6989987823011132 and parameters: {'num_leaves': 269, 'max_depth': 8, 'learning_rate': 0.017006164618058844, 'n_estimators': 757, 'min_child_samples': 15, 'subsample': 0.7719201465241309, 'colsample_bytree': 0.819617370269698, 'reg_alpha': 0.6509846942164508, 'reg_lambda': 0.00012715845616287024, 'imputation_method': 'median', 'rarelabel_tol': 0.0016519364018435664, 'encoding_method': 'ordered', 'scaler_method': 'standard'}. Best is trial 46 with value: 0.7187058473596826.\n",
      "[I 2025-10-23 19:46:32,252] Trial 77 finished with value: 0.7143058199512107 and parameters: {'num_leaves': 263, 'max_depth': 7, 'learning_rate': 0.015653559148225266, 'n_estimators': 777, 'min_child_samples': 15, 'subsample': 0.7902354279291844, 'colsample_bytree': 0.8120866660065764, 'reg_alpha': 0.4334374120630669, 'reg_lambda': 0.0002013143895512314, 'imputation_method': 'median', 'rarelabel_tol': 0.0011307086491571308, 'encoding_method': 'ordered', 'scaler_method': 'standard'}. Best is trial 46 with value: 0.7187058473596826.\n",
      "[I 2025-10-23 19:46:36,589] Trial 78 finished with value: 0.700486612190726 and parameters: {'num_leaves': 280, 'max_depth': 6, 'learning_rate': 0.015014857000189437, 'n_estimators': 749, 'min_child_samples': 13, 'subsample': 0.85848926981911, 'colsample_bytree': 0.835573626506923, 'reg_alpha': 0.045115080796265444, 'reg_lambda': 0.00016142938859293476, 'imputation_method': 'median', 'rarelabel_tol': 0.0014008489389346018, 'encoding_method': 'ordered', 'scaler_method': 'minmax'}. Best is trial 46 with value: 0.7187058473596826.\n",
      "[I 2025-10-23 19:46:42,430] Trial 79 finished with value: 0.714214301545832 and parameters: {'num_leaves': 268, 'max_depth': 8, 'learning_rate': 0.016338949616338225, 'n_estimators': 716, 'min_child_samples': 18, 'subsample': 0.8778581063565315, 'colsample_bytree': 0.8043502212099256, 'reg_alpha': 0.23830956584232454, 'reg_lambda': 0.047753354152175805, 'imputation_method': 'median', 'rarelabel_tol': 0.0010240329447514067, 'encoding_method': 'ordered', 'scaler_method': 'standard'}. Best is trial 46 with value: 0.7187058473596826.\n",
      "[I 2025-10-23 19:46:45,617] Trial 80 finished with value: 0.6290891180835934 and parameters: {'num_leaves': 251, 'max_depth': 7, 'learning_rate': 0.019189455043556104, 'n_estimators': 728, 'min_child_samples': 17, 'subsample': 0.8034352750844236, 'colsample_bytree': 0.8754897160941654, 'reg_alpha': 0.14905893684187238, 'reg_lambda': 0.16142038657155258, 'imputation_method': 'median', 'rarelabel_tol': 0.0012426244341164313, 'encoding_method': 'onehot', 'scaler_method': 'standard'}. Best is trial 46 with value: 0.7187058473596826.\n",
      "[I 2025-10-23 19:46:49,163] Trial 81 finished with value: 0.7151101017605246 and parameters: {'num_leaves': 241, 'max_depth': 6, 'learning_rate': 0.015592137254656918, 'n_estimators': 736, 'min_child_samples': 15, 'subsample': 0.5487734110689207, 'colsample_bytree': 0.7590677356600352, 'reg_alpha': 1.1894442127292457, 'reg_lambda': 0.00027432433349399706, 'imputation_method': 'median', 'rarelabel_tol': 0.0009628547541208663, 'encoding_method': 'ordered', 'scaler_method': 'standard'}. Best is trial 46 with value: 0.7187058473596826.\n",
      "[I 2025-10-23 19:46:56,363] Trial 82 finished with value: 0.7151755819176127 and parameters: {'num_leaves': 261, 'max_depth': 9, 'learning_rate': 0.012919893886871033, 'n_estimators': 696, 'min_child_samples': 24, 'subsample': 0.5690247738417586, 'colsample_bytree': 0.7053667875681776, 'reg_alpha': 0.7876997587009889, 'reg_lambda': 0.000538776938291549, 'imputation_method': 'median', 'rarelabel_tol': 0.0011258035150725262, 'encoding_method': 'ordered', 'scaler_method': 'standard'}. Best is trial 46 with value: 0.7187058473596826.\n",
      "[I 2025-10-23 19:47:02,533] Trial 83 finished with value: 0.7187977532395671 and parameters: {'num_leaves': 256, 'max_depth': 8, 'learning_rate': 0.01351313558667739, 'n_estimators': 709, 'min_child_samples': 23, 'subsample': 0.6909141578833078, 'colsample_bytree': 0.7914744726555097, 'reg_alpha': 2.537693871408346, 'reg_lambda': 0.00019952959013426683, 'imputation_method': 'median', 'rarelabel_tol': 0.000901324965905068, 'encoding_method': 'ordered', 'scaler_method': 'standard'}. Best is trial 83 with value: 0.7187977532395671.\n",
      "[I 2025-10-23 19:47:08,716] Trial 84 finished with value: 0.7167359753310947 and parameters: {'num_leaves': 257, 'max_depth': 8, 'learning_rate': 0.014836788715134488, 'n_estimators': 727, 'min_child_samples': 22, 'subsample': 0.7365619319460476, 'colsample_bytree': 0.7950174023302449, 'reg_alpha': 2.5859835439805505, 'reg_lambda': 0.00011962925884626172, 'imputation_method': 'median', 'rarelabel_tol': 0.0011542479798177193, 'encoding_method': 'ordered', 'scaler_method': 'standard'}. Best is trial 83 with value: 0.7187977532395671.\n",
      "[I 2025-10-23 19:47:14,371] Trial 85 finished with value: 0.7169561260280162 and parameters: {'num_leaves': 257, 'max_depth': 8, 'learning_rate': 0.014394769694223758, 'n_estimators': 751, 'min_child_samples': 23, 'subsample': 0.696139701497372, 'colsample_bytree': 0.7949697046830742, 'reg_alpha': 4.375321679923959, 'reg_lambda': 0.00019962907510953198, 'imputation_method': 'median', 'rarelabel_tol': 0.000990440666404668, 'encoding_method': 'ordered', 'scaler_method': 'standard'}. Best is trial 83 with value: 0.7187977532395671.\n",
      "[I 2025-10-23 19:47:20,240] Trial 86 finished with value: 0.7156219474141128 and parameters: {'num_leaves': 256, 'max_depth': 8, 'learning_rate': 0.013545781897274824, 'n_estimators': 741, 'min_child_samples': 22, 'subsample': 0.6885173918010237, 'colsample_bytree': 0.794678409000781, 'reg_alpha': 4.019251486991921, 'reg_lambda': 0.00027318736212323535, 'imputation_method': 'median', 'rarelabel_tol': 0.0012970858180613, 'encoding_method': 'ordered', 'scaler_method': 'standard'}. Best is trial 83 with value: 0.7187977532395671.\n",
      "[I 2025-10-23 19:47:27,206] Trial 87 finished with value: 0.7208662480904731 and parameters: {'num_leaves': 243, 'max_depth': 9, 'learning_rate': 0.014180120795088952, 'n_estimators': 728, 'min_child_samples': 23, 'subsample': 0.7228569663786978, 'colsample_bytree': 0.7878905568279974, 'reg_alpha': 2.5118425873931582, 'reg_lambda': 0.00010138247656134911, 'imputation_method': 'median', 'rarelabel_tol': 0.0009097438239061054, 'encoding_method': 'ordered', 'scaler_method': 'standard'}. Best is trial 87 with value: 0.7208662480904731.\n",
      "[I 2025-10-23 19:47:34,340] Trial 88 finished with value: 0.6931207708251259 and parameters: {'num_leaves': 262, 'max_depth': 9, 'learning_rate': 0.014257538909146331, 'n_estimators': 726, 'min_child_samples': 21, 'subsample': 0.7249658173077926, 'colsample_bytree': 0.7859116560222396, 'reg_alpha': 2.1950164019415235, 'reg_lambda': 0.00010581094283667447, 'imputation_method': 'mean', 'rarelabel_tol': 0.0027271145479552472, 'encoding_method': 'ordered', 'scaler_method': 'standard'}. Best is trial 87 with value: 0.7208662480904731.\n",
      "[I 2025-10-23 19:47:42,171] Trial 89 finished with value: 0.697579051881199 and parameters: {'num_leaves': 272, 'max_depth': 9, 'learning_rate': 0.014799668330530275, 'n_estimators': 764, 'min_child_samples': 23, 'subsample': 0.7552342101092937, 'colsample_bytree': 0.7953942150373685, 'reg_alpha': 2.906846615275899, 'reg_lambda': 0.0002057811387810532, 'imputation_method': 'median', 'rarelabel_tol': 0.0014479085095767748, 'encoding_method': 'ordered', 'scaler_method': 'minmax'}. Best is trial 87 with value: 0.7208662480904731.\n",
      "[I 2025-10-23 19:47:51,423] Trial 90 finished with value: 0.7160350456033949 and parameters: {'num_leaves': 257, 'max_depth': 10, 'learning_rate': 0.013876589751837483, 'n_estimators': 708, 'min_child_samples': 19, 'subsample': 0.6861758378631057, 'colsample_bytree': 0.7809893224830076, 'reg_alpha': 4.148839353250663, 'reg_lambda': 0.001324748521987538, 'imputation_method': 'median', 'rarelabel_tol': 0.0010974394133402606, 'encoding_method': 'ordered', 'scaler_method': 'standard'}. Best is trial 87 with value: 0.7208662480904731.\n",
      "[I 2025-10-23 19:47:57,341] Trial 91 finished with value: 0.7178693587458258 and parameters: {'num_leaves': 237, 'max_depth': 8, 'learning_rate': 0.014461727869514641, 'n_estimators': 748, 'min_child_samples': 22, 'subsample': 0.7103616490470519, 'colsample_bytree': 0.7967086499578269, 'reg_alpha': 2.443595323176774, 'reg_lambda': 0.0003690158582541335, 'imputation_method': 'median', 'rarelabel_tol': 0.000906698544683184, 'encoding_method': 'ordered', 'scaler_method': 'standard'}. Best is trial 87 with value: 0.7208662480904731.\n",
      "[I 2025-10-23 19:48:03,508] Trial 92 finished with value: 0.7174306360821636 and parameters: {'num_leaves': 245, 'max_depth': 8, 'learning_rate': 0.014456137721153926, 'n_estimators': 771, 'min_child_samples': 22, 'subsample': 0.7031197940701518, 'colsample_bytree': 0.7973442656458714, 'reg_alpha': 1.7778864808780679, 'reg_lambda': 0.0003493521843143943, 'imputation_method': 'median', 'rarelabel_tol': 0.0010093452683868187, 'encoding_method': 'ordered', 'scaler_method': 'standard'}. Best is trial 87 with value: 0.7208662480904731.\n",
      "[I 2025-10-23 19:48:10,197] Trial 93 finished with value: 0.7175499257020519 and parameters: {'num_leaves': 238, 'max_depth': 8, 'learning_rate': 0.013059345392189567, 'n_estimators': 771, 'min_child_samples': 20, 'subsample': 0.7154294556915327, 'colsample_bytree': 0.7751586437604444, 'reg_alpha': 1.5112764733084618, 'reg_lambda': 0.0007524875676317021, 'imputation_method': 'median', 'rarelabel_tol': 0.0009008342741060334, 'encoding_method': 'ordered', 'scaler_method': 'standard'}. Best is trial 87 with value: 0.7208662480904731.\n",
      "[I 2025-10-23 19:48:17,352] Trial 94 finished with value: 0.7165263053149354 and parameters: {'num_leaves': 238, 'max_depth': 8, 'learning_rate': 0.01209351151388811, 'n_estimators': 776, 'min_child_samples': 20, 'subsample': 0.711818437464202, 'colsample_bytree': 0.7741789198227796, 'reg_alpha': 1.5485165691281892, 'reg_lambda': 0.000789955486218762, 'imputation_method': 'median', 'rarelabel_tol': 0.0009071495557184884, 'encoding_method': 'ordered', 'scaler_method': 'standard'}. Best is trial 87 with value: 0.7208662480904731.\n",
      "[I 2025-10-23 19:48:26,191] Trial 95 finished with value: 0.7132214530161547 and parameters: {'num_leaves': 243, 'max_depth': 9, 'learning_rate': 0.012795016896322198, 'n_estimators': 769, 'min_child_samples': 21, 'subsample': 0.7120803619978933, 'colsample_bytree': 0.8061025802190497, 'reg_alpha': 1.9361653926496138, 'reg_lambda': 0.00035419986653571967, 'imputation_method': 'median', 'rarelabel_tol': 0.0012457916834258717, 'encoding_method': 'ordered', 'scaler_method': 'standard'}. Best is trial 87 with value: 0.7208662480904731.\n",
      "[I 2025-10-23 19:48:33,499] Trial 96 finished with value: 0.7151776920323514 and parameters: {'num_leaves': 229, 'max_depth': 9, 'learning_rate': 0.013123320657496431, 'n_estimators': 620, 'min_child_samples': 22, 'subsample': 0.6622195700951379, 'colsample_bytree': 0.7895543300412334, 'reg_alpha': 1.1896724901936908, 'reg_lambda': 0.0005344313466191667, 'imputation_method': 'median', 'rarelabel_tol': 0.001073909383229825, 'encoding_method': 'ordered', 'scaler_method': 'standard'}. Best is trial 87 with value: 0.7208662480904731.\n",
      "[I 2025-10-23 19:48:37,739] Trial 97 finished with value: 0.7138067514601263 and parameters: {'num_leaves': 238, 'max_depth': 7, 'learning_rate': 0.014024326556837712, 'n_estimators': 635, 'min_child_samples': 20, 'subsample': 0.7489196271352161, 'colsample_bytree': 0.7986688702260107, 'reg_alpha': 2.4438277475427537, 'reg_lambda': 0.0004469761317498886, 'imputation_method': 'median', 'rarelabel_tol': 0.0009921344367722384, 'encoding_method': 'ordered', 'scaler_method': 'standard'}. Best is trial 87 with value: 0.7208662480904731.\n",
      "[I 2025-10-23 19:48:41,320] Trial 98 finished with value: 0.6041449422993863 and parameters: {'num_leaves': 248, 'max_depth': 7, 'learning_rate': 0.013489285069535093, 'n_estimators': 786, 'min_child_samples': 23, 'subsample': 0.6778612451227937, 'colsample_bytree': 0.8086422949530846, 'reg_alpha': 1.0746417846405245, 'reg_lambda': 0.001555831118997597, 'imputation_method': 'median', 'rarelabel_tol': 0.001351131116169624, 'encoding_method': 'onehot', 'scaler_method': 'standard'}. Best is trial 87 with value: 0.7208662480904731.\n",
      "[I 2025-10-23 19:48:47,912] Trial 99 finished with value: 0.7143821790743627 and parameters: {'num_leaves': 234, 'max_depth': 8, 'learning_rate': 0.012445276726113615, 'n_estimators': 771, 'min_child_samples': 19, 'subsample': 0.7240996199761344, 'colsample_bytree': 0.7846454567548062, 'reg_alpha': 1.6194261465166948, 'reg_lambda': 0.0007739403198614843, 'imputation_method': 'median', 'rarelabel_tol': 0.0010915607894878164, 'encoding_method': 'ordered', 'scaler_method': 'standard'}. Best is trial 87 with value: 0.7208662480904731.\n"
     ]
    }
   ],
   "source": [
    "study = optuna.create_study(direction='maximize')\n",
    "study.optimize(objective, n_trials=100, show_progress_bar=True)"
   ]
  },
  {
   "cell_type": "code",
   "execution_count": 63,
   "id": "cf354892",
   "metadata": {},
   "outputs": [
    {
     "data": {
      "text/plain": [
       "{'num_leaves': 243,\n",
       " 'max_depth': 9,\n",
       " 'learning_rate': 0.014180120795088952,\n",
       " 'n_estimators': 728,\n",
       " 'min_child_samples': 23,\n",
       " 'subsample': 0.7228569663786978,\n",
       " 'colsample_bytree': 0.7878905568279974,\n",
       " 'reg_alpha': 2.5118425873931582,\n",
       " 'reg_lambda': 0.00010138247656134911,\n",
       " 'imputation_method': 'median',\n",
       " 'rarelabel_tol': 0.0009097438239061054,\n",
       " 'encoding_method': 'ordered',\n",
       " 'scaler_method': 'standard'}"
      ]
     },
     "execution_count": 63,
     "metadata": {},
     "output_type": "execute_result"
    }
   ],
   "source": [
    "study.best_params"
   ]
  },
  {
   "cell_type": "code",
   "execution_count": 64,
   "id": "65415886",
   "metadata": {},
   "outputs": [
    {
     "data": {
      "text/plain": [
       "0.7208662480904731"
      ]
     },
     "execution_count": 64,
     "metadata": {},
     "output_type": "execute_result"
    }
   ],
   "source": [
    "study.best_value"
   ]
  },
  {
   "cell_type": "code",
   "execution_count": 55,
   "id": "dc2e5f86",
   "metadata": {},
   "outputs": [
    {
     "data": {
      "text/plain": [
       "0.6890609208805107"
      ]
     },
     "execution_count": 55,
     "metadata": {},
     "output_type": "execute_result"
    }
   ],
   "source": [
    "study.best_value\n"
   ]
  },
  {
   "cell_type": "code",
   "execution_count": 69,
   "id": "8481d851",
   "metadata": {},
   "outputs": [],
   "source": [
    "best_pipeline = study.best_trial.params"
   ]
  },
  {
   "cell_type": "code",
   "execution_count": 70,
   "id": "58e79146",
   "metadata": {},
   "outputs": [
    {
     "data": {
      "text/plain": [
       "{'num_leaves': 243,\n",
       " 'max_depth': 9,\n",
       " 'learning_rate': 0.014180120795088952,\n",
       " 'n_estimators': 728,\n",
       " 'min_child_samples': 23,\n",
       " 'subsample': 0.7228569663786978,\n",
       " 'colsample_bytree': 0.7878905568279974,\n",
       " 'reg_alpha': 2.5118425873931582,\n",
       " 'reg_lambda': 0.00010138247656134911}"
      ]
     },
     "execution_count": 70,
     "metadata": {},
     "output_type": "execute_result"
    }
   ],
   "source": [
    "# Filtrar solo los parámetros del modelo LightGBM (quitar los de preprocesamiento)\n",
    "model_param_keys = [\n",
    "    'num_leaves', 'max_depth', 'learning_rate', 'n_estimators',\n",
    "    'min_child_samples', 'subsample', 'colsample_bytree',\n",
    "    'reg_alpha', 'reg_lambda'\n",
    "]\n",
    "best_model_params = {k: v for k, v in study.best_trial.params.items() if k in model_param_keys}\n",
    "best_model_params\n"
   ]
  },
  {
   "cell_type": "code",
   "execution_count": 66,
   "id": "4921dae5",
   "metadata": {},
   "outputs": [],
   "source": [
    "pipeline_steps = [\n",
    "    (\"missing_indicator\", AddMissingIndicator(variables=vars_with_na)),\n",
    "    (\"numerical_imputation\", MeanMedianImputer(imputation_method = best_pipeline['imputation_method'], variables=num_vars_na)),\n",
    "    (\"categorical_imputation\", CategoricalImputer(imputation_method='missing', fill_value='missing', variables=cat_vars_na)),\n",
    "    (\"rare_label_encoder\", RareLabelEncoder(tol=best_pipeline['rarelabel_tol'], variables=cat_vars, n_categories=1)),\n",
    "    (\"ordinal_encoder\", OrdinalEncoder(variables=cat_vars, encoding_method='ordered')),\n",
    "    (\"scaler\", SklearnTransformerWrapper(transformer=StandardScaler())),\n",
    "    (\"model\", lgb.LGBMRegressor(**best_model_params))\n",
    "]\n"
   ]
  },
  {
   "cell_type": "code",
   "execution_count": 67,
   "id": "3db9227b",
   "metadata": {},
   "outputs": [],
   "source": [
    "final_pipeline = Pipeline(pipeline_steps)"
   ]
  },
  {
   "cell_type": "code",
   "execution_count": 68,
   "id": "26c7b5b2",
   "metadata": {},
   "outputs": [
    {
     "data": {
      "text/plain": [
       "{'train': {'r2': 0.8042688901535785,\n",
       "  'mse': np.float64(29404547.02567557),\n",
       "  'mae': 13081317.700969419,\n",
       "  'medae': 6566933.857926995},\n",
       " 'test': {'r2': 0.7170856652769602,\n",
       "  'mse': np.float64(35094180.87123917),\n",
       "  'mae': 17081808.63120259,\n",
       "  'medae': 8281661.705354728}}"
      ]
     },
     "execution_count": 68,
     "metadata": {},
     "output_type": "execute_result"
    }
   ],
   "source": [
    "final_pipeline.fit(X_train, y_train)\n",
    "y_pred_train_lgb = final_pipeline.predict(X_train)\n",
    "r2_lgb = r2_score(y_train, y_pred_train_lgb)\n",
    "mse_lgb = np.sqrt(mean_squared_error(y_train, y_pred_train_lgb))\n",
    "mae_lgb = mean_absolute_error(y_train, y_pred_train_lgb)\n",
    "medae_lgb = median_absolute_error(y_train, y_pred_train_lgb)\n",
    "metrics_lgb_train = {\n",
    "    \"r2\": r2_lgb,\n",
    "    \"mse\": mse_lgb,\n",
    "    \"mae\": mae_lgb,\n",
    "    \"medae\": medae_lgb\n",
    "}\n",
    "\n",
    "y_pred_test_lgb = final_pipeline.predict(X_test)\n",
    "r2_lgb = r2_score(y_test, y_pred_test_lgb)\n",
    "mse_lgb = np.sqrt(mean_squared_error(y_test, y_pred_test_lgb))\n",
    "mae_lgb = mean_absolute_error(y_test, y_pred_test_lgb)\n",
    "medae_lgb = median_absolute_error(y_test, y_pred_test_lgb)\n",
    "metrics_lgb_test = {\n",
    "    \"r2\": r2_lgb,\n",
    "    \"mse\": mse_lgb,\n",
    "    \"mae\": mae_lgb,\n",
    "    \"medae\": medae_lgb\n",
    "}\n",
    "metrics_lgb = {\n",
    "    \"train\": metrics_lgb_train,\n",
    "    \"test\": metrics_lgb_test\n",
    "}\n",
    "metrics_lgb"
   ]
  },
  {
   "cell_type": "code",
   "execution_count": null,
   "id": "021c4a24",
   "metadata": {},
   "outputs": [],
   "source": []
  }
 ],
 "metadata": {
  "kernelspec": {
   "display_name": ".venv",
   "language": "python",
   "name": "python3"
  },
  "language_info": {
   "codemirror_mode": {
    "name": "ipython",
    "version": 3
   },
   "file_extension": ".py",
   "mimetype": "text/x-python",
   "name": "python",
   "nbconvert_exporter": "python",
   "pygments_lexer": "ipython3",
   "version": "3.11.5"
  }
 },
 "nbformat": 4,
 "nbformat_minor": 5
}
