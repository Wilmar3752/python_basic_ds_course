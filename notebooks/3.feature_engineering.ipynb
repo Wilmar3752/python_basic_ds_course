{
 "cells": [
  {
   "cell_type": "code",
   "execution_count": 58,
   "id": "f94db57a",
   "metadata": {},
   "outputs": [],
   "source": [
    "import numpy as np\n",
    "import pandas as pd\n",
    "from sklearn.model_selection import train_test_split\n",
    "from feature_engine.imputation import (AddMissingIndicator, \n",
    "                                       MeanMedianImputer, \n",
    "                                       CategoricalImputer\n",
    "                                       )\n"
   ]
  },
  {
   "cell_type": "markdown",
   "id": "c13a0524",
   "metadata": {},
   "source": [
    "## Leer data gold"
   ]
  },
  {
   "cell_type": "code",
   "execution_count": null,
   "id": "6e70d70d",
   "metadata": {},
   "outputs": [],
   "source": [
    "data_gold = pd.read_excel(\"../data/gold/car_gold.xlsx\")\n",
    "## selected feature\n",
    "features = [\"price\", \"antiguedad\", \"kilometraje\", \"vehicle_brand\", \"vehicle_line\", 'location_state']\n",
    "data_gold = data_gold[features]\n",
    "data_gold.head()"
   ]
  },
  {
   "cell_type": "code",
   "execution_count": 26,
   "id": "789c961e",
   "metadata": {},
   "outputs": [],
   "source": [
    "## dividir en train y test\n",
    "X_train, X_test, y_train, y_test = train_test_split(data_gold.drop(labels=['price'], axis=1),\n",
    "                                                    data_gold['price'],\n",
    "                                                    test_size=0.3,\n",
    "                                                    random_state=0) # reproducibilidad"
   ]
  },
  {
   "cell_type": "code",
   "execution_count": null,
   "id": "26a64bac",
   "metadata": {},
   "outputs": [
    {
     "data": {
      "text/plain": [
       "(5075, 5)"
      ]
     },
     "execution_count": 27,
     "metadata": {},
     "output_type": "execute_result"
    }
   ],
   "source": [
    "print(X_train.shape)\n",
    "print(X_test.shape)\n",
    "print(y_train)\n",
    "print(y_test)"
   ]
  },
  {
   "cell_type": "markdown",
   "id": "c53c5c24",
   "metadata": {},
   "source": [
    "## missing indicator"
   ]
  },
  {
   "cell_type": "code",
   "execution_count": null,
   "id": "6261297e",
   "metadata": {},
   "outputs": [],
   "source": [
    "vars_with_na = [var for var in data_gold.columns if data_gold[var].isnull().sum() > 0]\n",
    "indicator = AddMissingIndicator(variables=vars_with_na)\n",
    "indicator.fit(X_train)\n",
    "X_train_transformed = indicator.transform(X_train)\n",
    "X_train_transformed.head()"
   ]
  },
  {
   "cell_type": "markdown",
   "id": "ea5414ea",
   "metadata": {},
   "source": [
    "## Variables numericas con NA"
   ]
  },
  {
   "cell_type": "code",
   "execution_count": null,
   "id": "aa44cedc",
   "metadata": {},
   "outputs": [],
   "source": [
    "num_vars = data_gold.select_dtypes(include=['int64', 'float64']).columns\n",
    "num_vars_na = [var for var in num_vars if var in vars_with_na]\n",
    "numerical_imputer = MeanMedianImputer(imputation_method='median', \n",
    "                                      variables=num_vars_na)\n",
    "\n",
    "numerical_imputer.fit(X_train_transformed)\n",
    "X_train_transformed = numerical_imputer.transform(X_train_transformed)\n"
   ]
  },
  {
   "cell_type": "markdown",
   "id": "f0372ddf",
   "metadata": {},
   "source": [
    "## Variables categoricas con NA"
   ]
  },
  {
   "cell_type": "code",
   "execution_count": null,
   "id": "aa22c045",
   "metadata": {},
   "outputs": [],
   "source": [
    "cat_vars = data_gold.select_dtypes(include=['object']).columns\n",
    "cat_vars_na = [var for var in cat_vars if var in vars_with_na]\n",
    "categorical_imputer = CategoricalImputer(imputation_method='missing',\n",
    "                                        fill_value='missing',\n",
    "                                        variables=cat_vars_na)\n",
    "categorical_imputer.fit(X_train_transformed)\n",
    "X_train_transformed = categorical_imputer.transform(X_train_transformed)\n",
    "X_train_transformed.head()"
   ]
  },
  {
   "cell_type": "code",
   "execution_count": null,
   "id": "d1d31d9d",
   "metadata": {},
   "outputs": [],
   "source": []
  }
 ],
 "metadata": {
  "kernelspec": {
   "display_name": ".venv",
   "language": "python",
   "name": "python3"
  },
  "language_info": {
   "codemirror_mode": {
    "name": "ipython",
    "version": 3
   },
   "file_extension": ".py",
   "mimetype": "text/x-python",
   "name": "python",
   "nbconvert_exporter": "python",
   "pygments_lexer": "ipython3",
   "version": "3.11.5"
  }
 },
 "nbformat": 4,
 "nbformat_minor": 5
}
