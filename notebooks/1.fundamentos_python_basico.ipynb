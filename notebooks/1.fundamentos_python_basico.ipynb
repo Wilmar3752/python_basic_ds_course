{
  "cells": [
    {
      "cell_type": "markdown",
      "metadata": {},
      "source": [
        "# Fundamentos de Python - Guía Completa\n",
        "\n",
        "Este notebook explica detalladamente los conceptos fundamentales de Python basados en los scripts del directorio `src/basics/`. \n",
        "\n",
        "## Contenido del Notebook\n",
        "\n",
        "1. **Variables y Entrada de Usuario**\n",
        "2. **Listas (Lists)**\n",
        "3. **Diccionarios (Dictionaries)**\n",
        "4. **Sets (Conjuntos)**\n",
        "5. **Tuplas (Tuples)**\n",
        "6. **Ciclos (Loops)**\n",
        "7. **Funciones**\n",
        "8. **Condicionales**\n",
        "9. **Ejercicios Prácticos**\n",
        "\n",
        "---\n",
        "\n",
        "## 1. Variables y Entrada de Usuario\n",
        "\n",
        "Las variables en Python son contenedores que almacenan datos. Python es un lenguaje de tipado dinámico, lo que significa que no necesitas declarar el tipo de variable explícitamente.\n"
      ]
    },
    {
      "cell_type": "code",
      "execution_count": 1,
      "metadata": {},
      "outputs": [
        {
          "name": "stdout",
          "output_type": "stream",
          "text": [
            "Nombre: Wilmar\n",
            "Edad: 30\n",
            "Altura: 1.75\n",
            "Es estudiante: True\n",
            "Tipo de nombre: <class 'str'>\n",
            "Tipo de edad: <class 'int'>\n",
            "Tipo de altura: <class 'float'>\n",
            "Tipo de es_estudiante: <class 'bool'>\n"
          ]
        }
      ],
      "source": [
        "# Ejemplo básico de variables\n",
        "nombre = \"Wilmar\"\n",
        "edad = 30\n",
        "altura = 1.75\n",
        "es_estudiante = True\n",
        "\n",
        "print(f\"Nombre: {nombre}\")\n",
        "print(f\"Edad: {edad}\")\n",
        "print(f\"Altura: {altura}\")\n",
        "print(f\"Es estudiante: {es_estudiante}\")\n",
        "\n",
        "# Verificar tipos de datos\n",
        "print(f\"Tipo de nombre: {type(nombre)}\")\n",
        "print(f\"Tipo de edad: {type(edad)}\")\n",
        "print(f\"Tipo de altura: {type(altura)}\")\n",
        "print(f\"Tipo de es_estudiante: {type(es_estudiante)}\")\n"
      ]
    },
    {
      "cell_type": "code",
      "execution_count": 2,
      "metadata": {},
      "outputs": [
        {
          "name": "stdout",
          "output_type": "stream",
          "text": [
            "Hola Wilmar\n",
            "Eres mayor de edad\n",
            "Fin del programa\n"
          ]
        }
      ],
      "source": [
        "\n",
        "# Solicitar nombre al usuario\n",
        "\n",
        "print(\"Hola \" + nombre)\n",
        "\n",
        "# Solicitar edad y determinar si es mayor de edad\n",
        "edad = 30\n",
        "\n",
        "if edad >= 18:\n",
        "    print(\"Eres mayor de edad\")\n",
        "else:\n",
        "    print(\"Eres menor de edad\")\n",
        "print(\"Fin del programa\")\n"
      ]
    },
    {
      "cell_type": "markdown",
      "metadata": {},
      "source": [
        "## 2. Listas (Lists)\n",
        "\n",
        "Las listas son estructuras de datos que permiten almacenar múltiples elementos en una secuencia ordenada. Son mutables, lo que significa que puedes modificar su contenido después de crearlas.\n"
      ]
    },
    {
      "cell_type": "code",
      "execution_count": 3,
      "metadata": {},
      "outputs": [
        {
          "name": "stdout",
          "output_type": "stream",
          "text": [
            "Estos son mis amigos: ['Wilmar', 'Andrea', 'Herney']\n",
            "Números del 1 al 10: [1, 2, 3, 4, 5, 6, 7, 8, 9, 10]\n",
            "Números del 11 al 20: [11, 12, 13, 14, 15, 16, 17, 18, 19, 20]\n",
            "Usando range(): [1, 2, 3, 4, 5, 6, 7, 8, 9, 10]\n",
            "List comprehension: [1, 2, 3, 4, 5, 6, 7, 8, 9, 10]\n"
          ]
        }
      ],
      "source": [
        "# Creación de listas - Basado en listas.py\n",
        "nombres = [\"Wilmar\", \"Andrea\", \"Herney\"]\n",
        "print(\"Estos son mis amigos:\", nombres)\n",
        "\n",
        "# Crear listas de números\n",
        "num10_1 = [1, 2, 3, 4, 5, 6, 7, 8, 9, 10]\n",
        "num11_20 = [11, 12, 13, 14, 15, 16, 17, 18, 19, 20]\n",
        "\n",
        "print(f\"Números del 1 al 10: {num10_1}\")\n",
        "print(f\"Números del 11 al 20: {num11_20}\")\n",
        "\n",
        "# Diferentes formas de crear listas\n",
        "num10_2 = list(range(1, 11))  # Usando range()\n",
        "print(f\"Usando range(): {num10_2}\")\n",
        "\n",
        "# List comprehension (más avanzado)\n",
        "num10_3 = [num for num in range(1, 11)]\n",
        "print(f\"List comprehension: {num10_3}\")\n"
      ]
    },
    {
      "cell_type": "code",
      "execution_count": 4,
      "metadata": {},
      "outputs": [
        {
          "name": "stdout",
          "output_type": "stream",
          "text": [
            "=== OPERACIONES CON LISTAS ===\n",
            "Primer elemento: Wilmar\n",
            "Último elemento: Herney\n",
            "Después de modificar: ['Wilmar Sebastián', 'Andrea', 'Herney']\n",
            "Después de agregar: ['Wilmar Sebastián', 'Andrea', 'Herney', 'María']\n",
            "Después de insertar: ['Wilmar Sebastián', 'Carlos', 'Andrea', 'Herney', 'María']\n",
            "Después de eliminar: ['Wilmar Sebastián', 'Andrea', 'Herney', 'María']\n",
            "Número de elementos: 4\n"
          ]
        }
      ],
      "source": [
        "# Operaciones con listas\n",
        "print(\"=== OPERACIONES CON LISTAS ===\")\n",
        "\n",
        "# Acceder a elementos por índice\n",
        "print(f\"Primer elemento: {nombres[0]}\")\n",
        "print(f\"Último elemento: {nombres[-1]}\")\n",
        "\n",
        "# Modificar elementos (las listas son mutables)\n",
        "nombres[0] = \"Wilmar Sebastián\"\n",
        "print(f\"Después de modificar: {nombres}\")\n",
        "\n",
        "# Agregar elementos\n",
        "nombres.append(\"María\")\n",
        "print(f\"Después de agregar: {nombres}\")\n",
        "\n",
        "# Insertar en posición específica\n",
        "nombres.insert(1, \"Carlos\")\n",
        "print(f\"Después de insertar: {nombres}\")\n",
        "\n",
        "# Eliminar elementos\n",
        "nombres.remove(\"Carlos\")\n",
        "print(f\"Después de eliminar: {nombres}\")\n",
        "\n",
        "# Longitud de la lista\n",
        "print(f\"Número de elementos: {len(nombres)}\")\n"
      ]
    },
    {
      "cell_type": "markdown",
      "metadata": {},
      "source": [
        "## 3. Diccionarios (Dictionaries)\n",
        "\n",
        "Los diccionarios son estructuras de datos que almacenan pares clave-valor. Son muy útiles para organizar información relacionada y permiten acceso rápido por clave.\n"
      ]
    },
    {
      "cell_type": "code",
      "execution_count": 5,
      "metadata": {},
      "outputs": [
        {
          "name": "stdout",
          "output_type": "stream",
          "text": [
            "Diccionario de edades: {'wilmar': 30, 'jennyfer': 28, 'herney': 35}\n",
            "La edad de Wilmar es: 30\n",
            "Edad de Jennyfer: 28\n",
            "Después de agregar María: {'wilmar': 30, 'jennyfer': 28, 'herney': 35, 'maria': 25}\n",
            "Después de actualizar edad de Wilmar: {'wilmar': 31, 'jennyfer': 28, 'herney': 35, 'maria': 25}\n"
          ]
        }
      ],
      "source": [
        "# Creación y uso de diccionarios - Basado en diccionarios.py\n",
        "edades_amigos = {\n",
        "    \"wilmar\": 30,\n",
        "    \"jennyfer\": 28,\n",
        "    \"herney\": 35\n",
        "}\n",
        "\n",
        "print(\"Diccionario de edades:\", edades_amigos)\n",
        "print(\"La edad de Wilmar es:\", edades_amigos[\"wilmar\"])\n",
        "\n",
        "# Acceder a valores\n",
        "print(f\"Edad de Jennyfer: {edades_amigos['jennyfer']}\")\n",
        "\n",
        "# Agregar nuevos elementos\n",
        "edades_amigos[\"maria\"] = 25\n",
        "print(\"Después de agregar María:\", edades_amigos)\n",
        "\n",
        "# Modificar valores existentes\n",
        "edades_amigos[\"wilmar\"] = 31\n",
        "print(\"Después de actualizar edad de Wilmar:\", edades_amigos)\n"
      ]
    },
    {
      "cell_type": "code",
      "execution_count": 6,
      "metadata": {},
      "outputs": [
        {
          "name": "stdout",
          "output_type": "stream",
          "text": [
            "=== OPERACIONES CON DICCIONARIOS ===\n",
            "Claves del diccionario: ['wilmar', 'jennyfer', 'herney', 'maria']\n",
            "Valores del diccionario: [31, 28, 35, 25]\n",
            "Pares clave-valor: [('wilmar', 31), ('jennyfer', 28), ('herney', 35), ('maria', 25)]\n",
            "Promedio de edades: 29.75\n",
            "Wilmar está en el diccionario\n",
            "Después de eliminar María: {'wilmar': 31, 'jennyfer': 28, 'herney': 35}\n"
          ]
        }
      ],
      "source": [
        "# Operaciones avanzadas con diccionarios\n",
        "print(\"=== OPERACIONES CON DICCIONARIOS ===\")\n",
        "\n",
        "# Obtener todas las claves\n",
        "print(\"Claves del diccionario:\", list(edades_amigos.keys()))\n",
        "\n",
        "# Obtener todos los valores\n",
        "print(\"Valores del diccionario:\", list(edades_amigos.values()))\n",
        "\n",
        "# Obtener pares clave-valor\n",
        "print(\"Pares clave-valor:\", list(edades_amigos.items()))\n",
        "\n",
        "# Calcular promedio de edades\n",
        "suma_edades = sum(edades_amigos.values())\n",
        "promedio = suma_edades / len(edades_amigos)\n",
        "print(f\"Promedio de edades: {promedio:.2f}\")\n",
        "\n",
        "# Verificar si una clave existe\n",
        "if \"wilmar\" in edades_amigos:\n",
        "    print(\"Wilmar está en el diccionario\")\n",
        "else:\n",
        "    print(\"Wilmar no está en el diccionario\")\n",
        "\n",
        "# Eliminar un elemento\n",
        "del edades_amigos[\"maria\"]\n",
        "print(\"Después de eliminar María:\", edades_amigos)\n"
      ]
    },
    {
      "cell_type": "markdown",
      "metadata": {},
      "source": [
        "## 4. Sets (Conjuntos)\n",
        "\n",
        "Los sets son colecciones de elementos únicos sin orden específico. Son muy útiles para operaciones matemáticas como unión, intersección y diferencia.\n"
      ]
    },
    {
      "cell_type": "code",
      "execution_count": 7,
      "metadata": {},
      "outputs": [
        {
          "name": "stdout",
          "output_type": "stream",
          "text": [
            "Set del 1 al 10: {1, 2, 3, 4, 5, 6, 7, 8, 9, 10}\n",
            "Set de números pares: {2, 4, 6, 8, 10, 12, 14, 16, 18, 20}\n",
            "Tipo de datos: <class 'set'>\n",
            "\n",
            "=== OPERACIONES CON SETS ===\n",
            "Unión: {1, 2, 3, 4, 5, 6, 7, 8, 9, 10, 12, 14, 16, 18, 20}\n",
            "Intersección: {2, 4, 6, 8, 10}\n",
            "Diferencia (1-10) - pares: {1, 3, 5, 7, 9}\n",
            "Diferencia pares - (1-10): {12, 14, 16, 18, 20}\n"
          ]
        }
      ],
      "source": [
        "# Creación y operaciones con sets - Basado en sets.py\n",
        "num_1_10_set = {1, 2, 3, 4, 5, 6, 7, 8, 9, 10}\n",
        "num_pares_set = {2, 4, 6, 8, 10, 12, 14, 16, 18, 20}\n",
        "\n",
        "print(\"Set del 1 al 10:\", num_1_10_set)\n",
        "print(\"Set de números pares:\", num_pares_set)\n",
        "print(\"Tipo de datos:\", type(num_1_10_set))\n",
        "\n",
        "# Operaciones con sets\n",
        "print(\"\\n=== OPERACIONES CON SETS ===\")\n",
        "\n",
        "# Unión (elementos que están en cualquiera de los dos sets)\n",
        "union = num_1_10_set | num_pares_set\n",
        "print(f\"Unión: {union}\")\n",
        "\n",
        "# Intersección (elementos que están en ambos sets)\n",
        "interseccion = num_1_10_set & num_pares_set\n",
        "print(f\"Intersección: {interseccion}\")\n",
        "\n",
        "# Diferencia (elementos que están en el primer set pero no en el segundo)\n",
        "diferencia1 = num_1_10_set - num_pares_set\n",
        "print(f\"Diferencia (1-10) - pares: {diferencia1}\")\n",
        "\n",
        "diferencia2 = num_pares_set - num_1_10_set\n",
        "print(f\"Diferencia pares - (1-10): {diferencia2}\")\n"
      ]
    },
    {
      "cell_type": "code",
      "execution_count": 8,
      "metadata": {},
      "outputs": [
        {
          "name": "stdout",
          "output_type": "stream",
          "text": [
            "=== MÁS OPERACIONES CON SETS ===\n",
            "Después de agregar 11: {1, 2, 3, 4, 5, 6, 7, 8, 9, 10, 11}\n",
            "Después de eliminar 11: {1, 2, 3, 4, 5, 6, 7, 8, 9, 10}\n",
            "¿Está el 5 en el set? True\n",
            "¿Está el 15 en el set? False\n",
            "Número de elementos en el set: 10\n",
            "Lista original: [1, 2, 2, 3, 3, 3, 4, 4, 4, 4]\n",
            "Set sin duplicados: {1, 2, 3, 4}\n"
          ]
        }
      ],
      "source": [
        "# Más operaciones con sets\n",
        "print(\"=== MÁS OPERACIONES CON SETS ===\")\n",
        "\n",
        "# Agregar elementos\n",
        "num_1_10_set.add(11)\n",
        "print(\"Después de agregar 11:\", num_1_10_set)\n",
        "\n",
        "# Eliminar elementos\n",
        "num_1_10_set.remove(11)\n",
        "print(\"Después de eliminar 11:\", num_1_10_set)\n",
        "\n",
        "# Verificar si un elemento está en el set\n",
        "print(f\"¿Está el 5 en el set? {5 in num_1_10_set}\")\n",
        "print(f\"¿Está el 15 en el set? {15 in num_1_10_set}\")\n",
        "\n",
        "# Longitud del set\n",
        "print(f\"Número de elementos en el set: {len(num_1_10_set)}\")\n",
        "\n",
        "# Crear set desde una lista (elimina duplicados)\n",
        "lista_con_duplicados = [1, 2, 2, 3, 3, 3, 4, 4, 4, 4]\n",
        "set_sin_duplicados = set(lista_con_duplicados)\n",
        "print(f\"Lista original: {lista_con_duplicados}\")\n",
        "print(f\"Set sin duplicados: {set_sin_duplicados}\")\n"
      ]
    },
    {
      "cell_type": "markdown",
      "metadata": {},
      "source": [
        "## 5. Tuplas (Tuples)\n",
        "\n",
        "Las tuplas son similares a las listas, pero son **inmutables**, lo que significa que no puedes modificar su contenido después de crearlas. Son útiles para almacenar datos que no deben cambiar.\n"
      ]
    },
    {
      "cell_type": "code",
      "execution_count": 9,
      "metadata": {},
      "outputs": [
        {
          "name": "stdout",
          "output_type": "stream",
          "text": [
            "=== COMPARACIÓN ENTRE TUPLAS Y LISTAS ===\n",
            "Tupla: (1, 2, 3, 4, 5, 6, 7, 8, 9, 10)\n",
            "Tipo de tupla: <class 'tuple'>\n",
            "Lista: [1, 2, 3, 4, 5, 6, 7, 8, 9, 10]\n",
            "Tipo de lista: <class 'list'>\n",
            "Error al modificar tupla: 'tuple' object does not support item assignment\n",
            "Lista después de modificar: [100, 2, 3, 4, 5, 6, 7, 8, 9, 10]\n",
            "Tupla permanece igual: (1, 2, 3, 4, 5, 6, 7, 8, 9, 10)\n"
          ]
        }
      ],
      "source": [
        "# Comparación entre tuplas y listas - Basado en tuplas.py\n",
        "print(\"=== COMPARACIÓN ENTRE TUPLAS Y LISTAS ===\")\n",
        "\n",
        "# Crear una tupla\n",
        "num10_1_tupla = (1, 2, 3, 4, 5, 6, 7, 8, 9, 10)\n",
        "print(f\"Tupla: {num10_1_tupla}\")\n",
        "print(f\"Tipo de tupla: {type(num10_1_tupla)}\")\n",
        "\n",
        "# Crear una lista equivalente\n",
        "num10_1_lista = [1, 2, 3, 4, 5, 6, 7, 8, 9, 10]\n",
        "print(f\"Lista: {num10_1_lista}\")\n",
        "print(f\"Tipo de lista: {type(num10_1_lista)}\")\n",
        "\n",
        "# Intentar modificar la tupla (esto causará un error)\n",
        "try:\n",
        "    num10_1_tupla[0] = 100  # Esto fallará\n",
        "    print(\"Modificación exitosa en tupla\")\n",
        "except TypeError as e:\n",
        "    print(f\"Error al modificar tupla: {e}\")\n",
        "\n",
        "# Modificar la lista (esto funcionará)\n",
        "num10_1_lista[0] = 100\n",
        "print(f\"Lista después de modificar: {num10_1_lista}\")\n",
        "print(f\"Tupla permanece igual: {num10_1_tupla}\")\n"
      ]
    },
    {
      "cell_type": "code",
      "execution_count": 10,
      "metadata": {},
      "outputs": [
        {
          "name": "stdout",
          "output_type": "stream",
          "text": [
            "=== OPERACIONES CON TUPLAS ===\n",
            "Primer elemento de la tupla: 1\n",
            "Último elemento de la tupla: 10\n",
            "Primeros 3 elementos: (1, 2, 3)\n",
            "Últimos 3 elementos: (8, 9, 10)\n",
            "Número de elementos: 10\n",
            "¿Está el 5 en la tupla? True\n",
            "Tupla con repeticiones: (1, 2, 2, 3, 3, 3)\n",
            "Número de veces que aparece el 2: 2\n",
            "Índice del número 3: 3\n"
          ]
        }
      ],
      "source": [
        "# Operaciones con tuplas\n",
        "print(\"=== OPERACIONES CON TUPLAS ===\")\n",
        "\n",
        "# Acceder a elementos\n",
        "print(f\"Primer elemento de la tupla: {num10_1_tupla[0]}\")\n",
        "print(f\"Último elemento de la tupla: {num10_1_tupla[-1]}\")\n",
        "\n",
        "# Slicing (rebanado)\n",
        "print(f\"Primeros 3 elementos: {num10_1_tupla[:3]}\")\n",
        "print(f\"Últimos 3 elementos: {num10_1_tupla[-3:]}\")\n",
        "\n",
        "# Contar elementos\n",
        "print(f\"Número de elementos: {len(num10_1_tupla)}\")\n",
        "\n",
        "# Verificar si un elemento está en la tupla\n",
        "print(f\"¿Está el 5 en la tupla? {5 in num10_1_tupla}\")\n",
        "\n",
        "# Contar ocurrencias\n",
        "tupla_con_repeticiones = (1, 2, 2, 3, 3, 3)\n",
        "print(f\"Tupla con repeticiones: {tupla_con_repeticiones}\")\n",
        "print(f\"Número de veces que aparece el 2: {tupla_con_repeticiones.count(2)}\")\n",
        "\n",
        "# Encontrar índice de un elemento\n",
        "print(f\"Índice del número 3: {tupla_con_repeticiones.index(3)}\")\n"
      ]
    },
    {
      "cell_type": "markdown",
      "metadata": {},
      "source": [
        "## 6. Ciclos (Loops)\n",
        "\n",
        "Los ciclos permiten repetir bloques de código. Python tiene dos tipos principales: `for` y `while`. Los ciclos `for` son especialmente útiles para iterar sobre secuencias.\n"
      ]
    },
    {
      "cell_type": "code",
      "execution_count": 11,
      "metadata": {},
      "outputs": [
        {
          "name": "stdout",
          "output_type": "stream",
          "text": [
            "=== CICLO FOR BÁSICO ===\n",
            "Iterando sobre cada letra:\n",
            "================================\n",
            "w\n",
            "================================\n",
            "i\n",
            "================================\n",
            "l\n",
            "================================\n",
            "m\n",
            "================================\n",
            "a\n",
            "================================\n",
            "r\n",
            "\n",
            "Iterando sobre rango 0-9:\n",
            "0\n",
            "1\n",
            "2\n",
            "3\n",
            "4\n",
            "5\n",
            "6\n",
            "7\n",
            "8\n",
            "9\n",
            "\n",
            "Iterando sobre rango 5-9:\n",
            "5\n",
            "6\n",
            "7\n",
            "8\n",
            "9\n"
          ]
        }
      ],
      "source": [
        "# Ciclo for básico - Basado en ciclos.py\n",
        "print(\"=== CICLO FOR BÁSICO ===\")\n",
        "\n",
        "# Iterar sobre una cadena\n",
        "nombre = \"wilmar\"\n",
        "print(\"Iterando sobre cada letra:\")\n",
        "for letra in nombre:\n",
        "    print(\"=\" * 32)\n",
        "    print(letra)\n",
        "\n",
        "# Iterar sobre un rango de números\n",
        "print(\"\\nIterando sobre rango 0-9:\")\n",
        "for i in range(10):\n",
        "    print(i)\n",
        "\n",
        "# Iterar sobre un rango específico\n",
        "print(\"\\nIterando sobre rango 5-9:\")\n",
        "for num in range(5, 10):\n",
        "    print(num)\n"
      ]
    },
    {
      "cell_type": "code",
      "execution_count": 12,
      "metadata": {},
      "outputs": [
        {
          "name": "stdout",
          "output_type": "stream",
          "text": [
            "=== CICLO FOR CON CONDICIONALES ===\n",
            "Números pares del 1 al 10:\n",
            "Error, el número 1 no es par\n",
            "2 es par\n",
            "Error, el número 3 no es par\n",
            "4 es par\n",
            "Error, el número 5 no es par\n",
            "6 es par\n",
            "Error, el número 7 no es par\n",
            "8 es par\n",
            "Error, el número 9 no es par\n",
            "10 es par\n"
          ]
        }
      ],
      "source": [
        "# Ciclo for con condicionales\n",
        "print(\"=== CICLO FOR CON CONDICIONALES ===\")\n",
        "\n",
        "# Iterar sobre una lista y aplicar condiciones\n",
        "num10_1 = (1, 2, 3, 4, 5, 6, 7, 8, 9, 10)\n",
        "\n",
        "print(\"Números pares del 1 al 10:\")\n",
        "for num in num10_1:\n",
        "    if num % 2 == 0:\n",
        "        print(f\"{num} es par\")\n",
        "    else:\n",
        "        print(f\"Error, el número {num} no es par\")\n"
      ]
    },
    {
      "cell_type": "code",
      "execution_count": 13,
      "metadata": {},
      "outputs": [
        {
          "name": "stdout",
          "output_type": "stream",
          "text": [
            "=== ITERAR SOBRE DICCIONARIOS ===\n",
            "Iterando sobre pares clave-valor:\n",
            "Mi amigo wilmar tiene 30 años\n",
            "Mi amigo jennyfer tiene 28 años\n",
            "Mi amigo herney tiene 35 años\n",
            "\n",
            "Iterando sobre valores:\n",
            "Valores: [30, 28, 35]\n",
            "Promedio de edades: 31.0\n",
            "Promedio usando numpy: 31.0\n"
          ]
        }
      ],
      "source": [
        "# Iterar sobre diccionarios\n",
        "print(\"=== ITERAR SOBRE DICCIONARIOS ===\")\n",
        "\n",
        "edades_amigos = {\n",
        "    \"wilmar\": 30,\n",
        "    \"jennyfer\": 28,\n",
        "    \"herney\": 35\n",
        "}\n",
        "\n",
        "# Iterar sobre pares clave-valor\n",
        "print(\"Iterando sobre pares clave-valor:\")\n",
        "for amigo, edad in edades_amigos.items():\n",
        "    print(f\"Mi amigo {amigo} tiene {edad} años\")\n",
        "\n",
        "# Iterar solo sobre valores\n",
        "print(\"\\nIterando sobre valores:\")\n",
        "print(\"Valores:\", list(edades_amigos.values()))\n",
        "\n",
        "# Calcular promedio de edades\n",
        "suma = 0\n",
        "for edad in edades_amigos.values():\n",
        "    suma = suma + edad\n",
        "promedio = suma / len(edades_amigos)\n",
        "print(f\"Promedio de edades: {promedio}\")\n",
        "\n",
        "# Usando numpy para calcular promedio (como en el script original)\n",
        "import numpy as np\n",
        "print(\"Promedio usando numpy:\", np.mean(list(edades_amigos.values())))\n"
      ]
    },
    {
      "cell_type": "markdown",
      "metadata": {},
      "source": [
        "## 7. Funciones\n",
        "\n",
        "Las funciones son bloques de código reutilizables que realizan una tarea específica. Permiten organizar el código y evitar repetición.\n"
      ]
    },
    {
      "cell_type": "code",
      "execution_count": 14,
      "metadata": {},
      "outputs": [
        {
          "name": "stdout",
          "output_type": "stream",
          "text": [
            "Probando con 11\n",
            "Hasta ahora el máximo es: 11\n",
            "Probando con 12\n",
            "Hasta ahora el máximo es: 12\n",
            "Probando con 13\n",
            "Hasta ahora el máximo es: 13\n",
            "Probando con 8\n",
            "Hasta ahora el máximo es: 13\n",
            "Probando con 2\n",
            "Hasta ahora el máximo es: 13\n",
            "Probando con 1\n",
            "Hasta ahora el máximo es: 13\n",
            "Probando con 100\n",
            "Hasta ahora el máximo es: 100\n",
            "El valor máximo es: 100\n"
          ]
        }
      ],
      "source": [
        "# Función para encontrar el máximo - Basado en funciones.py y utils.py\n",
        "def maximo(lista):\n",
        "    \"\"\"\n",
        "    Encuentra el valor máximo en una lista.\n",
        "    \n",
        "    Args:\n",
        "        lista: Lista de números\n",
        "        \n",
        "    Returns:\n",
        "        El valor máximo de la lista\n",
        "    \"\"\"\n",
        "    max_val = lista[0]\n",
        "    for num in lista:\n",
        "        print(f\"Probando con {num}\")\n",
        "        if num > max_val:\n",
        "            max_val = num\n",
        "        print(f\"Hasta ahora el máximo es: {max_val}\")\n",
        "    return max_val\n",
        "\n",
        "# Usar la función\n",
        "num11_20 = [11, 12, 13, 8, 2, 1, 100]\n",
        "max_val = maximo(num11_20)\n",
        "print(f\"El valor máximo es: {max_val}\")\n"
      ]
    },
    {
      "cell_type": "code",
      "execution_count": 15,
      "metadata": {},
      "outputs": [
        {
          "name": "stdout",
          "output_type": "stream",
          "text": [
            "=== MÁS EJEMPLOS DE FUNCIONES ===\n",
            "¡Hola Wilmar!\n",
            "Promedio de [1, 2, 3, 4, 5]: 3.0\n",
            "¿Es 4 par? True\n",
            "¿Es 7 par? False\n"
          ]
        }
      ],
      "source": [
        "# Más ejemplos de funciones\n",
        "print(\"=== MÁS EJEMPLOS DE FUNCIONES ===\")\n",
        "\n",
        "def saludar(nombre):\n",
        "    \"\"\"Función simple que saluda a una persona.\"\"\"\n",
        "    return f\"¡Hola {nombre}!\"\n",
        "\n",
        "def calcular_promedio(numeros):\n",
        "    \"\"\"Calcula el promedio de una lista de números.\"\"\"\n",
        "    if len(numeros) == 0:\n",
        "        return 0\n",
        "    return sum(numeros) / len(numeros)\n",
        "\n",
        "def es_par(numero):\n",
        "    \"\"\"Determina si un número es par.\"\"\"\n",
        "    return numero % 2 == 0\n",
        "\n",
        "# Usar las funciones\n",
        "print(saludar(\"Wilmar\"))\n",
        "\n",
        "numeros = [1, 2, 3, 4, 5]\n",
        "promedio = calcular_promedio(numeros)\n",
        "print(f\"Promedio de {numeros}: {promedio}\")\n",
        "\n",
        "print(f\"¿Es 4 par? {es_par(4)}\")\n",
        "print(f\"¿Es 7 par? {es_par(7)}\")\n"
      ]
    },
    {
      "cell_type": "markdown",
      "metadata": {},
      "source": [
        "## 8. Condicionales\n",
        "\n",
        "Los condicionales permiten que el programa tome decisiones basadas en condiciones. La estructura básica es `if`, `elif` y `else`.\n"
      ]
    },
    {
      "cell_type": "code",
      "execution_count": 16,
      "metadata": {},
      "outputs": [
        {
          "name": "stdout",
          "output_type": "stream",
          "text": [
            "=== CONDICIONALES BÁSICOS ===\n",
            "Eres mayor de edad\n",
            "\n",
            "=== CONDICIONALES MÁS COMPLEJOS ===\n",
            "Edad 5: Niño\n",
            "Edad 15: Adolescente\n",
            "Edad 25: Adulto\n",
            "Edad 65: Adulto mayor\n",
            "Edad -1: Edad inválida\n"
          ]
        }
      ],
      "source": [
        "# Condicionales básicos - Basado en edad.py\n",
        "print(\"=== CONDICIONALES BÁSICOS ===\")\n",
        "\n",
        "# Ejemplo simple de if-else\n",
        "edad = 20  # Puedes cambiar este valor para probar\n",
        "\n",
        "if edad >= 18:\n",
        "    print(\"Eres mayor de edad\")\n",
        "else:\n",
        "    print(\"Eres menor de edad\")\n",
        "\n",
        "# Condicionales más complejos\n",
        "print(\"\\n=== CONDICIONALES MÁS COMPLEJOS ===\")\n",
        "\n",
        "def clasificar_edad(edad):\n",
        "    \"\"\"Clasifica una edad en diferentes categorías.\"\"\"\n",
        "    if edad < 0:\n",
        "        return \"Edad inválida\"\n",
        "    elif edad < 13:\n",
        "        return \"Niño\"\n",
        "    elif edad < 20:\n",
        "        return \"Adolescente\"\n",
        "    elif edad < 60:\n",
        "        return \"Adulto\"\n",
        "    else:\n",
        "        return \"Adulto mayor\"\n",
        "\n",
        "# Probar la función con diferentes edades\n",
        "edades_prueba = [5, 15, 25, 65, -1]\n",
        "for edad in edades_prueba:\n",
        "    print(f\"Edad {edad}: {clasificar_edad(edad)}\")\n"
      ]
    },
    {
      "cell_type": "code",
      "execution_count": 17,
      "metadata": {},
      "outputs": [
        {
          "name": "stdout",
          "output_type": "stream",
          "text": [
            "=== OPERADORES DE COMPARACIÓN ===\n",
            "a = 10, b = 20\n",
            "a == b: False\n",
            "a != b: True\n",
            "a < b: True\n",
            "a > b: False\n",
            "a <= b: True\n",
            "a >= b: False\n",
            "\n",
            "=== OPERADORES LÓGICOS ===\n",
            "x = True, y = False\n",
            "x and y: False\n",
            "x or y: True\n",
            "not x: False\n",
            "Puede conducir\n"
          ]
        }
      ],
      "source": [
        "# Operadores de comparación y lógicos\n",
        "print(\"=== OPERADORES DE COMPARACIÓN ===\")\n",
        "\n",
        "# Operadores de comparación\n",
        "a = 10\n",
        "b = 20\n",
        "\n",
        "print(f\"a = {a}, b = {b}\")\n",
        "print(f\"a == b: {a == b}\")  # Igual\n",
        "print(f\"a != b: {a != b}\")  # Diferente\n",
        "print(f\"a < b: {a < b}\")     # Menor que\n",
        "print(f\"a > b: {a > b}\")     # Mayor que\n",
        "print(f\"a <= b: {a <= b}\")   # Menor o igual\n",
        "print(f\"a >= b: {a >= b}\")   # Mayor o igual\n",
        "\n",
        "# Operadores lógicos\n",
        "print(\"\\n=== OPERADORES LÓGICOS ===\")\n",
        "x = True\n",
        "y = False\n",
        "\n",
        "print(f\"x = {x}, y = {y}\")\n",
        "print(f\"x and y: {x and y}\")  # Y lógico\n",
        "print(f\"x or y: {x or y}\")     # O lógico\n",
        "print(f\"not x: {not x}\")       # Negación\n",
        "\n",
        "# Ejemplo práctico\n",
        "edad = 25\n",
        "tiene_licencia = True\n",
        "\n",
        "if edad >= 18 and tiene_licencia:\n",
        "    print(\"Puede conducir\")\n",
        "else:\n",
        "    print(\"No puede conducir\")\n"
      ]
    },
    {
      "cell_type": "markdown",
      "metadata": {},
      "source": [
        "## 9. Ejercicios Prácticos\n",
        "\n",
        "Ahora vamos a practicar con ejercicios que combinan todos los conceptos aprendidos.\n"
      ]
    },
    {
      "cell_type": "code",
      "execution_count": 18,
      "metadata": {},
      "outputs": [
        {
          "name": "stdout",
          "output_type": "stream",
          "text": [
            "=== EJERCICIO 1: SISTEMA DE GESTIÓN DE ESTUDIANTES ===\n",
            "Análisis de estudiantes:\n",
            "Ana: Promedio 86.2 - Bueno\n",
            "Carlos: Promedio 85.0 - Bueno\n",
            "María: Promedio 90.5 - Excelente\n",
            "Luis: Promedio 83.2 - Bueno\n"
          ]
        }
      ],
      "source": [
        "# Ejercicio 1: Sistema de gestión de estudiantes\n",
        "print(\"=== EJERCICIO 1: SISTEMA DE GESTIÓN DE ESTUDIANTES ===\")\n",
        "\n",
        "# Crear un diccionario con información de estudiantes\n",
        "estudiantes = {\n",
        "    \"Ana\": {\"edad\": 20, \"notas\": [85, 90, 78, 92]},\n",
        "    \"Carlos\": {\"edad\": 22, \"notas\": [76, 88, 91, 85]},\n",
        "    \"María\": {\"edad\": 19, \"notas\": [92, 87, 89, 94]},\n",
        "    \"Luis\": {\"edad\": 21, \"notas\": [78, 82, 85, 88]}\n",
        "}\n",
        "\n",
        "def calcular_promedio_estudiante(notas):\n",
        "    \"\"\"Calcula el promedio de notas de un estudiante.\"\"\"\n",
        "    return sum(notas) / len(notas)\n",
        "\n",
        "def clasificar_rendimiento(promedio):\n",
        "    \"\"\"Clasifica el rendimiento basado en el promedio.\"\"\"\n",
        "    if promedio >= 90:\n",
        "        return \"Excelente\"\n",
        "    elif promedio >= 80:\n",
        "        return \"Bueno\"\n",
        "    elif promedio >= 70:\n",
        "        return \"Regular\"\n",
        "    else:\n",
        "        return \"Necesita mejorar\"\n",
        "\n",
        "# Analizar cada estudiante\n",
        "print(\"Análisis de estudiantes:\")\n",
        "for nombre, datos in estudiantes.items():\n",
        "    promedio = calcular_promedio_estudiante(datos[\"notas\"])\n",
        "    rendimiento = clasificar_rendimiento(promedio)\n",
        "    print(f\"{nombre}: Promedio {promedio:.1f} - {rendimiento}\")\n"
      ]
    },
    {
      "cell_type": "code",
      "execution_count": 19,
      "metadata": {},
      "outputs": [
        {
          "name": "stdout",
          "output_type": "stream",
          "text": [
            "\n",
            "=== EJERCICIO 2: ANÁLISIS DE DATOS ===\n",
            "Análisis de ventas:\n",
            "Ventas enero: [100, 150, 200, 120, 180, 250, 300, 220, 180, 200, 250, 300]\n",
            "Ventas febrero: [120, 180, 220, 150, 200, 280, 320, 240, 200, 220, 280, 320]\n",
            "\n",
            "Días con ventas altas en enero: [7, 12]\n",
            "Días con ventas altas en febrero: [6, 7, 11, 12]\n",
            "\n",
            "Estadísticas enero: {'total': 2450, 'promedio': 204.16666666666666, 'maximo': 300, 'minimo': 100}\n",
            "Estadísticas febrero: {'total': 2730, 'promedio': 227.5, 'maximo': 320, 'minimo': 120}\n"
          ]
        }
      ],
      "source": [
        "# Ejercicio 2: Análisis de datos con listas y sets\n",
        "print(\"\\n=== EJERCICIO 2: ANÁLISIS DE DATOS ===\")\n",
        "\n",
        "# Lista de ventas por mes\n",
        "ventas_enero = [100, 150, 200, 120, 180, 250, 300, 220, 180, 200, 250, 300]\n",
        "ventas_febrero = [120, 180, 220, 150, 200, 280, 320, 240, 200, 220, 280, 320]\n",
        "\n",
        "# Encontrar días con ventas altas (mayores a 250)\n",
        "def encontrar_ventas_altas(ventas, umbral=250):\n",
        "    \"\"\"Encuentra días con ventas por encima del umbral.\"\"\"\n",
        "    dias_altas = []\n",
        "    for i, venta in enumerate(ventas):\n",
        "        if venta > umbral:\n",
        "            dias_altas.append(i + 1)  # +1 porque los días empiezan en 1\n",
        "    return dias_altas\n",
        "\n",
        "# Análisis de ventas\n",
        "print(\"Análisis de ventas:\")\n",
        "print(f\"Ventas enero: {ventas_enero}\")\n",
        "print(f\"Ventas febrero: {ventas_febrero}\")\n",
        "\n",
        "print(f\"\\nDías con ventas altas en enero: {encontrar_ventas_altas(ventas_enero)}\")\n",
        "print(f\"Días con ventas altas en febrero: {encontrar_ventas_altas(ventas_febrero)}\")\n",
        "\n",
        "# Calcular estadísticas\n",
        "def calcular_estadisticas(ventas):\n",
        "    \"\"\"Calcula estadísticas básicas de ventas.\"\"\"\n",
        "    return {\n",
        "        \"total\": sum(ventas),\n",
        "        \"promedio\": sum(ventas) / len(ventas),\n",
        "        \"maximo\": max(ventas),\n",
        "        \"minimo\": min(ventas)\n",
        "    }\n",
        "\n",
        "stats_enero = calcular_estadisticas(ventas_enero)\n",
        "stats_febrero = calcular_estadisticas(ventas_febrero)\n",
        "\n",
        "print(f\"\\nEstadísticas enero: {stats_enero}\")\n",
        "print(f\"Estadísticas febrero: {stats_febrero}\")\n"
      ]
    },
    {
      "cell_type": "code",
      "execution_count": 20,
      "metadata": {},
      "outputs": [
        {
          "name": "stdout",
          "output_type": "stream",
          "text": [
            "\n",
            "=== EJERCICIO 3: JUEGO DE ADIVINANZA ===\n"
          ]
        }
      ],
      "source": [
        "# Ejercicio 3: Juego de adivinanza\n",
        "print(\"\\n=== EJERCICIO 3: JUEGO DE ADIVINANZA ===\")\n",
        "\n",
        "import random\n",
        "\n",
        "def juego_adivinanza():\n",
        "    \"\"\"Juego simple de adivinanza de números.\"\"\"\n",
        "    numero_secreto = random.randint(1, 100)\n",
        "    intentos = 0\n",
        "    max_intentos = 7\n",
        "    \n",
        "    print(\"¡Bienvenido al juego de adivinanza!\")\n",
        "    print(\"He pensado en un número entre 1 y 100\")\n",
        "    print(f\"Tienes {max_intentos} intentos para adivinarlo\")\n",
        "    \n",
        "    while intentos < max_intentos:\n",
        "        try:\n",
        "            guess = int(input(f\"Intento {intentos + 1}: Ingresa tu número: \"))\n",
        "            intentos += 1\n",
        "            \n",
        "            if guess == numero_secreto:\n",
        "                print(f\"¡Felicitaciones! Adivinaste en {intentos} intentos\")\n",
        "                return True\n",
        "            elif guess < numero_secreto:\n",
        "                print(\"El número es mayor\")\n",
        "            else:\n",
        "                print(\"El número es menor\")\n",
        "                \n",
        "        except ValueError:\n",
        "            print(\"Por favor ingresa un número válido\")\n",
        "            intentos -= 1  # No contar este intento inválido\n",
        "    \n",
        "    print(f\"¡Se acabaron los intentos! El número era {numero_secreto}\")\n",
        "    return False\n",
        "\n",
        "# Descomenta la siguiente línea para jugar\n",
        "# juego_adivinanza()\n"
      ]
    },
    {
      "cell_type": "markdown",
      "metadata": {},
      "source": [
        "## 10. Introducción a Pandas"
      ]
    },
    {
      "cell_type": "markdown",
      "metadata": {},
      "source": [
        "## Series"
      ]
    },
    {
      "cell_type": "code",
      "execution_count": null,
      "metadata": {},
      "outputs": [],
      "source": []
    },
    {
      "cell_type": "markdown",
      "metadata": {},
      "source": [
        "## DataFrames"
      ]
    },
    {
      "cell_type": "code",
      "execution_count": null,
      "metadata": {},
      "outputs": [],
      "source": [
        "datos = {\n",
        "    \"Nombre\": [\"Ana\", \"Luis\", \"Carlos\", \"Marta\"],\n",
        "    \"Edad\": [23, 35, 42, 29],\n",
        "    \"Ciudad\": [\"Bogotá\", \"Medellín\", \"Cali\", \"Barranquilla\"]\n",
        "}"
      ]
    },
    {
      "cell_type": "markdown",
      "metadata": {},
      "source": [
        "## Resumen y Próximos Pasos\n",
        "\n",
        "### Lo que hemos aprendido:\n",
        "\n",
        "1. **Variables y tipos de datos**: Cómo almacenar y trabajar con diferentes tipos de información\n",
        "2. **Listas**: Colecciones ordenadas y mutables de elementos\n",
        "3. **Diccionarios**: Estructuras clave-valor para organizar información\n",
        "4. **Sets**: Colecciones de elementos únicos con operaciones matemáticas\n",
        "5. **Tuplas**: Colecciones inmutables para datos que no cambian\n",
        "6. **Ciclos**: Cómo repetir código con `for` y `while`\n",
        "7. **Funciones**: Cómo crear código reutilizable\n",
        "8. **Condicionales**: Cómo tomar decisiones en el código\n",
        "\n",
        "### Próximos pasos recomendados:\n",
        "\n",
        "- **Manejo de archivos**: Aprender a leer y escribir archivos\n",
        "- **Manejo de errores**: Usar `try-except` para manejar errores\n",
        "- **Módulos y paquetes**: Organizar código en múltiples archivos\n",
        "- **Programación orientada a objetos**: Clases y objetos\n",
        "- **Librerías especializadas**: NumPy, Pandas, Matplotlib para análisis de datos\n",
        "\n",
        "### Recursos adicionales:\n",
        "\n",
        "- [Documentación oficial de Python](https://docs.python.org/3/)\n",
        "- [Python para Data Science](https://pandas.pydata.org/)\n",
        "- [NumPy Tutorial](https://numpy.org/doc/stable/user/quickstart.html)\n",
        "\n",
        "¡Felicitaciones por completar este tutorial de fundamentos de Python! 🎉\n"
      ]
    },
    {
      "cell_type": "markdown",
      "metadata": {},
      "source": []
    },
    {
      "cell_type": "markdown",
      "metadata": {},
      "source": []
    }
  ],
  "metadata": {
    "kernelspec": {
      "display_name": ".venv",
      "language": "python",
      "name": "python3"
    },
    "language_info": {
      "codemirror_mode": {
        "name": "ipython",
        "version": 3
      },
      "file_extension": ".py",
      "mimetype": "text/x-python",
      "name": "python",
      "nbconvert_exporter": "python",
      "pygments_lexer": "ipython3",
      "version": "3.11.5"
    }
  },
  "nbformat": 4,
  "nbformat_minor": 2
}
