{
 "cells": [
  {
   "cell_type": "markdown",
   "id": "f02e7824",
   "metadata": {},
   "source": [
    "# Comencemos con la ciencia de datos"
   ]
  },
  {
   "cell_type": "markdown",
   "id": "3fa14a00",
   "metadata": {},
   "source": [
    "![Diagrama de Venn de las fuentes de datos](../assets/ds_venn.jpg)\n"
   ]
  },
  {
   "cell_type": "code",
   "execution_count": 2,
   "id": "9475fe91",
   "metadata": {},
   "outputs": [],
   "source": [
    "import pandas as pd\n",
    "import numpy as np"
   ]
  },
  {
   "cell_type": "code",
   "execution_count": 18,
   "id": "4fb1ee60",
   "metadata": {},
   "outputs": [
    {
     "data": {
      "text/html": [
       "<div>\n",
       "<style scoped>\n",
       "    .dataframe tbody tr th:only-of-type {\n",
       "        vertical-align: middle;\n",
       "    }\n",
       "\n",
       "    .dataframe tbody tr th {\n",
       "        vertical-align: top;\n",
       "    }\n",
       "\n",
       "    .dataframe thead th {\n",
       "        text-align: right;\n",
       "    }\n",
       "</style>\n",
       "<table border=\"1\" class=\"dataframe\">\n",
       "  <thead>\n",
       "    <tr style=\"text-align: right;\">\n",
       "      <th></th>\n",
       "      <th>product</th>\n",
       "      <th>price</th>\n",
       "      <th>link</th>\n",
       "      <th>years</th>\n",
       "      <th>kilometraje</th>\n",
       "      <th>_created</th>\n",
       "      <th>id</th>\n",
       "      <th>location_city</th>\n",
       "      <th>location_state</th>\n",
       "    </tr>\n",
       "  </thead>\n",
       "  <tbody>\n",
       "    <tr>\n",
       "      <th>0</th>\n",
       "      <td>Byd Song Plus Dm-i 1.5 Hibrida Enchufable</td>\n",
       "      <td>183900000</td>\n",
       "      <td>https://carro.mercadolibre.com.co/MCO-14023610...</td>\n",
       "      <td>2024</td>\n",
       "      <td>5800</td>\n",
       "      <td>2024-03-14</td>\n",
       "      <td>1402361017</td>\n",
       "      <td>Suba</td>\n",
       "      <td>Bogotá D.C.</td>\n",
       "    </tr>\n",
       "    <tr>\n",
       "      <th>1</th>\n",
       "      <td>Mazda 3 2.0 Grand Touring</td>\n",
       "      <td>64900000</td>\n",
       "      <td>https://carro.mercadolibre.com.co/MCO-22614289...</td>\n",
       "      <td>2016</td>\n",
       "      <td>59000</td>\n",
       "      <td>2024-03-14</td>\n",
       "      <td>2261428954</td>\n",
       "      <td>Envigado</td>\n",
       "      <td>Antioquia</td>\n",
       "    </tr>\n",
       "    <tr>\n",
       "      <th>2</th>\n",
       "      <td>Chevrolet Tracker 1.8 Lt</td>\n",
       "      <td>72000000</td>\n",
       "      <td>https://carro.mercadolibre.com.co/MCO-14023596...</td>\n",
       "      <td>2018</td>\n",
       "      <td>47000</td>\n",
       "      <td>2024-03-14</td>\n",
       "      <td>1402359669</td>\n",
       "      <td>Usaquén</td>\n",
       "      <td>Bogotá D.C.</td>\n",
       "    </tr>\n",
       "    <tr>\n",
       "      <th>3</th>\n",
       "      <td>Kia Picanto 1.2 Vibrant</td>\n",
       "      <td>59500000</td>\n",
       "      <td>https://carro.mercadolibre.com.co/MCO-22614018...</td>\n",
       "      <td>2024</td>\n",
       "      <td>3600</td>\n",
       "      <td>2024-03-14</td>\n",
       "      <td>2261401840</td>\n",
       "      <td>Suba</td>\n",
       "      <td>Bogotá D.C.</td>\n",
       "    </tr>\n",
       "    <tr>\n",
       "      <th>4</th>\n",
       "      <td>Nissan X-trail 2.5 Kapital</td>\n",
       "      <td>63000000</td>\n",
       "      <td>https://carro.mercadolibre.com.co/MCO-22614783...</td>\n",
       "      <td>2015</td>\n",
       "      <td>81000</td>\n",
       "      <td>2024-03-14</td>\n",
       "      <td>2261478326</td>\n",
       "      <td>Kennedy</td>\n",
       "      <td>Bogotá D.C.</td>\n",
       "    </tr>\n",
       "  </tbody>\n",
       "</table>\n",
       "</div>"
      ],
      "text/plain": [
       "                                     product      price  \\\n",
       "0  Byd Song Plus Dm-i 1.5 Hibrida Enchufable  183900000   \n",
       "1                  Mazda 3 2.0 Grand Touring   64900000   \n",
       "2                   Chevrolet Tracker 1.8 Lt   72000000   \n",
       "3                    Kia Picanto 1.2 Vibrant   59500000   \n",
       "4                 Nissan X-trail 2.5 Kapital   63000000   \n",
       "\n",
       "                                                link  years  kilometraje  \\\n",
       "0  https://carro.mercadolibre.com.co/MCO-14023610...   2024         5800   \n",
       "1  https://carro.mercadolibre.com.co/MCO-22614289...   2016        59000   \n",
       "2  https://carro.mercadolibre.com.co/MCO-14023596...   2018        47000   \n",
       "3  https://carro.mercadolibre.com.co/MCO-22614018...   2024         3600   \n",
       "4  https://carro.mercadolibre.com.co/MCO-22614783...   2015        81000   \n",
       "\n",
       "     _created          id location_city location_state  \n",
       "0  2024-03-14  1402361017          Suba    Bogotá D.C.  \n",
       "1  2024-03-14  2261428954      Envigado      Antioquia  \n",
       "2  2024-03-14  1402359669       Usaquén    Bogotá D.C.  \n",
       "3  2024-03-14  2261401840          Suba    Bogotá D.C.  \n",
       "4  2024-03-14  2261478326       Kennedy    Bogotá D.C.  "
      ]
     },
     "execution_count": 18,
     "metadata": {},
     "output_type": "execute_result"
    }
   ],
   "source": [
    "data = pd.read_excel('../data/bronze/car_raw.xlsx')\n",
    "data.shape\n",
    "data.head()"
   ]
  },
  {
   "cell_type": "code",
   "execution_count": null,
   "id": "5fd316ce",
   "metadata": {},
   "outputs": [],
   "source": []
  }
 ],
 "metadata": {
  "kernelspec": {
   "display_name": ".venv",
   "language": "python",
   "name": "python3"
  },
  "language_info": {
   "codemirror_mode": {
    "name": "ipython",
    "version": 3
   },
   "file_extension": ".py",
   "mimetype": "text/x-python",
   "name": "python",
   "nbconvert_exporter": "python",
   "pygments_lexer": "ipython3",
   "version": "3.11.5"
  }
 },
 "nbformat": 4,
 "nbformat_minor": 5
}
