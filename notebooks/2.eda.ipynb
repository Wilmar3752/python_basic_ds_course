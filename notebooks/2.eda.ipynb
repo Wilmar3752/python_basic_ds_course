{
 "cells": [
  {
   "cell_type": "markdown",
   "id": "f02e7824",
   "metadata": {},
   "source": [
    "# Comencemos con la ciencia de datos"
   ]
  },
  {
   "cell_type": "markdown",
   "id": "3fa14a00",
   "metadata": {},
   "source": [
    "![Diagrama de Venn de las fuentes de datos](../assets/ds_venn.jpg)\n"
   ]
  },
  {
   "cell_type": "code",
   "execution_count": null,
   "id": "9475fe91",
   "metadata": {},
   "outputs": [],
   "source": [
    "import pandas as pd\n",
    "import numpy as np\n",
    "import matplotlib.pyplot as plt\n",
    "import matplotlib.ticker as mticker\n",
    "\n"
   ]
  },
  {
   "cell_type": "code",
   "execution_count": 28,
   "id": "64c69573",
   "metadata": {},
   "outputs": [],
   "source": [
    "## mala practica hardcodear rutas absolutas\n",
    "data_no_usar = pd.read_csv(\"/Users/wilmarsepulvedaherrera/Desktop/python_basic_ds_course/data/bronze/car_raw.csv\")"
   ]
  },
  {
   "cell_type": "code",
   "execution_count": 29,
   "id": "4fb1ee60",
   "metadata": {},
   "outputs": [
    {
     "name": "stdout",
     "output_type": "stream",
     "text": [
      "(7250, 9)\n"
     ]
    },
    {
     "data": {
      "text/html": [
       "<div>\n",
       "<style scoped>\n",
       "    .dataframe tbody tr th:only-of-type {\n",
       "        vertical-align: middle;\n",
       "    }\n",
       "\n",
       "    .dataframe tbody tr th {\n",
       "        vertical-align: top;\n",
       "    }\n",
       "\n",
       "    .dataframe thead th {\n",
       "        text-align: right;\n",
       "    }\n",
       "</style>\n",
       "<table border=\"1\" class=\"dataframe\">\n",
       "  <thead>\n",
       "    <tr style=\"text-align: right;\">\n",
       "      <th></th>\n",
       "      <th>product</th>\n",
       "      <th>price</th>\n",
       "      <th>link</th>\n",
       "      <th>years</th>\n",
       "      <th>kilometraje</th>\n",
       "      <th>_created</th>\n",
       "      <th>id</th>\n",
       "      <th>location_city</th>\n",
       "      <th>location_state</th>\n",
       "    </tr>\n",
       "  </thead>\n",
       "  <tbody>\n",
       "    <tr>\n",
       "      <th>0</th>\n",
       "      <td>Byd Song Plus Dm-i 1.5 Hibrida Enchufable</td>\n",
       "      <td>183900000</td>\n",
       "      <td>https://carro.mercadolibre.com.co/MCO-14023610...</td>\n",
       "      <td>2024</td>\n",
       "      <td>5800</td>\n",
       "      <td>2024-03-14</td>\n",
       "      <td>1402361017</td>\n",
       "      <td>Suba</td>\n",
       "      <td>Bogotá D.C.</td>\n",
       "    </tr>\n",
       "    <tr>\n",
       "      <th>1</th>\n",
       "      <td>Mazda 3 2.0 Grand Touring</td>\n",
       "      <td>64900000</td>\n",
       "      <td>https://carro.mercadolibre.com.co/MCO-22614289...</td>\n",
       "      <td>2016</td>\n",
       "      <td>59000</td>\n",
       "      <td>2024-03-14</td>\n",
       "      <td>2261428954</td>\n",
       "      <td>Envigado</td>\n",
       "      <td>Antioquia</td>\n",
       "    </tr>\n",
       "    <tr>\n",
       "      <th>2</th>\n",
       "      <td>Chevrolet Tracker 1.8 Lt</td>\n",
       "      <td>72000000</td>\n",
       "      <td>https://carro.mercadolibre.com.co/MCO-14023596...</td>\n",
       "      <td>2018</td>\n",
       "      <td>47000</td>\n",
       "      <td>2024-03-14</td>\n",
       "      <td>1402359669</td>\n",
       "      <td>Usaquén</td>\n",
       "      <td>Bogotá D.C.</td>\n",
       "    </tr>\n",
       "    <tr>\n",
       "      <th>3</th>\n",
       "      <td>Kia Picanto 1.2 Vibrant</td>\n",
       "      <td>59500000</td>\n",
       "      <td>https://carro.mercadolibre.com.co/MCO-22614018...</td>\n",
       "      <td>2024</td>\n",
       "      <td>3600</td>\n",
       "      <td>2024-03-14</td>\n",
       "      <td>2261401840</td>\n",
       "      <td>Suba</td>\n",
       "      <td>Bogotá D.C.</td>\n",
       "    </tr>\n",
       "    <tr>\n",
       "      <th>4</th>\n",
       "      <td>Nissan X-trail 2.5 Kapital</td>\n",
       "      <td>63000000</td>\n",
       "      <td>https://carro.mercadolibre.com.co/MCO-22614783...</td>\n",
       "      <td>2015</td>\n",
       "      <td>81000</td>\n",
       "      <td>2024-03-14</td>\n",
       "      <td>2261478326</td>\n",
       "      <td>Kennedy</td>\n",
       "      <td>Bogotá D.C.</td>\n",
       "    </tr>\n",
       "  </tbody>\n",
       "</table>\n",
       "</div>"
      ],
      "text/plain": [
       "                                     product      price  \\\n",
       "0  Byd Song Plus Dm-i 1.5 Hibrida Enchufable  183900000   \n",
       "1                  Mazda 3 2.0 Grand Touring   64900000   \n",
       "2                   Chevrolet Tracker 1.8 Lt   72000000   \n",
       "3                    Kia Picanto 1.2 Vibrant   59500000   \n",
       "4                 Nissan X-trail 2.5 Kapital   63000000   \n",
       "\n",
       "                                                link  years  kilometraje  \\\n",
       "0  https://carro.mercadolibre.com.co/MCO-14023610...   2024         5800   \n",
       "1  https://carro.mercadolibre.com.co/MCO-22614289...   2016        59000   \n",
       "2  https://carro.mercadolibre.com.co/MCO-14023596...   2018        47000   \n",
       "3  https://carro.mercadolibre.com.co/MCO-22614018...   2024         3600   \n",
       "4  https://carro.mercadolibre.com.co/MCO-22614783...   2015        81000   \n",
       "\n",
       "     _created          id location_city location_state  \n",
       "0  2024-03-14  1402361017          Suba    Bogotá D.C.  \n",
       "1  2024-03-14  2261428954      Envigado      Antioquia  \n",
       "2  2024-03-14  1402359669       Usaquén    Bogotá D.C.  \n",
       "3  2024-03-14  2261401840          Suba    Bogotá D.C.  \n",
       "4  2024-03-14  2261478326       Kennedy    Bogotá D.C.  "
      ]
     },
     "execution_count": 29,
     "metadata": {},
     "output_type": "execute_result"
    }
   ],
   "source": [
    "data = pd.read_excel('../data/bronze/car_raw.xlsx')\n",
    "print(data.shape)\n",
    "data.head()"
   ]
  },
  {
   "cell_type": "code",
   "execution_count": 30,
   "id": "5fd316ce",
   "metadata": {},
   "outputs": [
    {
     "data": {
      "text/html": [
       "<div>\n",
       "<style scoped>\n",
       "    .dataframe tbody tr th:only-of-type {\n",
       "        vertical-align: middle;\n",
       "    }\n",
       "\n",
       "    .dataframe tbody tr th {\n",
       "        vertical-align: top;\n",
       "    }\n",
       "\n",
       "    .dataframe thead th {\n",
       "        text-align: right;\n",
       "    }\n",
       "</style>\n",
       "<table border=\"1\" class=\"dataframe\">\n",
       "  <thead>\n",
       "    <tr style=\"text-align: right;\">\n",
       "      <th></th>\n",
       "      <th>product</th>\n",
       "      <th>price</th>\n",
       "      <th>link</th>\n",
       "      <th>years</th>\n",
       "      <th>kilometraje</th>\n",
       "      <th>_created</th>\n",
       "      <th>id</th>\n",
       "      <th>location_city</th>\n",
       "      <th>location_state</th>\n",
       "    </tr>\n",
       "  </thead>\n",
       "  <tbody>\n",
       "    <tr>\n",
       "      <th>0</th>\n",
       "      <td>Byd Song Plus Dm-i 1.5 Hibrida Enchufable</td>\n",
       "      <td>183900000</td>\n",
       "      <td>https://carro.mercadolibre.com.co/MCO-14023610...</td>\n",
       "      <td>2024</td>\n",
       "      <td>5800</td>\n",
       "      <td>2024-03-14</td>\n",
       "      <td>1402361017</td>\n",
       "      <td>Suba</td>\n",
       "      <td>Bogotá D.C.</td>\n",
       "    </tr>\n",
       "    <tr>\n",
       "      <th>1</th>\n",
       "      <td>Mazda 3 2.0 Grand Touring</td>\n",
       "      <td>64900000</td>\n",
       "      <td>https://carro.mercadolibre.com.co/MCO-22614289...</td>\n",
       "      <td>2016</td>\n",
       "      <td>59000</td>\n",
       "      <td>2024-03-14</td>\n",
       "      <td>2261428954</td>\n",
       "      <td>Envigado</td>\n",
       "      <td>Antioquia</td>\n",
       "    </tr>\n",
       "    <tr>\n",
       "      <th>2</th>\n",
       "      <td>Chevrolet Tracker 1.8 Lt</td>\n",
       "      <td>72000000</td>\n",
       "      <td>https://carro.mercadolibre.com.co/MCO-14023596...</td>\n",
       "      <td>2018</td>\n",
       "      <td>47000</td>\n",
       "      <td>2024-03-14</td>\n",
       "      <td>1402359669</td>\n",
       "      <td>Usaquén</td>\n",
       "      <td>Bogotá D.C.</td>\n",
       "    </tr>\n",
       "    <tr>\n",
       "      <th>3</th>\n",
       "      <td>Kia Picanto 1.2 Vibrant</td>\n",
       "      <td>59500000</td>\n",
       "      <td>https://carro.mercadolibre.com.co/MCO-22614018...</td>\n",
       "      <td>2024</td>\n",
       "      <td>3600</td>\n",
       "      <td>2024-03-14</td>\n",
       "      <td>2261401840</td>\n",
       "      <td>Suba</td>\n",
       "      <td>Bogotá D.C.</td>\n",
       "    </tr>\n",
       "    <tr>\n",
       "      <th>4</th>\n",
       "      <td>Nissan X-trail 2.5 Kapital</td>\n",
       "      <td>63000000</td>\n",
       "      <td>https://carro.mercadolibre.com.co/MCO-22614783...</td>\n",
       "      <td>2015</td>\n",
       "      <td>81000</td>\n",
       "      <td>2024-03-14</td>\n",
       "      <td>2261478326</td>\n",
       "      <td>Kennedy</td>\n",
       "      <td>Bogotá D.C.</td>\n",
       "    </tr>\n",
       "    <tr>\n",
       "      <th>5</th>\n",
       "      <td>Mercedes-benz C 200 Coupe</td>\n",
       "      <td>140000000</td>\n",
       "      <td>https://carro.mercadolibre.com.co/MCO-22614257...</td>\n",
       "      <td>2019</td>\n",
       "      <td>10500</td>\n",
       "      <td>2024-03-14</td>\n",
       "      <td>2261425730</td>\n",
       "      <td>Usaquén</td>\n",
       "      <td>Bogotá D.C.</td>\n",
       "    </tr>\n",
       "    <tr>\n",
       "      <th>6</th>\n",
       "      <td>Bmw X4 2.0 Xdrive20d Xline</td>\n",
       "      <td>184500000</td>\n",
       "      <td>https://carro.mercadolibre.com.co/MCO-22611938...</td>\n",
       "      <td>2019</td>\n",
       "      <td>42333</td>\n",
       "      <td>2024-03-14</td>\n",
       "      <td>2261193834</td>\n",
       "      <td>Medellín</td>\n",
       "      <td>Antioquia</td>\n",
       "    </tr>\n",
       "    <tr>\n",
       "      <th>7</th>\n",
       "      <td>Ford Escape 2.0 Se 4x4</td>\n",
       "      <td>66200000</td>\n",
       "      <td>https://carro.mercadolibre.com.co/MCO-22614370...</td>\n",
       "      <td>2016</td>\n",
       "      <td>91500</td>\n",
       "      <td>2024-03-14</td>\n",
       "      <td>2261437046</td>\n",
       "      <td>Kennedy</td>\n",
       "      <td>Bogotá D.C.</td>\n",
       "    </tr>\n",
       "    <tr>\n",
       "      <th>8</th>\n",
       "      <td>Suzuki Ertiga 1.4 Mpv</td>\n",
       "      <td>49000000</td>\n",
       "      <td>https://carro.mercadolibre.com.co/MCO-22614369...</td>\n",
       "      <td>2016</td>\n",
       "      <td>58000</td>\n",
       "      <td>2024-03-14</td>\n",
       "      <td>2261436920</td>\n",
       "      <td>Ciudad Bolívar</td>\n",
       "      <td>Bogotá D.C.</td>\n",
       "    </tr>\n",
       "    <tr>\n",
       "      <th>9</th>\n",
       "      <td>Bmw X3 2.0 Xdrive30e Tp Hibrida Enchufable.</td>\n",
       "      <td>280000000</td>\n",
       "      <td>https://carro.mercadolibre.com.co/MCO-22611797...</td>\n",
       "      <td>2023</td>\n",
       "      <td>6800</td>\n",
       "      <td>2024-03-14</td>\n",
       "      <td>2261179764</td>\n",
       "      <td>Chapinero</td>\n",
       "      <td>Bogotá D.C.</td>\n",
       "    </tr>\n",
       "    <tr>\n",
       "      <th>10</th>\n",
       "      <td>Mercedes-benz Clase Cla 180 Amg Line 1.3</td>\n",
       "      <td>130000000</td>\n",
       "      <td>https://carro.mercadolibre.com.co/MCO-22613975...</td>\n",
       "      <td>2020</td>\n",
       "      <td>40000</td>\n",
       "      <td>2024-03-14</td>\n",
       "      <td>2261397586</td>\n",
       "      <td>Suba</td>\n",
       "      <td>Bogotá D.C.</td>\n",
       "    </tr>\n",
       "    <tr>\n",
       "      <th>11</th>\n",
       "      <td>Kia Sportage 2.0 Summa</td>\n",
       "      <td>71500000</td>\n",
       "      <td>https://carro.mercadolibre.com.co/MCO-22611788...</td>\n",
       "      <td>2016</td>\n",
       "      <td>65000</td>\n",
       "      <td>2024-03-14</td>\n",
       "      <td>2261178840</td>\n",
       "      <td>Kennedy</td>\n",
       "      <td>Bogotá D.C.</td>\n",
       "    </tr>\n",
       "    <tr>\n",
       "      <th>12</th>\n",
       "      <td>Mazda Cx-30 2.0 Prime At</td>\n",
       "      <td>98000000</td>\n",
       "      <td>https://carro.mercadolibre.com.co/MCO-23152313...</td>\n",
       "      <td>2022</td>\n",
       "      <td>14000</td>\n",
       "      <td>2024-04-09</td>\n",
       "      <td>2315231318</td>\n",
       "      <td>Suba</td>\n",
       "      <td>Bogotá D.C.</td>\n",
       "    </tr>\n",
       "    <tr>\n",
       "      <th>13</th>\n",
       "      <td>Ford Ranger 3.2 Xlt</td>\n",
       "      <td>163800000</td>\n",
       "      <td>https://carro.mercadolibre.com.co/MCO-23152696...</td>\n",
       "      <td>2023</td>\n",
       "      <td>13158</td>\n",
       "      <td>2024-04-09</td>\n",
       "      <td>2315269670</td>\n",
       "      <td>Barrios Unidos</td>\n",
       "      <td>Bogotá D.C.</td>\n",
       "    </tr>\n",
       "    <tr>\n",
       "      <th>14</th>\n",
       "      <td>Audi A4 1.8 Tfsi Comfort</td>\n",
       "      <td>63000000</td>\n",
       "      <td>https://carro.mercadolibre.com.co/MCO-23152306...</td>\n",
       "      <td>2014</td>\n",
       "      <td>41000</td>\n",
       "      <td>2024-04-09</td>\n",
       "      <td>2315230624</td>\n",
       "      <td>Usaquén</td>\n",
       "      <td>Bogotá D.C.</td>\n",
       "    </tr>\n",
       "    <tr>\n",
       "      <th>15</th>\n",
       "      <td>Toyota Corolla Cross 1.8 Se-g Hybrid</td>\n",
       "      <td>155900000</td>\n",
       "      <td>https://carro.mercadolibre.com.co/MCO-23151661...</td>\n",
       "      <td>2024</td>\n",
       "      <td>12000</td>\n",
       "      <td>2024-04-09</td>\n",
       "      <td>2315166184</td>\n",
       "      <td>Usaquén</td>\n",
       "      <td>Bogotá D.C.</td>\n",
       "    </tr>\n",
       "    <tr>\n",
       "      <th>16</th>\n",
       "      <td>Jeep Wrangler 3.6 Sport Unlimited</td>\n",
       "      <td>195000000</td>\n",
       "      <td>https://carro.mercadolibre.com.co/MCO-23152042...</td>\n",
       "      <td>2018</td>\n",
       "      <td>72500</td>\n",
       "      <td>2024-04-09</td>\n",
       "      <td>2315204270</td>\n",
       "      <td>Usaquén</td>\n",
       "      <td>Bogotá D.C.</td>\n",
       "    </tr>\n",
       "    <tr>\n",
       "      <th>17</th>\n",
       "      <td>Honda Wr-v 1.5 Lx</td>\n",
       "      <td>76000000</td>\n",
       "      <td>https://carro.mercadolibre.com.co/MCO-23152042...</td>\n",
       "      <td>2019</td>\n",
       "      <td>22180</td>\n",
       "      <td>2024-04-09</td>\n",
       "      <td>2315204202</td>\n",
       "      <td>Usaquén</td>\n",
       "      <td>Bogotá D.C.</td>\n",
       "    </tr>\n",
       "    <tr>\n",
       "      <th>18</th>\n",
       "      <td>Bmw Serie 4 2.0 M420i F36 Gran Coupe M</td>\n",
       "      <td>105000000</td>\n",
       "      <td>https://carro.mercadolibre.com.co/MCO-23152163...</td>\n",
       "      <td>2015</td>\n",
       "      <td>23191</td>\n",
       "      <td>2024-04-09</td>\n",
       "      <td>2315216368</td>\n",
       "      <td>Usaquén</td>\n",
       "      <td>Bogotá D.C.</td>\n",
       "    </tr>\n",
       "    <tr>\n",
       "      <th>19</th>\n",
       "      <td>Chevrolet Colorado Ls</td>\n",
       "      <td>139000000</td>\n",
       "      <td>https://carro.mercadolibre.com.co/MCO-23151648...</td>\n",
       "      <td>2022</td>\n",
       "      <td>43800</td>\n",
       "      <td>2024-04-09</td>\n",
       "      <td>2315164812</td>\n",
       "      <td>Suba</td>\n",
       "      <td>Bogotá D.C.</td>\n",
       "    </tr>\n",
       "    <tr>\n",
       "      <th>20</th>\n",
       "      <td>Mitsubishi Montero 3.0 V43 Wagon</td>\n",
       "      <td>58000000</td>\n",
       "      <td>https://carro.mercadolibre.com.co/MCO-23152287...</td>\n",
       "      <td>2004</td>\n",
       "      <td>147700</td>\n",
       "      <td>2024-04-09</td>\n",
       "      <td>2315228790</td>\n",
       "      <td>Engativa</td>\n",
       "      <td>Bogotá D.C.</td>\n",
       "    </tr>\n",
       "    <tr>\n",
       "      <th>21</th>\n",
       "      <td>Chevrolet Sonic 1.6 Lt 5 P</td>\n",
       "      <td>27400000</td>\n",
       "      <td>https://carro.mercadolibre.com.co/MCO-23152157...</td>\n",
       "      <td>2013</td>\n",
       "      <td>53000</td>\n",
       "      <td>2024-04-09</td>\n",
       "      <td>2315215704</td>\n",
       "      <td>Bosa</td>\n",
       "      <td>Bogotá D.C.</td>\n",
       "    </tr>\n",
       "    <tr>\n",
       "      <th>22</th>\n",
       "      <td>Nissan Kicks 1.6 Advance Mt</td>\n",
       "      <td>95000000</td>\n",
       "      <td>https://carro.mercadolibre.com.co/MCO-23151897...</td>\n",
       "      <td>2023</td>\n",
       "      <td>25000</td>\n",
       "      <td>2024-04-09</td>\n",
       "      <td>2315189784</td>\n",
       "      <td>Tunjuelito</td>\n",
       "      <td>Bogotá D.C.</td>\n",
       "    </tr>\n",
       "    <tr>\n",
       "      <th>23</th>\n",
       "      <td>Chevrolet Trailblazer 2.8 Ltz</td>\n",
       "      <td>85000000</td>\n",
       "      <td>https://carro.mercadolibre.com.co/MCO-23151775...</td>\n",
       "      <td>2013</td>\n",
       "      <td>62000</td>\n",
       "      <td>2024-04-09</td>\n",
       "      <td>2315177502</td>\n",
       "      <td>Bosa</td>\n",
       "      <td>Bogotá D.C.</td>\n",
       "    </tr>\n",
       "    <tr>\n",
       "      <th>24</th>\n",
       "      <td>Mazda Bt-50 2.5 4x4 Diesel</td>\n",
       "      <td>67000000</td>\n",
       "      <td>https://carro.mercadolibre.com.co/MCO-14113482...</td>\n",
       "      <td>2009</td>\n",
       "      <td>160</td>\n",
       "      <td>2024-04-09</td>\n",
       "      <td>1411348239</td>\n",
       "      <td>Engativa</td>\n",
       "      <td>Bogotá D.C.</td>\n",
       "    </tr>\n",
       "    <tr>\n",
       "      <th>25</th>\n",
       "      <td>Bmw Ix3 M Sport At Electrico</td>\n",
       "      <td>305000000</td>\n",
       "      <td>https://carro.mercadolibre.com.co/MCO-23152665...</td>\n",
       "      <td>2024</td>\n",
       "      <td>1000</td>\n",
       "      <td>2024-04-09</td>\n",
       "      <td>2315266534</td>\n",
       "      <td>Suba</td>\n",
       "      <td>Bogotá D.C.</td>\n",
       "    </tr>\n",
       "    <tr>\n",
       "      <th>26</th>\n",
       "      <td>Nissan X-trail 1.5 E-power Hybrid</td>\n",
       "      <td>227000000</td>\n",
       "      <td>https://carro.mercadolibre.com.co/MCO-23152790...</td>\n",
       "      <td>2024</td>\n",
       "      <td>19030</td>\n",
       "      <td>2024-04-09</td>\n",
       "      <td>2315279056</td>\n",
       "      <td>Suba</td>\n",
       "      <td>Bogotá D.C.</td>\n",
       "    </tr>\n",
       "    <tr>\n",
       "      <th>27</th>\n",
       "      <td>Suzuki Grand Vitara 2.0 Sz 4x4</td>\n",
       "      <td>40500000</td>\n",
       "      <td>https://carro.mercadolibre.com.co/MCO-23152787...</td>\n",
       "      <td>2009</td>\n",
       "      <td>146095</td>\n",
       "      <td>2024-04-09</td>\n",
       "      <td>2315278792</td>\n",
       "      <td>Kennedy</td>\n",
       "      <td>Bogotá D.C.</td>\n",
       "    </tr>\n",
       "    <tr>\n",
       "      <th>28</th>\n",
       "      <td>Mercedes-benz Clase Glc 2.0 250 4matic</td>\n",
       "      <td>155500000</td>\n",
       "      <td>https://carro.mercadolibre.com.co/MCO-23152399...</td>\n",
       "      <td>2019</td>\n",
       "      <td>34000</td>\n",
       "      <td>2024-04-09</td>\n",
       "      <td>2315239940</td>\n",
       "      <td>Usaquén</td>\n",
       "      <td>Bogotá D.C.</td>\n",
       "    </tr>\n",
       "    <tr>\n",
       "      <th>29</th>\n",
       "      <td>Toyota Prado 3.0 Txl 4x4</td>\n",
       "      <td>165000000</td>\n",
       "      <td>https://carro.mercadolibre.com.co/MCO-23151629...</td>\n",
       "      <td>2011</td>\n",
       "      <td>113000</td>\n",
       "      <td>2024-04-09</td>\n",
       "      <td>2315162940</td>\n",
       "      <td>Kennedy</td>\n",
       "      <td>Bogotá D.C.</td>\n",
       "    </tr>\n",
       "  </tbody>\n",
       "</table>\n",
       "</div>"
      ],
      "text/plain": [
       "                                        product      price  \\\n",
       "0     Byd Song Plus Dm-i 1.5 Hibrida Enchufable  183900000   \n",
       "1                     Mazda 3 2.0 Grand Touring   64900000   \n",
       "2                      Chevrolet Tracker 1.8 Lt   72000000   \n",
       "3                       Kia Picanto 1.2 Vibrant   59500000   \n",
       "4                    Nissan X-trail 2.5 Kapital   63000000   \n",
       "5                     Mercedes-benz C 200 Coupe  140000000   \n",
       "6                    Bmw X4 2.0 Xdrive20d Xline  184500000   \n",
       "7                        Ford Escape 2.0 Se 4x4   66200000   \n",
       "8                         Suzuki Ertiga 1.4 Mpv   49000000   \n",
       "9   Bmw X3 2.0 Xdrive30e Tp Hibrida Enchufable.  280000000   \n",
       "10     Mercedes-benz Clase Cla 180 Amg Line 1.3  130000000   \n",
       "11                       Kia Sportage 2.0 Summa   71500000   \n",
       "12                     Mazda Cx-30 2.0 Prime At   98000000   \n",
       "13                          Ford Ranger 3.2 Xlt  163800000   \n",
       "14                     Audi A4 1.8 Tfsi Comfort   63000000   \n",
       "15         Toyota Corolla Cross 1.8 Se-g Hybrid  155900000   \n",
       "16            Jeep Wrangler 3.6 Sport Unlimited  195000000   \n",
       "17                            Honda Wr-v 1.5 Lx   76000000   \n",
       "18       Bmw Serie 4 2.0 M420i F36 Gran Coupe M  105000000   \n",
       "19                        Chevrolet Colorado Ls  139000000   \n",
       "20             Mitsubishi Montero 3.0 V43 Wagon   58000000   \n",
       "21                   Chevrolet Sonic 1.6 Lt 5 P   27400000   \n",
       "22                  Nissan Kicks 1.6 Advance Mt   95000000   \n",
       "23                Chevrolet Trailblazer 2.8 Ltz   85000000   \n",
       "24                   Mazda Bt-50 2.5 4x4 Diesel   67000000   \n",
       "25                 Bmw Ix3 M Sport At Electrico  305000000   \n",
       "26            Nissan X-trail 1.5 E-power Hybrid  227000000   \n",
       "27               Suzuki Grand Vitara 2.0 Sz 4x4   40500000   \n",
       "28       Mercedes-benz Clase Glc 2.0 250 4matic  155500000   \n",
       "29                     Toyota Prado 3.0 Txl 4x4  165000000   \n",
       "\n",
       "                                                 link  years  kilometraje  \\\n",
       "0   https://carro.mercadolibre.com.co/MCO-14023610...   2024         5800   \n",
       "1   https://carro.mercadolibre.com.co/MCO-22614289...   2016        59000   \n",
       "2   https://carro.mercadolibre.com.co/MCO-14023596...   2018        47000   \n",
       "3   https://carro.mercadolibre.com.co/MCO-22614018...   2024         3600   \n",
       "4   https://carro.mercadolibre.com.co/MCO-22614783...   2015        81000   \n",
       "5   https://carro.mercadolibre.com.co/MCO-22614257...   2019        10500   \n",
       "6   https://carro.mercadolibre.com.co/MCO-22611938...   2019        42333   \n",
       "7   https://carro.mercadolibre.com.co/MCO-22614370...   2016        91500   \n",
       "8   https://carro.mercadolibre.com.co/MCO-22614369...   2016        58000   \n",
       "9   https://carro.mercadolibre.com.co/MCO-22611797...   2023         6800   \n",
       "10  https://carro.mercadolibre.com.co/MCO-22613975...   2020        40000   \n",
       "11  https://carro.mercadolibre.com.co/MCO-22611788...   2016        65000   \n",
       "12  https://carro.mercadolibre.com.co/MCO-23152313...   2022        14000   \n",
       "13  https://carro.mercadolibre.com.co/MCO-23152696...   2023        13158   \n",
       "14  https://carro.mercadolibre.com.co/MCO-23152306...   2014        41000   \n",
       "15  https://carro.mercadolibre.com.co/MCO-23151661...   2024        12000   \n",
       "16  https://carro.mercadolibre.com.co/MCO-23152042...   2018        72500   \n",
       "17  https://carro.mercadolibre.com.co/MCO-23152042...   2019        22180   \n",
       "18  https://carro.mercadolibre.com.co/MCO-23152163...   2015        23191   \n",
       "19  https://carro.mercadolibre.com.co/MCO-23151648...   2022        43800   \n",
       "20  https://carro.mercadolibre.com.co/MCO-23152287...   2004       147700   \n",
       "21  https://carro.mercadolibre.com.co/MCO-23152157...   2013        53000   \n",
       "22  https://carro.mercadolibre.com.co/MCO-23151897...   2023        25000   \n",
       "23  https://carro.mercadolibre.com.co/MCO-23151775...   2013        62000   \n",
       "24  https://carro.mercadolibre.com.co/MCO-14113482...   2009          160   \n",
       "25  https://carro.mercadolibre.com.co/MCO-23152665...   2024         1000   \n",
       "26  https://carro.mercadolibre.com.co/MCO-23152790...   2024        19030   \n",
       "27  https://carro.mercadolibre.com.co/MCO-23152787...   2009       146095   \n",
       "28  https://carro.mercadolibre.com.co/MCO-23152399...   2019        34000   \n",
       "29  https://carro.mercadolibre.com.co/MCO-23151629...   2011       113000   \n",
       "\n",
       "      _created          id   location_city location_state  \n",
       "0   2024-03-14  1402361017            Suba    Bogotá D.C.  \n",
       "1   2024-03-14  2261428954        Envigado      Antioquia  \n",
       "2   2024-03-14  1402359669         Usaquén    Bogotá D.C.  \n",
       "3   2024-03-14  2261401840            Suba    Bogotá D.C.  \n",
       "4   2024-03-14  2261478326         Kennedy    Bogotá D.C.  \n",
       "5   2024-03-14  2261425730         Usaquén    Bogotá D.C.  \n",
       "6   2024-03-14  2261193834        Medellín      Antioquia  \n",
       "7   2024-03-14  2261437046         Kennedy    Bogotá D.C.  \n",
       "8   2024-03-14  2261436920  Ciudad Bolívar    Bogotá D.C.  \n",
       "9   2024-03-14  2261179764       Chapinero    Bogotá D.C.  \n",
       "10  2024-03-14  2261397586            Suba    Bogotá D.C.  \n",
       "11  2024-03-14  2261178840         Kennedy    Bogotá D.C.  \n",
       "12  2024-04-09  2315231318            Suba    Bogotá D.C.  \n",
       "13  2024-04-09  2315269670  Barrios Unidos    Bogotá D.C.  \n",
       "14  2024-04-09  2315230624         Usaquén    Bogotá D.C.  \n",
       "15  2024-04-09  2315166184         Usaquén    Bogotá D.C.  \n",
       "16  2024-04-09  2315204270         Usaquén    Bogotá D.C.  \n",
       "17  2024-04-09  2315204202         Usaquén    Bogotá D.C.  \n",
       "18  2024-04-09  2315216368         Usaquén    Bogotá D.C.  \n",
       "19  2024-04-09  2315164812            Suba    Bogotá D.C.  \n",
       "20  2024-04-09  2315228790        Engativa    Bogotá D.C.  \n",
       "21  2024-04-09  2315215704            Bosa    Bogotá D.C.  \n",
       "22  2024-04-09  2315189784      Tunjuelito    Bogotá D.C.  \n",
       "23  2024-04-09  2315177502            Bosa    Bogotá D.C.  \n",
       "24  2024-04-09  1411348239        Engativa    Bogotá D.C.  \n",
       "25  2024-04-09  2315266534            Suba    Bogotá D.C.  \n",
       "26  2024-04-09  2315279056            Suba    Bogotá D.C.  \n",
       "27  2024-04-09  2315278792         Kennedy    Bogotá D.C.  \n",
       "28  2024-04-09  2315239940         Usaquén    Bogotá D.C.  \n",
       "29  2024-04-09  2315162940         Kennedy    Bogotá D.C.  "
      ]
     },
     "execution_count": 30,
     "metadata": {},
     "output_type": "execute_result"
    }
   ],
   "source": [
    "data.head(30)"
   ]
  },
  {
   "cell_type": "code",
   "execution_count": 31,
   "id": "5c17b507",
   "metadata": {},
   "outputs": [
    {
     "data": {
      "text/html": [
       "<div>\n",
       "<style scoped>\n",
       "    .dataframe tbody tr th:only-of-type {\n",
       "        vertical-align: middle;\n",
       "    }\n",
       "\n",
       "    .dataframe tbody tr th {\n",
       "        vertical-align: top;\n",
       "    }\n",
       "\n",
       "    .dataframe thead th {\n",
       "        text-align: right;\n",
       "    }\n",
       "</style>\n",
       "<table border=\"1\" class=\"dataframe\">\n",
       "  <thead>\n",
       "    <tr style=\"text-align: right;\">\n",
       "      <th></th>\n",
       "      <th>product</th>\n",
       "      <th>price</th>\n",
       "      <th>link</th>\n",
       "      <th>years</th>\n",
       "      <th>kilometraje</th>\n",
       "      <th>_created</th>\n",
       "      <th>id</th>\n",
       "      <th>location_city</th>\n",
       "      <th>location_state</th>\n",
       "    </tr>\n",
       "  </thead>\n",
       "  <tbody>\n",
       "    <tr>\n",
       "      <th>7220</th>\n",
       "      <td>Mercedes-benz 230 1.5</td>\n",
       "      <td>23000000</td>\n",
       "      <td>https://carro.mercadolibre.com.co/MCO-14354231...</td>\n",
       "      <td>1999</td>\n",
       "      <td>250000</td>\n",
       "      <td>2024-06-11</td>\n",
       "      <td>1435423181</td>\n",
       "      <td>Usaquén</td>\n",
       "      <td>Bogotá D.C.</td>\n",
       "    </tr>\n",
       "    <tr>\n",
       "      <th>7221</th>\n",
       "      <td>Ford Escape 3.0 Xlt</td>\n",
       "      <td>35000000</td>\n",
       "      <td>https://carro.mercadolibre.com.co/MCO-14354098...</td>\n",
       "      <td>2010</td>\n",
       "      <td>128839</td>\n",
       "      <td>2024-06-11</td>\n",
       "      <td>1435409865</td>\n",
       "      <td>Chapinero</td>\n",
       "      <td>Bogotá D.C.</td>\n",
       "    </tr>\n",
       "    <tr>\n",
       "      <th>7222</th>\n",
       "      <td>Mercedes-benz Clase Gls 4.7 4matic</td>\n",
       "      <td>195000000</td>\n",
       "      <td>https://carro.mercadolibre.com.co/MCO-24370610...</td>\n",
       "      <td>2017</td>\n",
       "      <td>62000</td>\n",
       "      <td>2024-06-11</td>\n",
       "      <td>2437061068</td>\n",
       "      <td>Usaquén</td>\n",
       "      <td>Bogotá D.C.</td>\n",
       "    </tr>\n",
       "    <tr>\n",
       "      <th>7223</th>\n",
       "      <td>Renault Twingo 1.2 Plus Fidji</td>\n",
       "      <td>22900000</td>\n",
       "      <td>https://carro.mercadolibre.com.co/MCO-14353712...</td>\n",
       "      <td>2009</td>\n",
       "      <td>47000</td>\n",
       "      <td>2024-06-11</td>\n",
       "      <td>1435371275</td>\n",
       "      <td>Usaquén</td>\n",
       "      <td>Bogotá D.C.</td>\n",
       "    </tr>\n",
       "    <tr>\n",
       "      <th>7224</th>\n",
       "      <td>Renault Duster Oroch 1.3 Intents Outsider</td>\n",
       "      <td>99000000</td>\n",
       "      <td>https://carro.mercadolibre.com.co/MCO-14353840...</td>\n",
       "      <td>2023</td>\n",
       "      <td>50000</td>\n",
       "      <td>2024-06-11</td>\n",
       "      <td>1435384059</td>\n",
       "      <td>Usaquén</td>\n",
       "      <td>Bogotá D.C.</td>\n",
       "    </tr>\n",
       "    <tr>\n",
       "      <th>7225</th>\n",
       "      <td>Volvo Xc40 2.0 T5 Awd R-design</td>\n",
       "      <td>120000000</td>\n",
       "      <td>https://carro.mercadolibre.com.co/MCO-24370606...</td>\n",
       "      <td>2020</td>\n",
       "      <td>8750</td>\n",
       "      <td>2024-06-11</td>\n",
       "      <td>2437060632</td>\n",
       "      <td>Usaquén</td>\n",
       "      <td>Bogotá D.C.</td>\n",
       "    </tr>\n",
       "    <tr>\n",
       "      <th>7226</th>\n",
       "      <td>Volvo Xc60 3.0 T6 Premium Awd</td>\n",
       "      <td>69800000</td>\n",
       "      <td>https://carro.mercadolibre.com.co/MCO-14354222...</td>\n",
       "      <td>2012</td>\n",
       "      <td>58000</td>\n",
       "      <td>2024-06-11</td>\n",
       "      <td>1435422285</td>\n",
       "      <td>Usaquén</td>\n",
       "      <td>Bogotá D.C.</td>\n",
       "    </tr>\n",
       "    <tr>\n",
       "      <th>7227</th>\n",
       "      <td>Nissan Sentra 1.8 Exclusive At</td>\n",
       "      <td>50000000</td>\n",
       "      <td>https://carro.mercadolibre.com.co/MCO-14353836...</td>\n",
       "      <td>2016</td>\n",
       "      <td>76000</td>\n",
       "      <td>2024-06-11</td>\n",
       "      <td>1435383661</td>\n",
       "      <td>Usaquén</td>\n",
       "      <td>Bogotá D.C.</td>\n",
       "    </tr>\n",
       "    <tr>\n",
       "      <th>7228</th>\n",
       "      <td>Toyota Prado 3.0 Tx-l</td>\n",
       "      <td>178000000</td>\n",
       "      <td>https://carro.mercadolibre.com.co/MCO-14353835...</td>\n",
       "      <td>2013</td>\n",
       "      <td>52000</td>\n",
       "      <td>2024-06-11</td>\n",
       "      <td>1435383519</td>\n",
       "      <td>Usaquén</td>\n",
       "      <td>Bogotá D.C.</td>\n",
       "    </tr>\n",
       "    <tr>\n",
       "      <th>7229</th>\n",
       "      <td>Renault Duster 2.0 Dynamique/intents 4x4</td>\n",
       "      <td>65000000</td>\n",
       "      <td>https://carro.mercadolibre.com.co/MCO-14353835...</td>\n",
       "      <td>2020</td>\n",
       "      <td>47149</td>\n",
       "      <td>2024-06-11</td>\n",
       "      <td>1435383513</td>\n",
       "      <td>Usaquén</td>\n",
       "      <td>Bogotá D.C.</td>\n",
       "    </tr>\n",
       "    <tr>\n",
       "      <th>7230</th>\n",
       "      <td>Nissan Patrol 3.0 Y61 Grx</td>\n",
       "      <td>120000000</td>\n",
       "      <td>https://carro.mercadolibre.com.co/MCO-14353962...</td>\n",
       "      <td>2013</td>\n",
       "      <td>145000</td>\n",
       "      <td>2024-06-11</td>\n",
       "      <td>1435396279</td>\n",
       "      <td>Chapinero</td>\n",
       "      <td>Bogotá D.C.</td>\n",
       "    </tr>\n",
       "    <tr>\n",
       "      <th>7231</th>\n",
       "      <td>Kia Soul 1.6 Lx  Mecanico</td>\n",
       "      <td>34000000</td>\n",
       "      <td>https://carro.mercadolibre.com.co/MCO-14353575...</td>\n",
       "      <td>2010</td>\n",
       "      <td>116000</td>\n",
       "      <td>2024-06-11</td>\n",
       "      <td>1435357531</td>\n",
       "      <td>Usaquén</td>\n",
       "      <td>Bogotá D.C.</td>\n",
       "    </tr>\n",
       "    <tr>\n",
       "      <th>7232</th>\n",
       "      <td>Mercedes-benz Clase A A 200 Progresive</td>\n",
       "      <td>105000000</td>\n",
       "      <td>https://carro.mercadolibre.com.co/MCO-14353184...</td>\n",
       "      <td>2020</td>\n",
       "      <td>36000</td>\n",
       "      <td>2024-06-11</td>\n",
       "      <td>1435318413</td>\n",
       "      <td>Usaquén</td>\n",
       "      <td>Bogotá D.C.</td>\n",
       "    </tr>\n",
       "    <tr>\n",
       "      <th>7233</th>\n",
       "      <td>Mitsubishi L200 Sportero 2.5 Superlujo</td>\n",
       "      <td>70000000</td>\n",
       "      <td>https://carro.mercadolibre.com.co/MCO-14353955...</td>\n",
       "      <td>2011</td>\n",
       "      <td>133000</td>\n",
       "      <td>2024-06-11</td>\n",
       "      <td>1435395525</td>\n",
       "      <td>Puente Aranda</td>\n",
       "      <td>Bogotá D.C.</td>\n",
       "    </tr>\n",
       "    <tr>\n",
       "      <th>7234</th>\n",
       "      <td>Nissan March 1.6 Active Mecanico</td>\n",
       "      <td>39000000</td>\n",
       "      <td>https://carro.mercadolibre.com.co/MCO-14353310...</td>\n",
       "      <td>2017</td>\n",
       "      <td>38200</td>\n",
       "      <td>2024-06-11</td>\n",
       "      <td>1435331031</td>\n",
       "      <td>Suba</td>\n",
       "      <td>Bogotá D.C.</td>\n",
       "    </tr>\n",
       "    <tr>\n",
       "      <th>7235</th>\n",
       "      <td>Land Rover Range Rover Sport 5.0 Hse 370 Hp At</td>\n",
       "      <td>130000000</td>\n",
       "      <td>https://carro.mercadolibre.com.co/MCO-14354074...</td>\n",
       "      <td>2011</td>\n",
       "      <td>99000</td>\n",
       "      <td>2024-06-11</td>\n",
       "      <td>1435407489</td>\n",
       "      <td>Engativa</td>\n",
       "      <td>Bogotá D.C.</td>\n",
       "    </tr>\n",
       "    <tr>\n",
       "      <th>7236</th>\n",
       "      <td>Honda Cr-v 2.0 4wd</td>\n",
       "      <td>26000000</td>\n",
       "      <td>https://carro.mercadolibre.com.co/MCO-14353685...</td>\n",
       "      <td>1999</td>\n",
       "      <td>245000</td>\n",
       "      <td>2024-06-11</td>\n",
       "      <td>1435368531</td>\n",
       "      <td>Suba</td>\n",
       "      <td>Bogotá D.C.</td>\n",
       "    </tr>\n",
       "    <tr>\n",
       "      <th>7237</th>\n",
       "      <td>Toyota Prado 2.8 Tx-l</td>\n",
       "      <td>330000000</td>\n",
       "      <td>https://carro.mercadolibre.com.co/MCO-14353549...</td>\n",
       "      <td>2022</td>\n",
       "      <td>33000</td>\n",
       "      <td>2024-06-11</td>\n",
       "      <td>1435354945</td>\n",
       "      <td>Cajicá</td>\n",
       "      <td>Cundinamarca</td>\n",
       "    </tr>\n",
       "    <tr>\n",
       "      <th>7238</th>\n",
       "      <td>Bmw X3 2.0 F25 Xdrive20i</td>\n",
       "      <td>75000000</td>\n",
       "      <td>https://carro.mercadolibre.com.co/MCO-14353801...</td>\n",
       "      <td>2013</td>\n",
       "      <td>81855</td>\n",
       "      <td>2024-06-11</td>\n",
       "      <td>1435380127</td>\n",
       "      <td>Suba</td>\n",
       "      <td>Bogotá D.C.</td>\n",
       "    </tr>\n",
       "    <tr>\n",
       "      <th>7239</th>\n",
       "      <td>Chevrolet Aveo Ls</td>\n",
       "      <td>22700000</td>\n",
       "      <td>https://carro.mercadolibre.com.co/MCO-14353670...</td>\n",
       "      <td>2008</td>\n",
       "      <td>99440</td>\n",
       "      <td>2024-06-11</td>\n",
       "      <td>1435367057</td>\n",
       "      <td>Kennedy</td>\n",
       "      <td>Bogotá D.C.</td>\n",
       "    </tr>\n",
       "    <tr>\n",
       "      <th>7240</th>\n",
       "      <td>Ford Escape Titanium Tp 2000cc 4x4</td>\n",
       "      <td>68000000</td>\n",
       "      <td>https://carro.mercadolibre.com.co/MCO-14354182...</td>\n",
       "      <td>2016</td>\n",
       "      <td>85000</td>\n",
       "      <td>2024-06-11</td>\n",
       "      <td>1435418235</td>\n",
       "      <td>Fontibón</td>\n",
       "      <td>Bogotá D.C.</td>\n",
       "    </tr>\n",
       "    <tr>\n",
       "      <th>7241</th>\n",
       "      <td>Audi Q3 1.4 35 Tfsi Ambition Tp</td>\n",
       "      <td>150000000</td>\n",
       "      <td>https://carro.mercadolibre.com.co/MCO-14354177...</td>\n",
       "      <td>2022</td>\n",
       "      <td>21709</td>\n",
       "      <td>2024-06-11</td>\n",
       "      <td>1435417797</td>\n",
       "      <td>Usaquén</td>\n",
       "      <td>Bogotá D.C.</td>\n",
       "    </tr>\n",
       "    <tr>\n",
       "      <th>7242</th>\n",
       "      <td>Ford Ecosport Se Mt 2000cc 4x2</td>\n",
       "      <td>50000000</td>\n",
       "      <td>https://carro.mercadolibre.com.co/MCO-14353791...</td>\n",
       "      <td>2015</td>\n",
       "      <td>87714</td>\n",
       "      <td>2024-06-11</td>\n",
       "      <td>1435379183</td>\n",
       "      <td>Teusaquillo</td>\n",
       "      <td>Bogotá D.C.</td>\n",
       "    </tr>\n",
       "    <tr>\n",
       "      <th>7243</th>\n",
       "      <td>Jeep Grand Cherokee 4.7 Laredo</td>\n",
       "      <td>48000000</td>\n",
       "      <td>https://carro.mercadolibre.com.co/MCO-14353919...</td>\n",
       "      <td>2005</td>\n",
       "      <td>112495</td>\n",
       "      <td>2024-06-11</td>\n",
       "      <td>1435391975</td>\n",
       "      <td>Fontibón</td>\n",
       "      <td>Bogotá D.C.</td>\n",
       "    </tr>\n",
       "    <tr>\n",
       "      <th>7244</th>\n",
       "      <td>Toyota Prado Tx-l At 3000cc 5p</td>\n",
       "      <td>142000000</td>\n",
       "      <td>https://carro.mercadolibre.com.co/MCO-14353531...</td>\n",
       "      <td>2011</td>\n",
       "      <td>157600</td>\n",
       "      <td>2024-06-11</td>\n",
       "      <td>1435353137</td>\n",
       "      <td>Engativa</td>\n",
       "      <td>Bogotá D.C.</td>\n",
       "    </tr>\n",
       "    <tr>\n",
       "      <th>7245</th>\n",
       "      <td>Renault Duster 2.0 Dynamique 4x2</td>\n",
       "      <td>54000000</td>\n",
       "      <td>https://carro.mercadolibre.com.co/MCO-14353772...</td>\n",
       "      <td>2016</td>\n",
       "      <td>88062</td>\n",
       "      <td>2024-06-11</td>\n",
       "      <td>1435377249</td>\n",
       "      <td>Suba</td>\n",
       "      <td>Bogotá D.C.</td>\n",
       "    </tr>\n",
       "    <tr>\n",
       "      <th>7246</th>\n",
       "      <td>Toyota Corolla Cross 1.8 At Hibrida 4x2</td>\n",
       "      <td>127000000</td>\n",
       "      <td>https://carro.mercadolibre.com.co/MCO-14354156...</td>\n",
       "      <td>2022</td>\n",
       "      <td>33800</td>\n",
       "      <td>2024-06-11</td>\n",
       "      <td>1435415665</td>\n",
       "      <td>Mosquera</td>\n",
       "      <td>Cundinamarca</td>\n",
       "    </tr>\n",
       "    <tr>\n",
       "      <th>7247</th>\n",
       "      <td>Honda Civic 1.8 Lx</td>\n",
       "      <td>26000000</td>\n",
       "      <td>https://carro.mercadolibre.com.co/MCO-14353251...</td>\n",
       "      <td>2006</td>\n",
       "      <td>150000</td>\n",
       "      <td>2024-06-11</td>\n",
       "      <td>1435325157</td>\n",
       "      <td>Usaquén</td>\n",
       "      <td>Bogotá D.C.</td>\n",
       "    </tr>\n",
       "    <tr>\n",
       "      <th>7248</th>\n",
       "      <td>Kia Cerato Forte 1.6 Sx</td>\n",
       "      <td>40000000</td>\n",
       "      <td>https://carro.mercadolibre.com.co/MCO-14353369...</td>\n",
       "      <td>2012</td>\n",
       "      <td>75000</td>\n",
       "      <td>2024-06-11</td>\n",
       "      <td>1435336985</td>\n",
       "      <td>Bosa</td>\n",
       "      <td>Bogotá D.C.</td>\n",
       "    </tr>\n",
       "    <tr>\n",
       "      <th>7249</th>\n",
       "      <td>Nissan Np300 Frontier 2.4l Mt 4x2</td>\n",
       "      <td>57000000</td>\n",
       "      <td>https://carro.mercadolibre.com.co/MCO-14353112...</td>\n",
       "      <td>2011</td>\n",
       "      <td>202000</td>\n",
       "      <td>2024-06-11</td>\n",
       "      <td>1435311215</td>\n",
       "      <td>Engativa</td>\n",
       "      <td>Bogotá D.C.</td>\n",
       "    </tr>\n",
       "  </tbody>\n",
       "</table>\n",
       "</div>"
      ],
      "text/plain": [
       "                                             product      price  \\\n",
       "7220                           Mercedes-benz 230 1.5   23000000   \n",
       "7221                             Ford Escape 3.0 Xlt   35000000   \n",
       "7222              Mercedes-benz Clase Gls 4.7 4matic  195000000   \n",
       "7223                   Renault Twingo 1.2 Plus Fidji   22900000   \n",
       "7224       Renault Duster Oroch 1.3 Intents Outsider   99000000   \n",
       "7225                  Volvo Xc40 2.0 T5 Awd R-design  120000000   \n",
       "7226                   Volvo Xc60 3.0 T6 Premium Awd   69800000   \n",
       "7227                  Nissan Sentra 1.8 Exclusive At   50000000   \n",
       "7228                           Toyota Prado 3.0 Tx-l  178000000   \n",
       "7229        Renault Duster 2.0 Dynamique/intents 4x4   65000000   \n",
       "7230                       Nissan Patrol 3.0 Y61 Grx  120000000   \n",
       "7231                       Kia Soul 1.6 Lx  Mecanico   34000000   \n",
       "7232          Mercedes-benz Clase A A 200 Progresive  105000000   \n",
       "7233          Mitsubishi L200 Sportero 2.5 Superlujo   70000000   \n",
       "7234                Nissan March 1.6 Active Mecanico   39000000   \n",
       "7235  Land Rover Range Rover Sport 5.0 Hse 370 Hp At  130000000   \n",
       "7236                              Honda Cr-v 2.0 4wd   26000000   \n",
       "7237                           Toyota Prado 2.8 Tx-l  330000000   \n",
       "7238                        Bmw X3 2.0 F25 Xdrive20i   75000000   \n",
       "7239                               Chevrolet Aveo Ls   22700000   \n",
       "7240              Ford Escape Titanium Tp 2000cc 4x4   68000000   \n",
       "7241                 Audi Q3 1.4 35 Tfsi Ambition Tp  150000000   \n",
       "7242                  Ford Ecosport Se Mt 2000cc 4x2   50000000   \n",
       "7243                  Jeep Grand Cherokee 4.7 Laredo   48000000   \n",
       "7244                  Toyota Prado Tx-l At 3000cc 5p  142000000   \n",
       "7245                Renault Duster 2.0 Dynamique 4x2   54000000   \n",
       "7246         Toyota Corolla Cross 1.8 At Hibrida 4x2  127000000   \n",
       "7247                              Honda Civic 1.8 Lx   26000000   \n",
       "7248                         Kia Cerato Forte 1.6 Sx   40000000   \n",
       "7249               Nissan Np300 Frontier 2.4l Mt 4x2   57000000   \n",
       "\n",
       "                                                   link  years  kilometraje  \\\n",
       "7220  https://carro.mercadolibre.com.co/MCO-14354231...   1999       250000   \n",
       "7221  https://carro.mercadolibre.com.co/MCO-14354098...   2010       128839   \n",
       "7222  https://carro.mercadolibre.com.co/MCO-24370610...   2017        62000   \n",
       "7223  https://carro.mercadolibre.com.co/MCO-14353712...   2009        47000   \n",
       "7224  https://carro.mercadolibre.com.co/MCO-14353840...   2023        50000   \n",
       "7225  https://carro.mercadolibre.com.co/MCO-24370606...   2020         8750   \n",
       "7226  https://carro.mercadolibre.com.co/MCO-14354222...   2012        58000   \n",
       "7227  https://carro.mercadolibre.com.co/MCO-14353836...   2016        76000   \n",
       "7228  https://carro.mercadolibre.com.co/MCO-14353835...   2013        52000   \n",
       "7229  https://carro.mercadolibre.com.co/MCO-14353835...   2020        47149   \n",
       "7230  https://carro.mercadolibre.com.co/MCO-14353962...   2013       145000   \n",
       "7231  https://carro.mercadolibre.com.co/MCO-14353575...   2010       116000   \n",
       "7232  https://carro.mercadolibre.com.co/MCO-14353184...   2020        36000   \n",
       "7233  https://carro.mercadolibre.com.co/MCO-14353955...   2011       133000   \n",
       "7234  https://carro.mercadolibre.com.co/MCO-14353310...   2017        38200   \n",
       "7235  https://carro.mercadolibre.com.co/MCO-14354074...   2011        99000   \n",
       "7236  https://carro.mercadolibre.com.co/MCO-14353685...   1999       245000   \n",
       "7237  https://carro.mercadolibre.com.co/MCO-14353549...   2022        33000   \n",
       "7238  https://carro.mercadolibre.com.co/MCO-14353801...   2013        81855   \n",
       "7239  https://carro.mercadolibre.com.co/MCO-14353670...   2008        99440   \n",
       "7240  https://carro.mercadolibre.com.co/MCO-14354182...   2016        85000   \n",
       "7241  https://carro.mercadolibre.com.co/MCO-14354177...   2022        21709   \n",
       "7242  https://carro.mercadolibre.com.co/MCO-14353791...   2015        87714   \n",
       "7243  https://carro.mercadolibre.com.co/MCO-14353919...   2005       112495   \n",
       "7244  https://carro.mercadolibre.com.co/MCO-14353531...   2011       157600   \n",
       "7245  https://carro.mercadolibre.com.co/MCO-14353772...   2016        88062   \n",
       "7246  https://carro.mercadolibre.com.co/MCO-14354156...   2022        33800   \n",
       "7247  https://carro.mercadolibre.com.co/MCO-14353251...   2006       150000   \n",
       "7248  https://carro.mercadolibre.com.co/MCO-14353369...   2012        75000   \n",
       "7249  https://carro.mercadolibre.com.co/MCO-14353112...   2011       202000   \n",
       "\n",
       "        _created          id  location_city location_state  \n",
       "7220  2024-06-11  1435423181        Usaquén    Bogotá D.C.  \n",
       "7221  2024-06-11  1435409865      Chapinero    Bogotá D.C.  \n",
       "7222  2024-06-11  2437061068        Usaquén    Bogotá D.C.  \n",
       "7223  2024-06-11  1435371275        Usaquén    Bogotá D.C.  \n",
       "7224  2024-06-11  1435384059        Usaquén    Bogotá D.C.  \n",
       "7225  2024-06-11  2437060632        Usaquén    Bogotá D.C.  \n",
       "7226  2024-06-11  1435422285        Usaquén    Bogotá D.C.  \n",
       "7227  2024-06-11  1435383661        Usaquén    Bogotá D.C.  \n",
       "7228  2024-06-11  1435383519        Usaquén    Bogotá D.C.  \n",
       "7229  2024-06-11  1435383513        Usaquén    Bogotá D.C.  \n",
       "7230  2024-06-11  1435396279      Chapinero    Bogotá D.C.  \n",
       "7231  2024-06-11  1435357531        Usaquén    Bogotá D.C.  \n",
       "7232  2024-06-11  1435318413        Usaquén    Bogotá D.C.  \n",
       "7233  2024-06-11  1435395525  Puente Aranda    Bogotá D.C.  \n",
       "7234  2024-06-11  1435331031           Suba    Bogotá D.C.  \n",
       "7235  2024-06-11  1435407489       Engativa    Bogotá D.C.  \n",
       "7236  2024-06-11  1435368531           Suba    Bogotá D.C.  \n",
       "7237  2024-06-11  1435354945         Cajicá   Cundinamarca  \n",
       "7238  2024-06-11  1435380127           Suba    Bogotá D.C.  \n",
       "7239  2024-06-11  1435367057        Kennedy    Bogotá D.C.  \n",
       "7240  2024-06-11  1435418235       Fontibón    Bogotá D.C.  \n",
       "7241  2024-06-11  1435417797        Usaquén    Bogotá D.C.  \n",
       "7242  2024-06-11  1435379183    Teusaquillo    Bogotá D.C.  \n",
       "7243  2024-06-11  1435391975       Fontibón    Bogotá D.C.  \n",
       "7244  2024-06-11  1435353137       Engativa    Bogotá D.C.  \n",
       "7245  2024-06-11  1435377249           Suba    Bogotá D.C.  \n",
       "7246  2024-06-11  1435415665       Mosquera   Cundinamarca  \n",
       "7247  2024-06-11  1435325157        Usaquén    Bogotá D.C.  \n",
       "7248  2024-06-11  1435336985           Bosa    Bogotá D.C.  \n",
       "7249  2024-06-11  1435311215       Engativa    Bogotá D.C.  "
      ]
     },
     "execution_count": 31,
     "metadata": {},
     "output_type": "execute_result"
    }
   ],
   "source": [
    "data.tail(30)"
   ]
  },
  {
   "cell_type": "code",
   "execution_count": 32,
   "id": "8ef43620",
   "metadata": {},
   "outputs": [
    {
     "name": "stdout",
     "output_type": "stream",
     "text": [
      "<class 'pandas.core.frame.DataFrame'>\n",
      "RangeIndex: 7250 entries, 0 to 7249\n",
      "Data columns (total 9 columns):\n",
      " #   Column          Non-Null Count  Dtype \n",
      "---  ------          --------------  ----- \n",
      " 0   product         7250 non-null   object\n",
      " 1   price           7250 non-null   int64 \n",
      " 2   link            7250 non-null   object\n",
      " 3   years           7250 non-null   int64 \n",
      " 4   kilometraje     7250 non-null   int64 \n",
      " 5   _created        7250 non-null   object\n",
      " 6   id              7250 non-null   int64 \n",
      " 7   location_city   7250 non-null   object\n",
      " 8   location_state  7250 non-null   object\n",
      "dtypes: int64(4), object(5)\n",
      "memory usage: 509.9+ KB\n"
     ]
    }
   ],
   "source": [
    "data.info()"
   ]
  },
  {
   "cell_type": "code",
   "execution_count": 33,
   "id": "ef3d5a86",
   "metadata": {},
   "outputs": [
    {
     "data": {
      "text/plain": [
       "count    7.250000e+03\n",
       "mean     8.443508e+07\n",
       "std      6.632385e+07\n",
       "min      8.500000e+06\n",
       "25%      4.250000e+07\n",
       "50%      6.500000e+07\n",
       "75%      1.050000e+08\n",
       "max      1.030000e+09\n",
       "Name: price, dtype: float64"
      ]
     },
     "execution_count": 33,
     "metadata": {},
     "output_type": "execute_result"
    }
   ],
   "source": [
    "data['price'].describe()"
   ]
  },
  {
   "cell_type": "code",
   "execution_count": 34,
   "id": "8a667d5b",
   "metadata": {},
   "outputs": [
    {
     "data": {
      "text/plain": [
       "<Axes: >"
      ]
     },
     "execution_count": 34,
     "metadata": {},
     "output_type": "execute_result"
    },
    {
     "data": {
      "image/png": "[encoded data removed]",
      "text/plain": [
       "<Figure size 640x480 with 1 Axes>"
      ]
     },
     "metadata": {},
     "output_type": "display_data"
    }
   ],
   "source": [
    "data['price'].hist()"
   ]
  },
  {
   "cell_type": "code",
   "execution_count": 48,
   "id": "072512b3",
   "metadata": {},
   "outputs": [
    {
     "data": {
      "image/png": "[encoded data removed]",
      "text/plain": [
       "<Figure size 640x480 with 1 Axes>"
      ]
     },
     "metadata": {},
     "output_type": "display_data"
    }
   ],
   "source": [
    "ax = data['price'].plot(kind='box')\n",
    "ax.yaxis.set_major_formatter(mticker.StrMethodFormatter('${x:,.0f}'))\n",
    "plt.show()"
   ]
  },
  {
   "cell_type": "code",
   "execution_count": 37,
   "id": "04f5637b",
   "metadata": {},
   "outputs": [
    {
     "data": {
      "text/plain": [
       "array(['2024-03-14', '2024-04-09', '2024-04-21', '2024-06-18',\n",
       "       '2024-06-24', '2024-06-04', '2024-04-15', '2024-06-30',\n",
       "       '2024-05-06', '2024-05-12', '2024-02-27', '2024-07-03',\n",
       "       '2024-07-17', '2024-07-16', '2024-05-13', '2024-05-07',\n",
       "       '2024-05-11', '2024-05-05', '2024-07-14', '2024-07-28',\n",
       "       '2024-07-15', '2024-02-25', '2024-05-04', '2024-05-10',\n",
       "       '2024-05-28', '2024-05-14', '2024-07-11', '2024-07-05',\n",
       "       '2024-07-04', '2024-05-01', '2024-05-15', '2024-05-29',\n",
       "       '2024-05-03', '2024-05-17', '2024-07-06', '2024-07-12',\n",
       "       '2024-07-13', '2024-07-07', '2024-05-16', '2024-05-02',\n",
       "       '2024-05-27', '2024-07-22', '2024-07-23', '2024-05-26',\n",
       "       '2024-05-30', '2024-05-24', '2024-05-18', '2024-07-21',\n",
       "       '2024-07-09', '2024-07-08', '2024-04-01', '2024-05-19',\n",
       "       '2024-05-25', '2024-05-31', '2024-05-09', '2024-02-28',\n",
       "       '2024-05-21', '2024-07-18', '2024-07-25', '2024-02-29',\n",
       "       '2024-05-20', '2024-05-08', '2024-05-22', '2024-07-27',\n",
       "       '2024-07-26', '2024-05-23', '2024-06-29', '2024-06-15',\n",
       "       '2024-06-01', '2024-03-21', '2024-03-19', '2024-04-10',\n",
       "       '2024-04-04', '2024-04-05', '2024-03-18', '2024-04-11',\n",
       "       '2024-03-30', '2024-03-24', '2024-06-14', '2024-06-02',\n",
       "       '2024-06-16', '2024-03-26', '2024-04-07', '2024-04-13',\n",
       "       '2024-04-12', '2024-04-06', '2024-03-27', '2024-06-17',\n",
       "       '2024-06-03', '2024-06-07', '2024-04-14', '2024-06-13',\n",
       "       '2024-04-02', '2024-04-16', '2024-03-23', '2024-03-22',\n",
       "       '2024-06-11', '2024-04-17', '2024-04-03', '2024-06-12',\n",
       "       '2024-06-06', '2024-06-10', '2024-06-08', '2024-06-20',\n",
       "       '2024-02-24 13:24:53', '2024-03-04', '2024-04-19', '2024-03-10',\n",
       "       '2024-04-25', '2024-04-24', '2024-04-18', '2024-04-30',\n",
       "       '2024-03-11', '2024-03-05', '2024-06-21', '2024-06-09',\n",
       "       '2024-06-23', '2024-03-13', '2024-04-26', '2024-03-07',\n",
       "       '2024-04-27', '2024-03-06', '2024-03-12', '2024-06-22',\n",
       "       '2024-06-26', '2024-04-23', '2024-03-16', '2024-03-02',\n",
       "       '2024-03-03', '2024-03-17', '2024-04-22', '2024-06-27',\n",
       "       '2024-06-25', '2024-06-19', '2024-04-20', '2024-04-08',\n",
       "       '2024-03-01', '2024-03-15', '2024-03-08', '2024-04-29',\n",
       "       '2024-03-20', '2024-04-28', '2024-03-09', '2024-06-05'],\n",
       "      dtype=object)"
      ]
     },
     "execution_count": 37,
     "metadata": {},
     "output_type": "execute_result"
    }
   ],
   "source": [
    "data['_created'].unique()"
   ]
  },
  {
   "cell_type": "code",
   "execution_count": 38,
   "id": "e6f1fab9",
   "metadata": {},
   "outputs": [],
   "source": [
    "## arreglar las fechas\n",
    "data['_created'] = data['_created'].str[:10] #primeros 10 elemntos\n",
    "data['_created'] = pd.to_datetime(data[\"_created\"], format=\"%Y-%m-%d\")"
   ]
  },
  {
   "cell_type": "code",
   "execution_count": 49,
   "id": "1cc1458f",
   "metadata": {},
   "outputs": [],
   "source": [
    "data['vehicle_brand'] = data['product'].str.split(\" \").str[0]"
   ]
  },
  {
   "cell_type": "code",
   "execution_count": 51,
   "id": "a5b65327",
   "metadata": {},
   "outputs": [],
   "source": [
    "saludo = \"hola mundo\""
   ]
  },
  {
   "cell_type": "code",
   "execution_count": 52,
   "id": "b8c6f249",
   "metadata": {},
   "outputs": [
    {
     "data": {
      "text/plain": [
       "'hola'"
      ]
     },
     "execution_count": 52,
     "metadata": {},
     "output_type": "execute_result"
    }
   ],
   "source": [
    "saludo.split(\" \")[0]"
   ]
  },
  {
   "cell_type": "code",
   "execution_count": 53,
   "id": "c579a060",
   "metadata": {},
   "outputs": [
    {
     "data": {
      "text/plain": [
       "'Byd'"
      ]
     },
     "execution_count": 53,
     "metadata": {},
     "output_type": "execute_result"
    }
   ],
   "source": [
    "data['product'][0].split(\" \")[0]"
   ]
  },
  {
   "cell_type": "code",
   "execution_count": 54,
   "id": "ef871786",
   "metadata": {},
   "outputs": [
    {
     "data": {
      "text/plain": [
       "vehicle_brand\n",
       "Chevrolet        777\n",
       "Renault          720\n",
       "Toyota           715\n",
       "Ford             672\n",
       "Mazda            646\n",
       "Nissan           577\n",
       "Volkswagen       449\n",
       "Kia              393\n",
       "Mercedes-benz    391\n",
       "Bmw              365\n",
       "Hyundai          193\n",
       "Suzuki           173\n",
       "Audi             165\n",
       "Jeep             116\n",
       "Honda            114\n",
       "Mitsubishi        97\n",
       "Dodge             93\n",
       "Volvo             74\n",
       "Peugeot           65\n",
       "Subaru            64\n",
       "Citroën           53\n",
       "Land              41\n",
       "Fiat              40\n",
       "Mini              40\n",
       "Ssangyong         33\n",
       "Seat              24\n",
       "Ram               14\n",
       "Porsche           12\n",
       "Dfm/dfsk          11\n",
       "Skoda             11\n",
       "Byd               11\n",
       "Mg                10\n",
       "Daihatsu           9\n",
       "Chery              9\n",
       "Jaguar             7\n",
       "Jac                7\n",
       "Lexus              7\n",
       "Ds                 6\n",
       "Cupra              6\n",
       "Alfa               5\n",
       "Dfsk               4\n",
       "Great              4\n",
       "Daewoo             3\n",
       "Changan            3\n",
       "Zhidou             3\n",
       "Hummer             2\n",
       "Mahindra           2\n",
       "Brilliance         2\n",
       "Opel               2\n",
       "Isuzu              1\n",
       "Hafei              1\n",
       "Dahiatsu           1\n",
       "Karry              1\n",
       "Baic               1\n",
       "Jetour             1\n",
       "Jmc                1\n",
       "Chrysler           1\n",
       "Huanghai           1\n",
       "Foton              1\n",
       "Name: count, dtype: int64"
      ]
     },
     "execution_count": 54,
     "metadata": {},
     "output_type": "execute_result"
    }
   ],
   "source": [
    "data['vehicle_brand'].value_counts()"
   ]
  },
  {
   "cell_type": "code",
   "execution_count": 55,
   "id": "e6cab375",
   "metadata": {},
   "outputs": [
    {
     "data": {
      "image/png": "[encoded data removed]",
      "text/plain": [
       "<Figure size 640x480 with 1 Axes>"
      ]
     },
     "metadata": {},
     "output_type": "display_data"
    }
   ],
   "source": [
    "promedio_marca = data.groupby(\"vehicle_brand\")['price'].mean().sort_values(ascending=False)\n",
    "ax = promedio_marca[:10].plot(kind='bar')\n",
    "ax.set_ylabel('Precio promedio (COP)')\n",
    "ax.set_xlabel('Marca de vehículo')\n",
    "ax.set_title('Precio promedio por marca')\n",
    "ax.yaxis.set_major_formatter(mticker.StrMethodFormatter('${x:,.0f}'))\n",
    "# Formatear los valores del eje Y como pesos colombianos sin notación científica\n",
    "\n",
    "plt.tight_layout()\n",
    "plt.show()"
   ]
  },
  {
   "cell_type": "code",
   "execution_count": 62,
   "id": "970f4a1e",
   "metadata": {},
   "outputs": [
    {
     "data": {
      "application/vnd.plotly.v1+json": {
       "config": {
        "plotlyServerURL": "https://plot.ly"
       },
       "data": [
        {
         "hovertemplate": "Marca de vehículo=%{x}<br>Precio promedio (COP)=%{text}<extra></extra>",
         "legendgroup": "",
         "marker": {
          "color": "steelblue",
          "pattern": {
           "shape": ""
          }
         },
         "name": "",
         "orientation": "v",
         "showlegend": false,
         "text": {
          "bdata": "SZIkaSp2tkEAAABgJLuwQSXIU+58xaNBt23bNvaZo0EvuugiV4KjQX0MzgfGIaNBVVVVtYB7oEEAAAAAxRGgQQAAAIAEo55B80sU9wRnnkE=",
          "dtype": "f8"
         },
         "textposition": "outside",
         "texttemplate": "$%{y:,.0f}",
         "type": "bar",
         "x": [
          "Lexus",
          "Porsche",
          "Toyota",
          "Jaguar",
          "Byd",
          "Land",
          "Cupra",
          "Alfa",
          "Hummer",
          "Mercedes-benz"
         ],
         "xaxis": "x",
         "y": {
          "bdata": "SZIkaSp2tkEAAABgJLuwQSXIU+58xaNBt23bNvaZo0EvuugiV4KjQX0MzgfGIaNBVVVVtYB7oEEAAAAAxRGgQQAAAIAEo55B80sU9wRnnkE=",
          "dtype": "f8"
         },
         "yaxis": "y"
        }
       ],
       "layout": {
        "barmode": "relative",
        "legend": {
         "tracegroupgap": 0
        },
        "template": {
         "data": {
          "bar": [
           {
            "error_x": {
             "color": "#2a3f5f"
            },
            "error_y": {
             "color": "#2a3f5f"
            },
            "marker": {
             "line": {
              "color": "white",
              "width": 0.5
             },
             "pattern": {
              "fillmode": "overlay",
              "size": 10,
              "solidity": 0.2
             }
            },
            "type": "bar"
           }
          ],
          "barpolar": [
           {
            "marker": {
             "line": {
              "color": "white",
              "width": 0.5
             },
             "pattern": {
              "fillmode": "overlay",
              "size": 10,
              "solidity": 0.2
             }
            },
            "type": "barpolar"
           }
          ],
          "carpet": [
           {
            "aaxis": {
             "endlinecolor": "#2a3f5f",
             "gridcolor": "#C8D4E3",
             "linecolor": "#C8D4E3",
             "minorgridcolor": "#C8D4E3",
             "startlinecolor": "#2a3f5f"
            },
            "baxis": {
             "endlinecolor": "#2a3f5f",
             "gridcolor": "#C8D4E3",
             "linecolor": "#C8D4E3",
             "minorgridcolor": "#C8D4E3",
             "startlinecolor": "#2a3f5f"
            },
            "type": "carpet"
           }
          ],
          "choropleth": [
           {
            "colorbar": {
             "outlinewidth": 0,
             "ticks": ""
            },
            "type": "choropleth"
           }
          ],
          "contour": [
           {
            "colorbar": {
             "outlinewidth": 0,
             "ticks": ""
            },
            "colorscale": [
             [
              0,
              "#0d0887"
             ],
             [
              0.1111111111111111,
              "#46039f"
             ],
             [
              0.2222222222222222,
              "#7201a8"
             ],
             [
              0.3333333333333333,
              "#9c179e"
             ],
             [
              0.4444444444444444,
              "#bd3786"
             ],
             [
              0.5555555555555556,
              "#d8576b"
             ],
             [
              0.6666666666666666,
              "#ed7953"
             ],
             [
              0.7777777777777778,
              "#fb9f3a"
             ],
             [
              0.8888888888888888,
              "#fdca26"
             ],
             [
              1,
              "#f0f921"
             ]
            ],
            "type": "contour"
           }
          ],
          "contourcarpet": [
           {
            "colorbar": {
             "outlinewidth": 0,
             "ticks": ""
            },
            "type": "contourcarpet"
           }
          ],
          "heatmap": [
           {
            "colorbar": {
             "outlinewidth": 0,
             "ticks": ""
            },
            "colorscale": [
             [
              0,
              "#0d0887"
             ],
             [
              0.1111111111111111,
              "#46039f"
             ],
             [
              0.2222222222222222,
              "#7201a8"
             ],
             [
              0.3333333333333333,
              "#9c179e"
             ],
             [
              0.4444444444444444,
              "#bd3786"
             ],
             [
              0.5555555555555556,
              "#d8576b"
             ],
             [
              0.6666666666666666,
              "#ed7953"
             ],
             [
              0.7777777777777778,
              "#fb9f3a"
             ],
             [
              0.8888888888888888,
              "#fdca26"
             ],
             [
              1,
              "#f0f921"
             ]
            ],
            "type": "heatmap"
           }
          ],
          "histogram": [
           {
            "marker": {
             "pattern": {
              "fillmode": "overlay",
              "size": 10,
              "solidity": 0.2
             }
            },
            "type": "histogram"
           }
          ],
          "histogram2d": [
           {
            "colorbar": {
             "outlinewidth": 0,
             "ticks": ""
            },
            "colorscale": [
             [
              0,
              "#0d0887"
             ],
             [
              0.1111111111111111,
              "#46039f"
             ],
             [
              0.2222222222222222,
              "#7201a8"
             ],
             [
              0.3333333333333333,
              "#9c179e"
             ],
             [
              0.4444444444444444,
              "#bd3786"
             ],
             [
              0.5555555555555556,
              "#d8576b"
             ],
             [
              0.6666666666666666,
              "#ed7953"
             ],
             [
              0.7777777777777778,
              "#fb9f3a"
             ],
             [
              0.8888888888888888,
              "#fdca26"
             ],
             [
              1,
              "#f0f921"
             ]
            ],
            "type": "histogram2d"
           }
          ],
          "histogram2dcontour": [
           {
            "colorbar": {
             "outlinewidth": 0,
             "ticks": ""
            },
            "colorscale": [
             [
              0,
              "#0d0887"
             ],
             [
              0.1111111111111111,
              "#46039f"
             ],
             [
              0.2222222222222222,
              "#7201a8"
             ],
             [
              0.3333333333333333,
              "#9c179e"
             ],
             [
              0.4444444444444444,
              "#bd3786"
             ],
             [
              0.5555555555555556,
              "#d8576b"
             ],
             [
              0.6666666666666666,
              "#ed7953"
             ],
             [
              0.7777777777777778,
              "#fb9f3a"
             ],
             [
              0.8888888888888888,
              "#fdca26"
             ],
             [
              1,
              "#f0f921"
             ]
            ],
            "type": "histogram2dcontour"
           }
          ],
          "mesh3d": [
           {
            "colorbar": {
             "outlinewidth": 0,
             "ticks": ""
            },
            "type": "mesh3d"
           }
          ],
          "parcoords": [
           {
            "line": {
             "colorbar": {
              "outlinewidth": 0,
              "ticks": ""
             }
            },
            "type": "parcoords"
           }
          ],
          "pie": [
           {
            "automargin": true,
            "type": "pie"
           }
          ],
          "scatter": [
           {
            "fillpattern": {
             "fillmode": "overlay",
             "size": 10,
             "solidity": 0.2
            },
            "type": "scatter"
           }
          ],
          "scatter3d": [
           {
            "line": {
             "colorbar": {
              "outlinewidth": 0,
              "ticks": ""
             }
            },
            "marker": {
             "colorbar": {
              "outlinewidth": 0,
              "ticks": ""
             }
            },
            "type": "scatter3d"
           }
          ],
          "scattercarpet": [
           {
            "marker": {
             "colorbar": {
              "outlinewidth": 0,
              "ticks": ""
             }
            },
            "type": "scattercarpet"
           }
          ],
          "scattergeo": [
           {
            "marker": {
             "colorbar": {
              "outlinewidth": 0,
              "ticks": ""
             }
            },
            "type": "scattergeo"
           }
          ],
          "scattergl": [
           {
            "marker": {
             "colorbar": {
              "outlinewidth": 0,
              "ticks": ""
             }
            },
            "type": "scattergl"
           }
          ],
          "scattermap": [
           {
            "marker": {
             "colorbar": {
              "outlinewidth": 0,
              "ticks": ""
             }
            },
            "type": "scattermap"
           }
          ],
          "scattermapbox": [
           {
            "marker": {
             "colorbar": {
              "outlinewidth": 0,
              "ticks": ""
             }
            },
            "type": "scattermapbox"
           }
          ],
          "scatterpolar": [
           {
            "marker": {
             "colorbar": {
              "outlinewidth": 0,
              "ticks": ""
             }
            },
            "type": "scatterpolar"
           }
          ],
          "scatterpolargl": [
           {
            "marker": {
             "colorbar": {
              "outlinewidth": 0,
              "ticks": ""
             }
            },
            "type": "scatterpolargl"
           }
          ],
          "scatterternary": [
           {
            "marker": {
             "colorbar": {
              "outlinewidth": 0,
              "ticks": ""
             }
            },
            "type": "scatterternary"
           }
          ],
          "surface": [
           {
            "colorbar": {
             "outlinewidth": 0,
             "ticks": ""
            },
            "colorscale": [
             [
              0,
              "#0d0887"
             ],
             [
              0.1111111111111111,
              "#46039f"
             ],
             [
              0.2222222222222222,
              "#7201a8"
             ],
             [
              0.3333333333333333,
              "#9c179e"
             ],
             [
              0.4444444444444444,
              "#bd3786"
             ],
             [
              0.5555555555555556,
              "#d8576b"
             ],
             [
              0.6666666666666666,
              "#ed7953"
             ],
             [
              0.7777777777777778,
              "#fb9f3a"
             ],
             [
              0.8888888888888888,
              "#fdca26"
             ],
             [
              1,
              "#f0f921"
             ]
            ],
            "type": "surface"
           }
          ],
          "table": [
           {
            "cells": {
             "fill": {
              "color": "#EBF0F8"
             },
             "line": {
              "color": "white"
             }
            },
            "header": {
             "fill": {
              "color": "#C8D4E3"
             },
             "line": {
              "color": "white"
             }
            },
            "type": "table"
           }
          ]
         },
         "layout": {
          "annotationdefaults": {
           "arrowcolor": "#2a3f5f",
           "arrowhead": 0,
           "arrowwidth": 1
          },
          "autotypenumbers": "strict",
          "coloraxis": {
           "colorbar": {
            "outlinewidth": 0,
            "ticks": ""
           }
          },
          "colorscale": {
           "diverging": [
            [
             0,
             "#8e0152"
            ],
            [
             0.1,
             "#c51b7d"
            ],
            [
             0.2,
             "#de77ae"
            ],
            [
             0.3,
             "#f1b6da"
            ],
            [
             0.4,
             "#fde0ef"
            ],
            [
             0.5,
             "#f7f7f7"
            ],
            [
             0.6,
             "#e6f5d0"
            ],
            [
             0.7,
             "#b8e186"
            ],
            [
             0.8,
             "#7fbc41"
            ],
            [
             0.9,
             "#4d9221"
            ],
            [
             1,
             "#276419"
            ]
           ],
           "sequential": [
            [
             0,
             "#0d0887"
            ],
            [
             0.1111111111111111,
             "#46039f"
            ],
            [
             0.2222222222222222,
             "#7201a8"
            ],
            [
             0.3333333333333333,
             "#9c179e"
            ],
            [
             0.4444444444444444,
             "#bd3786"
            ],
            [
             0.5555555555555556,
             "#d8576b"
            ],
            [
             0.6666666666666666,
             "#ed7953"
            ],
            [
             0.7777777777777778,
             "#fb9f3a"
            ],
            [
             0.8888888888888888,
             "#fdca26"
            ],
            [
             1,
             "#f0f921"
            ]
           ],
           "sequentialminus": [
            [
             0,
             "#0d0887"
            ],
            [
             0.1111111111111111,
             "#46039f"
            ],
            [
             0.2222222222222222,
             "#7201a8"
            ],
            [
             0.3333333333333333,
             "#9c179e"
            ],
            [
             0.4444444444444444,
             "#bd3786"
            ],
            [
             0.5555555555555556,
             "#d8576b"
            ],
            [
             0.6666666666666666,
             "#ed7953"
            ],
            [
             0.7777777777777778,
             "#fb9f3a"
            ],
            [
             0.8888888888888888,
             "#fdca26"
            ],
            [
             1,
             "#f0f921"
            ]
           ]
          },
          "colorway": [
           "#636efa",
           "#EF553B",
           "#00cc96",
           "#ab63fa",
           "#FFA15A",
           "#19d3f3",
           "#FF6692",
           "#B6E880",
           "#FF97FF",
           "#FECB52"
          ],
          "font": {
           "color": "#2a3f5f"
          },
          "geo": {
           "bgcolor": "white",
           "lakecolor": "white",
           "landcolor": "white",
           "showlakes": true,
           "showland": true,
           "subunitcolor": "#C8D4E3"
          },
          "hoverlabel": {
           "align": "left"
          },
          "hovermode": "closest",
          "mapbox": {
           "style": "light"
          },
          "paper_bgcolor": "white",
          "plot_bgcolor": "white",
          "polar": {
           "angularaxis": {
            "gridcolor": "#EBF0F8",
            "linecolor": "#EBF0F8",
            "ticks": ""
           },
           "bgcolor": "white",
           "radialaxis": {
            "gridcolor": "#EBF0F8",
            "linecolor": "#EBF0F8",
            "ticks": ""
           }
          },
          "scene": {
           "xaxis": {
            "backgroundcolor": "white",
            "gridcolor": "#DFE8F3",
            "gridwidth": 2,
            "linecolor": "#EBF0F8",
            "showbackground": true,
            "ticks": "",
            "zerolinecolor": "#EBF0F8"
           },
           "yaxis": {
            "backgroundcolor": "white",
            "gridcolor": "#DFE8F3",
            "gridwidth": 2,
            "linecolor": "#EBF0F8",
            "showbackground": true,
            "ticks": "",
            "zerolinecolor": "#EBF0F8"
           },
           "zaxis": {
            "backgroundcolor": "white",
            "gridcolor": "#DFE8F3",
            "gridwidth": 2,
            "linecolor": "#EBF0F8",
            "showbackground": true,
            "ticks": "",
            "zerolinecolor": "#EBF0F8"
           }
          },
          "shapedefaults": {
           "line": {
            "color": "#2a3f5f"
           }
          },
          "ternary": {
           "aaxis": {
            "gridcolor": "#DFE8F3",
            "linecolor": "#A2B1C6",
            "ticks": ""
           },
           "baxis": {
            "gridcolor": "#DFE8F3",
            "linecolor": "#A2B1C6",
            "ticks": ""
           },
           "bgcolor": "white",
           "caxis": {
            "gridcolor": "#DFE8F3",
            "linecolor": "#A2B1C6",
            "ticks": ""
           }
          },
          "title": {
           "x": 0.05
          },
          "xaxis": {
           "automargin": true,
           "gridcolor": "#EBF0F8",
           "linecolor": "#EBF0F8",
           "ticks": "",
           "title": {
            "standoff": 15
           },
           "zerolinecolor": "#EBF0F8",
           "zerolinewidth": 2
          },
          "yaxis": {
           "automargin": true,
           "gridcolor": "#EBF0F8",
           "linecolor": "#EBF0F8",
           "ticks": "",
           "title": {
            "standoff": 15
           },
           "zerolinecolor": "#EBF0F8",
           "zerolinewidth": 2
          }
         }
        },
        "title": {
         "text": "Precio promedio por marca (Top 10)"
        },
        "uniformtext": {
         "minsize": 8,
         "mode": "hide"
        },
        "xaxis": {
         "anchor": "y",
         "domain": [
          0,
          1
         ],
         "title": {
          "text": "Marca de vehículo"
         }
        },
        "yaxis": {
         "anchor": "x",
         "domain": [
          0,
          1
         ],
         "separatethousands": true,
         "showgrid": true,
         "tickprefix": "$",
         "title": {
          "text": "Precio promedio (COP)"
         }
        }
       }
      }
     },
     "metadata": {},
     "output_type": "display_data"
    }
   ],
   "source": [
    "import plotly.express as px\n",
    "\n",
    "# Calcular el promedio del precio por marca\n",
    "promedio_marca = (\n",
    "    data.groupby(\"vehicle_brand\")[\"price\"]\n",
    "    .mean()\n",
    "    .sort_values(ascending=False)\n",
    ")\n",
    "\n",
    "# Seleccionar las 10 marcas con mayor precio promedio\n",
    "top10 = promedio_marca[:10].reset_index()\n",
    "\n",
    "# Crear el gráfico interactivo\n",
    "fig = px.bar(\n",
    "    top10,\n",
    "    x=\"vehicle_brand\",\n",
    "    y=\"price\",\n",
    "    text=\"price\",\n",
    "    labels={\n",
    "        \"vehicle_brand\": \"Marca de vehículo\",\n",
    "        \"price\": \"Precio promedio (COP)\"\n",
    "    },\n",
    "    title=\"Precio promedio por marca (Top 10)\",\n",
    ")\n",
    "\n",
    "# Formato de pesos colombianos sin notación científica\n",
    "fig.update_traces(\n",
    "    texttemplate=\"$%{y:,.0f}\",\n",
    "    textposition=\"outside\",\n",
    "    marker_color=\"steelblue\"\n",
    ")\n",
    "fig.update_yaxes(\n",
    "    tickprefix=\"$\",\n",
    "    separatethousands=True,\n",
    "    showgrid=True\n",
    ")\n",
    "\n",
    "# Ajustar diseño\n",
    "fig.update_layout(\n",
    "    xaxis_title=\"Marca de vehículo\",\n",
    "    yaxis_title=\"Precio promedio (COP)\",\n",
    "    uniformtext_minsize=8,\n",
    "    uniformtext_mode='hide',\n",
    "    template=\"plotly_white\"\n",
    ")\n",
    "\n",
    "fig.show()"
   ]
  },
  {
   "cell_type": "code",
   "execution_count": 61,
   "id": "16ee329c",
   "metadata": {},
   "outputs": [
    {
     "data": {
      "text/plain": [
       "Text(0.5, 1.0, 'Precio promedio por marca')"
      ]
     },
     "execution_count": 61,
     "metadata": {},
     "output_type": "execute_result"
    },
    {
     "data": {
      "image/png": "[encoded data removed]",
      "text/plain": [
       "<Figure size 640x480 with 1 Axes>"
      ]
     },
     "metadata": {},
     "output_type": "display_data"
    }
   ],
   "source": [
    "ax = promedio_marca[:10].plot(kind='bar')\n",
    "ax.yaxis.set_major_formatter(mticker.StrMethodFormatter('${x:,.0f}'))\n",
    "ax.set_ylabel('Precio promedio (COP)')\n",
    "ax.set_xlabel('Marca de vehículo')\n",
    "ax.set_title('Precio promedio por marca')"
   ]
  },
  {
   "cell_type": "code",
   "execution_count": 57,
   "id": "6fa8ab66",
   "metadata": {},
   "outputs": [
    {
     "data": {
      "image/png": "[encoded data removed]",
      "text/plain": [
       "<Figure size 640x480 with 1 Axes>"
      ]
     },
     "metadata": {},
     "output_type": "display_data"
    }
   ],
   "source": [
    "ax = promedio_marca[-10:].plot(kind='bar')\n",
    "ax.yaxis.set_major_formatter(mticker.StrMethodFormatter('${x:,.0f}'))\n",
    "plt.show()"
   ]
  },
  {
   "cell_type": "code",
   "execution_count": 22,
   "id": "7c750772",
   "metadata": {},
   "outputs": [],
   "source": [
    "## Filtrar el carro mas barato"
   ]
  },
  {
   "cell_type": "code",
   "execution_count": 23,
   "id": "b54c9a65",
   "metadata": {},
   "outputs": [
    {
     "data": {
      "text/html": [
       "<div>\n",
       "<style scoped>\n",
       "    .dataframe tbody tr th:only-of-type {\n",
       "        vertical-align: middle;\n",
       "    }\n",
       "\n",
       "    .dataframe tbody tr th {\n",
       "        vertical-align: top;\n",
       "    }\n",
       "\n",
       "    .dataframe thead th {\n",
       "        text-align: right;\n",
       "    }\n",
       "</style>\n",
       "<table border=\"1\" class=\"dataframe\">\n",
       "  <thead>\n",
       "    <tr style=\"text-align: right;\">\n",
       "      <th></th>\n",
       "      <th>product</th>\n",
       "      <th>price</th>\n",
       "      <th>link</th>\n",
       "      <th>years</th>\n",
       "      <th>kilometraje</th>\n",
       "      <th>_created</th>\n",
       "      <th>id</th>\n",
       "      <th>location_city</th>\n",
       "      <th>location_state</th>\n",
       "      <th>vehicle_brand</th>\n",
       "    </tr>\n",
       "  </thead>\n",
       "  <tbody>\n",
       "    <tr>\n",
       "      <th>2147</th>\n",
       "      <td>Chevrolet Swift 1.3</td>\n",
       "      <td>8500000</td>\n",
       "      <td>https://carro.mercadolibre.com.co/MCO-14575473...</td>\n",
       "      <td>1994</td>\n",
       "      <td>162000</td>\n",
       "      <td>2024-07-26</td>\n",
       "      <td>1457547375</td>\n",
       "      <td>Puente Aranda</td>\n",
       "      <td>Bogotá D.C.</td>\n",
       "      <td>Chevrolet</td>\n",
       "    </tr>\n",
       "  </tbody>\n",
       "</table>\n",
       "</div>"
      ],
      "text/plain": [
       "                  product    price  \\\n",
       "2147  Chevrolet Swift 1.3  8500000   \n",
       "\n",
       "                                                   link  years  kilometraje  \\\n",
       "2147  https://carro.mercadolibre.com.co/MCO-14575473...   1994       162000   \n",
       "\n",
       "       _created          id  location_city location_state vehicle_brand  \n",
       "2147 2024-07-26  1457547375  Puente Aranda    Bogotá D.C.     Chevrolet  "
      ]
     },
     "execution_count": 23,
     "metadata": {},
     "output_type": "execute_result"
    }
   ],
   "source": [
    "min_price = data['price'].min()\n",
    "data[data['price'] == min_price]"
   ]
  },
  {
   "cell_type": "code",
   "execution_count": 58,
   "id": "633379dc",
   "metadata": {},
   "outputs": [
    {
     "data": {
      "text/html": [
       "<div>\n",
       "<style scoped>\n",
       "    .dataframe tbody tr th:only-of-type {\n",
       "        vertical-align: middle;\n",
       "    }\n",
       "\n",
       "    .dataframe tbody tr th {\n",
       "        vertical-align: top;\n",
       "    }\n",
       "\n",
       "    .dataframe thead th {\n",
       "        text-align: right;\n",
       "    }\n",
       "</style>\n",
       "<table border=\"1\" class=\"dataframe\">\n",
       "  <thead>\n",
       "    <tr style=\"text-align: right;\">\n",
       "      <th></th>\n",
       "      <th>product</th>\n",
       "      <th>price</th>\n",
       "      <th>link</th>\n",
       "      <th>years</th>\n",
       "      <th>kilometraje</th>\n",
       "      <th>_created</th>\n",
       "      <th>id</th>\n",
       "      <th>location_city</th>\n",
       "      <th>location_state</th>\n",
       "      <th>vehicle_brand</th>\n",
       "    </tr>\n",
       "  </thead>\n",
       "  <tbody>\n",
       "    <tr>\n",
       "      <th>3271</th>\n",
       "      <td>Mercedes-benz Clase G 4.0 Amg Blindaje 2+</td>\n",
       "      <td>1030000000</td>\n",
       "      <td>https://carro.mercadolibre.com.co/MCO-14056452...</td>\n",
       "      <td>2019</td>\n",
       "      <td>47624</td>\n",
       "      <td>2024-03-22</td>\n",
       "      <td>1405645261</td>\n",
       "      <td>Sabaneta</td>\n",
       "      <td>Antioquia</td>\n",
       "      <td>Mercedes-benz</td>\n",
       "    </tr>\n",
       "  </tbody>\n",
       "</table>\n",
       "</div>"
      ],
      "text/plain": [
       "                                        product       price  \\\n",
       "3271  Mercedes-benz Clase G 4.0 Amg Blindaje 2+  1030000000   \n",
       "\n",
       "                                                   link  years  kilometraje  \\\n",
       "3271  https://carro.mercadolibre.com.co/MCO-14056452...   2019        47624   \n",
       "\n",
       "       _created          id location_city location_state  vehicle_brand  \n",
       "3271 2024-03-22  1405645261      Sabaneta      Antioquia  Mercedes-benz  "
      ]
     },
     "execution_count": 58,
     "metadata": {},
     "output_type": "execute_result"
    }
   ],
   "source": [
    "max_price = data['price'].max()\n",
    "data[data['price'] == max_price]"
   ]
  },
  {
   "cell_type": "code",
   "execution_count": null,
   "id": "8ce7a040",
   "metadata": {},
   "outputs": [],
   "source": [
    "### el carro mas caro de cada marca"
   ]
  },
  {
   "cell_type": "code",
   "execution_count": 65,
   "id": "cccbe9bd",
   "metadata": {},
   "outputs": [],
   "source": [
    "mas_caro_marca = data.sort_values(by=['price', 'vehicle_brand'], ascending=False).drop_duplicates(subset=['vehicle_brand'])"
   ]
  },
  {
   "cell_type": "code",
   "execution_count": 66,
   "id": "17aa3dff",
   "metadata": {},
   "outputs": [
    {
     "data": {
      "text/html": [
       "<div>\n",
       "<style scoped>\n",
       "    .dataframe tbody tr th:only-of-type {\n",
       "        vertical-align: middle;\n",
       "    }\n",
       "\n",
       "    .dataframe tbody tr th {\n",
       "        vertical-align: top;\n",
       "    }\n",
       "\n",
       "    .dataframe thead th {\n",
       "        text-align: right;\n",
       "    }\n",
       "</style>\n",
       "<table border=\"1\" class=\"dataframe\">\n",
       "  <thead>\n",
       "    <tr style=\"text-align: right;\">\n",
       "      <th></th>\n",
       "      <th>product</th>\n",
       "      <th>price</th>\n",
       "      <th>link</th>\n",
       "      <th>years</th>\n",
       "      <th>kilometraje</th>\n",
       "      <th>_created</th>\n",
       "      <th>id</th>\n",
       "      <th>location_city</th>\n",
       "      <th>location_state</th>\n",
       "      <th>vehicle_brand</th>\n",
       "    </tr>\n",
       "  </thead>\n",
       "  <tbody>\n",
       "    <tr>\n",
       "      <th>4630</th>\n",
       "      <td>Chevrolet Tahoe Z71</td>\n",
       "      <td>300000000</td>\n",
       "      <td>https://carro.mercadolibre.com.co/MCO-21729368...</td>\n",
       "      <td>2021</td>\n",
       "      <td>34150</td>\n",
       "      <td>2024-02-24</td>\n",
       "      <td>2172936850</td>\n",
       "      <td>Usaquén</td>\n",
       "      <td>Bogotá D.C.</td>\n",
       "      <td>Chevrolet</td>\n",
       "    </tr>\n",
       "  </tbody>\n",
       "</table>\n",
       "</div>"
      ],
      "text/plain": [
       "                  product      price  \\\n",
       "4630  Chevrolet Tahoe Z71  300000000   \n",
       "\n",
       "                                                   link  years  kilometraje  \\\n",
       "4630  https://carro.mercadolibre.com.co/MCO-21729368...   2021        34150   \n",
       "\n",
       "       _created          id location_city location_state vehicle_brand  \n",
       "4630 2024-02-24  2172936850       Usaquén    Bogotá D.C.     Chevrolet  "
      ]
     },
     "execution_count": 66,
     "metadata": {},
     "output_type": "execute_result"
    }
   ],
   "source": [
    "mas_caro_marca[mas_caro_marca['vehicle_brand'] == 'Chevrolet']"
   ]
  },
  {
   "cell_type": "code",
   "execution_count": 75,
   "id": "d1669cf8",
   "metadata": {},
   "outputs": [
    {
     "data": {
      "text/plain": [
       "vehicle_brand\n",
       "Mercedes-benz    1\n",
       "Skoda            1\n",
       "Peugeot          1\n",
       "Ds               1\n",
       "Seat             1\n",
       "Jetour           1\n",
       "Citroën          1\n",
       "Ssangyong        1\n",
       "Opel             1\n",
       "Dfm/dfsk         1\n",
       "Dfsk             1\n",
       "Jac              1\n",
       "Changan          1\n",
       "Dahiatsu         1\n",
       "Karry            1\n",
       "Hummer           1\n",
       "Daihatsu         1\n",
       "Huanghai         1\n",
       "Chery            1\n",
       "Zhidou           1\n",
       "Mahindra         1\n",
       "Foton            1\n",
       "Jmc              1\n",
       "Isuzu            1\n",
       "Baic             1\n",
       "Brilliance       1\n",
       "Hafei            1\n",
       "Chrysler         1\n",
       "Suzuki           1\n",
       "Kia              1\n",
       "Bmw              1\n",
       "Chevrolet        1\n",
       "Nissan           1\n",
       "Toyota           1\n",
       "Porsche          1\n",
       "Land             1\n",
       "Lexus            1\n",
       "Alfa             1\n",
       "Fiat             1\n",
       "Ford             1\n",
       "Jeep             1\n",
       "Volkswagen       1\n",
       "Volvo            1\n",
       "Audi             1\n",
       "Mazda            1\n",
       "Cupra            1\n",
       "Jaguar           1\n",
       "Mitsubishi       1\n",
       "Subaru           1\n",
       "Mg               1\n",
       "Dodge            1\n",
       "Byd              1\n",
       "Mini             1\n",
       "Hyundai          1\n",
       "Ram              1\n",
       "Great            1\n",
       "Honda            1\n",
       "Renault          1\n",
       "Daewoo           1\n",
       "Name: count, dtype: int64"
      ]
     },
     "execution_count": 75,
     "metadata": {},
     "output_type": "execute_result"
    }
   ],
   "source": [
    "mas_caro_marca['vehicle_brand'].value_counts()"
   ]
  },
  {
   "cell_type": "code",
   "execution_count": 72,
   "id": "c5135e73",
   "metadata": {},
   "outputs": [],
   "source": [
    "lista = [1,2,6,5,10,8]\n",
    "lsta_letras = ['a','c','b','d','e','f']\n",
    "serie_ejemplo = pd.Series(lista)\n",
    "serie_letras = pd.Series(lsta_letras)"
   ]
  },
  {
   "cell_type": "code",
   "execution_count": 71,
   "id": "f2c4e381",
   "metadata": {},
   "outputs": [
    {
     "data": {
      "text/plain": [
       "0     1\n",
       "1     2\n",
       "3     5\n",
       "2     6\n",
       "5     8\n",
       "4    10\n",
       "dtype: int64"
      ]
     },
     "execution_count": 71,
     "metadata": {},
     "output_type": "execute_result"
    }
   ],
   "source": [
    "serie_ejemplo.sort_values(ascending=True)"
   ]
  },
  {
   "cell_type": "code",
   "execution_count": 73,
   "id": "ea953be6",
   "metadata": {},
   "outputs": [
    {
     "data": {
      "text/plain": [
       "0    a\n",
       "2    b\n",
       "1    c\n",
       "3    d\n",
       "4    e\n",
       "5    f\n",
       "dtype: object"
      ]
     },
     "execution_count": 73,
     "metadata": {},
     "output_type": "execute_result"
    }
   ],
   "source": [
    "serie_letras.sort_values(ascending=True)"
   ]
  },
  {
   "cell_type": "code",
   "execution_count": 76,
   "id": "cab77aaf",
   "metadata": {},
   "outputs": [
    {
     "data": {
      "text/html": [
       "<div>\n",
       "<style scoped>\n",
       "    .dataframe tbody tr th:only-of-type {\n",
       "        vertical-align: middle;\n",
       "    }\n",
       "\n",
       "    .dataframe tbody tr th {\n",
       "        vertical-align: top;\n",
       "    }\n",
       "\n",
       "    .dataframe thead th {\n",
       "        text-align: right;\n",
       "    }\n",
       "</style>\n",
       "<table border=\"1\" class=\"dataframe\">\n",
       "  <thead>\n",
       "    <tr style=\"text-align: right;\">\n",
       "      <th></th>\n",
       "      <th>product</th>\n",
       "      <th>price</th>\n",
       "      <th>link</th>\n",
       "      <th>years</th>\n",
       "      <th>kilometraje</th>\n",
       "      <th>_created</th>\n",
       "      <th>id</th>\n",
       "      <th>location_city</th>\n",
       "      <th>location_state</th>\n",
       "      <th>vehicle_brand</th>\n",
       "    </tr>\n",
       "  </thead>\n",
       "  <tbody>\n",
       "    <tr>\n",
       "      <th>0</th>\n",
       "      <td>Byd Song Plus Dm-i 1.5 Hibrida Enchufable</td>\n",
       "      <td>183900000</td>\n",
       "      <td>https://carro.mercadolibre.com.co/MCO-14023610...</td>\n",
       "      <td>2024</td>\n",
       "      <td>5800</td>\n",
       "      <td>2024-03-14</td>\n",
       "      <td>1402361017</td>\n",
       "      <td>Suba</td>\n",
       "      <td>Bogotá D.C.</td>\n",
       "      <td>Byd</td>\n",
       "    </tr>\n",
       "    <tr>\n",
       "      <th>1</th>\n",
       "      <td>Mazda 3 2.0 Grand Touring</td>\n",
       "      <td>64900000</td>\n",
       "      <td>https://carro.mercadolibre.com.co/MCO-22614289...</td>\n",
       "      <td>2016</td>\n",
       "      <td>59000</td>\n",
       "      <td>2024-03-14</td>\n",
       "      <td>2261428954</td>\n",
       "      <td>Envigado</td>\n",
       "      <td>Antioquia</td>\n",
       "      <td>Mazda</td>\n",
       "    </tr>\n",
       "    <tr>\n",
       "      <th>2</th>\n",
       "      <td>Chevrolet Tracker 1.8 Lt</td>\n",
       "      <td>72000000</td>\n",
       "      <td>https://carro.mercadolibre.com.co/MCO-14023596...</td>\n",
       "      <td>2018</td>\n",
       "      <td>47000</td>\n",
       "      <td>2024-03-14</td>\n",
       "      <td>1402359669</td>\n",
       "      <td>Usaquén</td>\n",
       "      <td>Bogotá D.C.</td>\n",
       "      <td>Chevrolet</td>\n",
       "    </tr>\n",
       "    <tr>\n",
       "      <th>3</th>\n",
       "      <td>Kia Picanto 1.2 Vibrant</td>\n",
       "      <td>59500000</td>\n",
       "      <td>https://carro.mercadolibre.com.co/MCO-22614018...</td>\n",
       "      <td>2024</td>\n",
       "      <td>3600</td>\n",
       "      <td>2024-03-14</td>\n",
       "      <td>2261401840</td>\n",
       "      <td>Suba</td>\n",
       "      <td>Bogotá D.C.</td>\n",
       "      <td>Kia</td>\n",
       "    </tr>\n",
       "    <tr>\n",
       "      <th>4</th>\n",
       "      <td>Nissan X-trail 2.5 Kapital</td>\n",
       "      <td>63000000</td>\n",
       "      <td>https://carro.mercadolibre.com.co/MCO-22614783...</td>\n",
       "      <td>2015</td>\n",
       "      <td>81000</td>\n",
       "      <td>2024-03-14</td>\n",
       "      <td>2261478326</td>\n",
       "      <td>Kennedy</td>\n",
       "      <td>Bogotá D.C.</td>\n",
       "      <td>Nissan</td>\n",
       "    </tr>\n",
       "    <tr>\n",
       "      <th>...</th>\n",
       "      <td>...</td>\n",
       "      <td>...</td>\n",
       "      <td>...</td>\n",
       "      <td>...</td>\n",
       "      <td>...</td>\n",
       "      <td>...</td>\n",
       "      <td>...</td>\n",
       "      <td>...</td>\n",
       "      <td>...</td>\n",
       "      <td>...</td>\n",
       "    </tr>\n",
       "    <tr>\n",
       "      <th>7245</th>\n",
       "      <td>Renault Duster 2.0 Dynamique 4x2</td>\n",
       "      <td>54000000</td>\n",
       "      <td>https://carro.mercadolibre.com.co/MCO-14353772...</td>\n",
       "      <td>2016</td>\n",
       "      <td>88062</td>\n",
       "      <td>2024-06-11</td>\n",
       "      <td>1435377249</td>\n",
       "      <td>Suba</td>\n",
       "      <td>Bogotá D.C.</td>\n",
       "      <td>Renault</td>\n",
       "    </tr>\n",
       "    <tr>\n",
       "      <th>7246</th>\n",
       "      <td>Toyota Corolla Cross 1.8 At Hibrida 4x2</td>\n",
       "      <td>127000000</td>\n",
       "      <td>https://carro.mercadolibre.com.co/MCO-14354156...</td>\n",
       "      <td>2022</td>\n",
       "      <td>33800</td>\n",
       "      <td>2024-06-11</td>\n",
       "      <td>1435415665</td>\n",
       "      <td>Mosquera</td>\n",
       "      <td>Cundinamarca</td>\n",
       "      <td>Toyota</td>\n",
       "    </tr>\n",
       "    <tr>\n",
       "      <th>7247</th>\n",
       "      <td>Honda Civic 1.8 Lx</td>\n",
       "      <td>26000000</td>\n",
       "      <td>https://carro.mercadolibre.com.co/MCO-14353251...</td>\n",
       "      <td>2006</td>\n",
       "      <td>150000</td>\n",
       "      <td>2024-06-11</td>\n",
       "      <td>1435325157</td>\n",
       "      <td>Usaquén</td>\n",
       "      <td>Bogotá D.C.</td>\n",
       "      <td>Honda</td>\n",
       "    </tr>\n",
       "    <tr>\n",
       "      <th>7248</th>\n",
       "      <td>Kia Cerato Forte 1.6 Sx</td>\n",
       "      <td>40000000</td>\n",
       "      <td>https://carro.mercadolibre.com.co/MCO-14353369...</td>\n",
       "      <td>2012</td>\n",
       "      <td>75000</td>\n",
       "      <td>2024-06-11</td>\n",
       "      <td>1435336985</td>\n",
       "      <td>Bosa</td>\n",
       "      <td>Bogotá D.C.</td>\n",
       "      <td>Kia</td>\n",
       "    </tr>\n",
       "    <tr>\n",
       "      <th>7249</th>\n",
       "      <td>Nissan Np300 Frontier 2.4l Mt 4x2</td>\n",
       "      <td>57000000</td>\n",
       "      <td>https://carro.mercadolibre.com.co/MCO-14353112...</td>\n",
       "      <td>2011</td>\n",
       "      <td>202000</td>\n",
       "      <td>2024-06-11</td>\n",
       "      <td>1435311215</td>\n",
       "      <td>Engativa</td>\n",
       "      <td>Bogotá D.C.</td>\n",
       "      <td>Nissan</td>\n",
       "    </tr>\n",
       "  </tbody>\n",
       "</table>\n",
       "<p>7250 rows × 10 columns</p>\n",
       "</div>"
      ],
      "text/plain": [
       "                                        product      price  \\\n",
       "0     Byd Song Plus Dm-i 1.5 Hibrida Enchufable  183900000   \n",
       "1                     Mazda 3 2.0 Grand Touring   64900000   \n",
       "2                      Chevrolet Tracker 1.8 Lt   72000000   \n",
       "3                       Kia Picanto 1.2 Vibrant   59500000   \n",
       "4                    Nissan X-trail 2.5 Kapital   63000000   \n",
       "...                                         ...        ...   \n",
       "7245           Renault Duster 2.0 Dynamique 4x2   54000000   \n",
       "7246    Toyota Corolla Cross 1.8 At Hibrida 4x2  127000000   \n",
       "7247                         Honda Civic 1.8 Lx   26000000   \n",
       "7248                    Kia Cerato Forte 1.6 Sx   40000000   \n",
       "7249          Nissan Np300 Frontier 2.4l Mt 4x2   57000000   \n",
       "\n",
       "                                                   link  years  kilometraje  \\\n",
       "0     https://carro.mercadolibre.com.co/MCO-14023610...   2024         5800   \n",
       "1     https://carro.mercadolibre.com.co/MCO-22614289...   2016        59000   \n",
       "2     https://carro.mercadolibre.com.co/MCO-14023596...   2018        47000   \n",
       "3     https://carro.mercadolibre.com.co/MCO-22614018...   2024         3600   \n",
       "4     https://carro.mercadolibre.com.co/MCO-22614783...   2015        81000   \n",
       "...                                                 ...    ...          ...   \n",
       "7245  https://carro.mercadolibre.com.co/MCO-14353772...   2016        88062   \n",
       "7246  https://carro.mercadolibre.com.co/MCO-14354156...   2022        33800   \n",
       "7247  https://carro.mercadolibre.com.co/MCO-14353251...   2006       150000   \n",
       "7248  https://carro.mercadolibre.com.co/MCO-14353369...   2012        75000   \n",
       "7249  https://carro.mercadolibre.com.co/MCO-14353112...   2011       202000   \n",
       "\n",
       "       _created          id location_city location_state vehicle_brand  \n",
       "0    2024-03-14  1402361017          Suba    Bogotá D.C.           Byd  \n",
       "1    2024-03-14  2261428954      Envigado      Antioquia         Mazda  \n",
       "2    2024-03-14  1402359669       Usaquén    Bogotá D.C.     Chevrolet  \n",
       "3    2024-03-14  2261401840          Suba    Bogotá D.C.           Kia  \n",
       "4    2024-03-14  2261478326       Kennedy    Bogotá D.C.        Nissan  \n",
       "...         ...         ...           ...            ...           ...  \n",
       "7245 2024-06-11  1435377249          Suba    Bogotá D.C.       Renault  \n",
       "7246 2024-06-11  1435415665      Mosquera   Cundinamarca        Toyota  \n",
       "7247 2024-06-11  1435325157       Usaquén    Bogotá D.C.         Honda  \n",
       "7248 2024-06-11  1435336985          Bosa    Bogotá D.C.           Kia  \n",
       "7249 2024-06-11  1435311215      Engativa    Bogotá D.C.        Nissan  \n",
       "\n",
       "[7250 rows x 10 columns]"
      ]
     },
     "execution_count": 76,
     "metadata": {},
     "output_type": "execute_result"
    }
   ],
   "source": [
    "data"
   ]
  },
  {
   "cell_type": "code",
   "execution_count": 77,
   "id": "750015aa",
   "metadata": {},
   "outputs": [],
   "source": [
    "data['vehicle_line'] = data['product'].str.split(\" \").str[1]"
   ]
  },
  {
   "cell_type": "code",
   "execution_count": 78,
   "id": "ca3f840d",
   "metadata": {},
   "outputs": [
    {
     "data": {
      "text/html": [
       "<div>\n",
       "<style scoped>\n",
       "    .dataframe tbody tr th:only-of-type {\n",
       "        vertical-align: middle;\n",
       "    }\n",
       "\n",
       "    .dataframe tbody tr th {\n",
       "        vertical-align: top;\n",
       "    }\n",
       "\n",
       "    .dataframe thead th {\n",
       "        text-align: right;\n",
       "    }\n",
       "</style>\n",
       "<table border=\"1\" class=\"dataframe\">\n",
       "  <thead>\n",
       "    <tr style=\"text-align: right;\">\n",
       "      <th></th>\n",
       "      <th>product</th>\n",
       "      <th>price</th>\n",
       "      <th>link</th>\n",
       "      <th>years</th>\n",
       "      <th>kilometraje</th>\n",
       "      <th>_created</th>\n",
       "      <th>id</th>\n",
       "      <th>location_city</th>\n",
       "      <th>location_state</th>\n",
       "      <th>vehicle_brand</th>\n",
       "      <th>vehicle_line</th>\n",
       "    </tr>\n",
       "  </thead>\n",
       "  <tbody>\n",
       "    <tr>\n",
       "      <th>0</th>\n",
       "      <td>Byd Song Plus Dm-i 1.5 Hibrida Enchufable</td>\n",
       "      <td>183900000</td>\n",
       "      <td>https://carro.mercadolibre.com.co/MCO-14023610...</td>\n",
       "      <td>2024</td>\n",
       "      <td>5800</td>\n",
       "      <td>2024-03-14</td>\n",
       "      <td>1402361017</td>\n",
       "      <td>Suba</td>\n",
       "      <td>Bogotá D.C.</td>\n",
       "      <td>Byd</td>\n",
       "      <td>Song</td>\n",
       "    </tr>\n",
       "    <tr>\n",
       "      <th>1</th>\n",
       "      <td>Mazda 3 2.0 Grand Touring</td>\n",
       "      <td>64900000</td>\n",
       "      <td>https://carro.mercadolibre.com.co/MCO-22614289...</td>\n",
       "      <td>2016</td>\n",
       "      <td>59000</td>\n",
       "      <td>2024-03-14</td>\n",
       "      <td>2261428954</td>\n",
       "      <td>Envigado</td>\n",
       "      <td>Antioquia</td>\n",
       "      <td>Mazda</td>\n",
       "      <td>3</td>\n",
       "    </tr>\n",
       "    <tr>\n",
       "      <th>2</th>\n",
       "      <td>Chevrolet Tracker 1.8 Lt</td>\n",
       "      <td>72000000</td>\n",
       "      <td>https://carro.mercadolibre.com.co/MCO-14023596...</td>\n",
       "      <td>2018</td>\n",
       "      <td>47000</td>\n",
       "      <td>2024-03-14</td>\n",
       "      <td>1402359669</td>\n",
       "      <td>Usaquén</td>\n",
       "      <td>Bogotá D.C.</td>\n",
       "      <td>Chevrolet</td>\n",
       "      <td>Tracker</td>\n",
       "    </tr>\n",
       "    <tr>\n",
       "      <th>3</th>\n",
       "      <td>Kia Picanto 1.2 Vibrant</td>\n",
       "      <td>59500000</td>\n",
       "      <td>https://carro.mercadolibre.com.co/MCO-22614018...</td>\n",
       "      <td>2024</td>\n",
       "      <td>3600</td>\n",
       "      <td>2024-03-14</td>\n",
       "      <td>2261401840</td>\n",
       "      <td>Suba</td>\n",
       "      <td>Bogotá D.C.</td>\n",
       "      <td>Kia</td>\n",
       "      <td>Picanto</td>\n",
       "    </tr>\n",
       "    <tr>\n",
       "      <th>4</th>\n",
       "      <td>Nissan X-trail 2.5 Kapital</td>\n",
       "      <td>63000000</td>\n",
       "      <td>https://carro.mercadolibre.com.co/MCO-22614783...</td>\n",
       "      <td>2015</td>\n",
       "      <td>81000</td>\n",
       "      <td>2024-03-14</td>\n",
       "      <td>2261478326</td>\n",
       "      <td>Kennedy</td>\n",
       "      <td>Bogotá D.C.</td>\n",
       "      <td>Nissan</td>\n",
       "      <td>X-trail</td>\n",
       "    </tr>\n",
       "    <tr>\n",
       "      <th>...</th>\n",
       "      <td>...</td>\n",
       "      <td>...</td>\n",
       "      <td>...</td>\n",
       "      <td>...</td>\n",
       "      <td>...</td>\n",
       "      <td>...</td>\n",
       "      <td>...</td>\n",
       "      <td>...</td>\n",
       "      <td>...</td>\n",
       "      <td>...</td>\n",
       "      <td>...</td>\n",
       "    </tr>\n",
       "    <tr>\n",
       "      <th>7245</th>\n",
       "      <td>Renault Duster 2.0 Dynamique 4x2</td>\n",
       "      <td>54000000</td>\n",
       "      <td>https://carro.mercadolibre.com.co/MCO-14353772...</td>\n",
       "      <td>2016</td>\n",
       "      <td>88062</td>\n",
       "      <td>2024-06-11</td>\n",
       "      <td>1435377249</td>\n",
       "      <td>Suba</td>\n",
       "      <td>Bogotá D.C.</td>\n",
       "      <td>Renault</td>\n",
       "      <td>Duster</td>\n",
       "    </tr>\n",
       "    <tr>\n",
       "      <th>7246</th>\n",
       "      <td>Toyota Corolla Cross 1.8 At Hibrida 4x2</td>\n",
       "      <td>127000000</td>\n",
       "      <td>https://carro.mercadolibre.com.co/MCO-14354156...</td>\n",
       "      <td>2022</td>\n",
       "      <td>33800</td>\n",
       "      <td>2024-06-11</td>\n",
       "      <td>1435415665</td>\n",
       "      <td>Mosquera</td>\n",
       "      <td>Cundinamarca</td>\n",
       "      <td>Toyota</td>\n",
       "      <td>Corolla</td>\n",
       "    </tr>\n",
       "    <tr>\n",
       "      <th>7247</th>\n",
       "      <td>Honda Civic 1.8 Lx</td>\n",
       "      <td>26000000</td>\n",
       "      <td>https://carro.mercadolibre.com.co/MCO-14353251...</td>\n",
       "      <td>2006</td>\n",
       "      <td>150000</td>\n",
       "      <td>2024-06-11</td>\n",
       "      <td>1435325157</td>\n",
       "      <td>Usaquén</td>\n",
       "      <td>Bogotá D.C.</td>\n",
       "      <td>Honda</td>\n",
       "      <td>Civic</td>\n",
       "    </tr>\n",
       "    <tr>\n",
       "      <th>7248</th>\n",
       "      <td>Kia Cerato Forte 1.6 Sx</td>\n",
       "      <td>40000000</td>\n",
       "      <td>https://carro.mercadolibre.com.co/MCO-14353369...</td>\n",
       "      <td>2012</td>\n",
       "      <td>75000</td>\n",
       "      <td>2024-06-11</td>\n",
       "      <td>1435336985</td>\n",
       "      <td>Bosa</td>\n",
       "      <td>Bogotá D.C.</td>\n",
       "      <td>Kia</td>\n",
       "      <td>Cerato</td>\n",
       "    </tr>\n",
       "    <tr>\n",
       "      <th>7249</th>\n",
       "      <td>Nissan Np300 Frontier 2.4l Mt 4x2</td>\n",
       "      <td>57000000</td>\n",
       "      <td>https://carro.mercadolibre.com.co/MCO-14353112...</td>\n",
       "      <td>2011</td>\n",
       "      <td>202000</td>\n",
       "      <td>2024-06-11</td>\n",
       "      <td>1435311215</td>\n",
       "      <td>Engativa</td>\n",
       "      <td>Bogotá D.C.</td>\n",
       "      <td>Nissan</td>\n",
       "      <td>Np300</td>\n",
       "    </tr>\n",
       "  </tbody>\n",
       "</table>\n",
       "<p>7250 rows × 11 columns</p>\n",
       "</div>"
      ],
      "text/plain": [
       "                                        product      price  \\\n",
       "0     Byd Song Plus Dm-i 1.5 Hibrida Enchufable  183900000   \n",
       "1                     Mazda 3 2.0 Grand Touring   64900000   \n",
       "2                      Chevrolet Tracker 1.8 Lt   72000000   \n",
       "3                       Kia Picanto 1.2 Vibrant   59500000   \n",
       "4                    Nissan X-trail 2.5 Kapital   63000000   \n",
       "...                                         ...        ...   \n",
       "7245           Renault Duster 2.0 Dynamique 4x2   54000000   \n",
       "7246    Toyota Corolla Cross 1.8 At Hibrida 4x2  127000000   \n",
       "7247                         Honda Civic 1.8 Lx   26000000   \n",
       "7248                    Kia Cerato Forte 1.6 Sx   40000000   \n",
       "7249          Nissan Np300 Frontier 2.4l Mt 4x2   57000000   \n",
       "\n",
       "                                                   link  years  kilometraje  \\\n",
       "0     https://carro.mercadolibre.com.co/MCO-14023610...   2024         5800   \n",
       "1     https://carro.mercadolibre.com.co/MCO-22614289...   2016        59000   \n",
       "2     https://carro.mercadolibre.com.co/MCO-14023596...   2018        47000   \n",
       "3     https://carro.mercadolibre.com.co/MCO-22614018...   2024         3600   \n",
       "4     https://carro.mercadolibre.com.co/MCO-22614783...   2015        81000   \n",
       "...                                                 ...    ...          ...   \n",
       "7245  https://carro.mercadolibre.com.co/MCO-14353772...   2016        88062   \n",
       "7246  https://carro.mercadolibre.com.co/MCO-14354156...   2022        33800   \n",
       "7247  https://carro.mercadolibre.com.co/MCO-14353251...   2006       150000   \n",
       "7248  https://carro.mercadolibre.com.co/MCO-14353369...   2012        75000   \n",
       "7249  https://carro.mercadolibre.com.co/MCO-14353112...   2011       202000   \n",
       "\n",
       "       _created          id location_city location_state vehicle_brand  \\\n",
       "0    2024-03-14  1402361017          Suba    Bogotá D.C.           Byd   \n",
       "1    2024-03-14  2261428954      Envigado      Antioquia         Mazda   \n",
       "2    2024-03-14  1402359669       Usaquén    Bogotá D.C.     Chevrolet   \n",
       "3    2024-03-14  2261401840          Suba    Bogotá D.C.           Kia   \n",
       "4    2024-03-14  2261478326       Kennedy    Bogotá D.C.        Nissan   \n",
       "...         ...         ...           ...            ...           ...   \n",
       "7245 2024-06-11  1435377249          Suba    Bogotá D.C.       Renault   \n",
       "7246 2024-06-11  1435415665      Mosquera   Cundinamarca        Toyota   \n",
       "7247 2024-06-11  1435325157       Usaquén    Bogotá D.C.         Honda   \n",
       "7248 2024-06-11  1435336985          Bosa    Bogotá D.C.           Kia   \n",
       "7249 2024-06-11  1435311215      Engativa    Bogotá D.C.        Nissan   \n",
       "\n",
       "     vehicle_line  \n",
       "0            Song  \n",
       "1               3  \n",
       "2         Tracker  \n",
       "3         Picanto  \n",
       "4         X-trail  \n",
       "...           ...  \n",
       "7245       Duster  \n",
       "7246      Corolla  \n",
       "7247        Civic  \n",
       "7248       Cerato  \n",
       "7249        Np300  \n",
       "\n",
       "[7250 rows x 11 columns]"
      ]
     },
     "execution_count": 78,
     "metadata": {},
     "output_type": "execute_result"
    }
   ],
   "source": [
    "data"
   ]
  },
  {
   "cell_type": "code",
   "execution_count": 79,
   "id": "7b4f6844",
   "metadata": {},
   "outputs": [],
   "source": [
    "data[\"brand_line\"] = data[\"vehicle_brand\"] + \"-\" + data[\"vehicle_line\"]"
   ]
  },
  {
   "cell_type": "code",
   "execution_count": 81,
   "id": "4f6be6e2",
   "metadata": {},
   "outputs": [
    {
     "data": {
      "text/plain": [
       "brand_line\n",
       "Mercedes-benz-Clase    337\n",
       "Toyota-Prado           220\n",
       "Mazda-3                191\n",
       "Ford-Escape            191\n",
       "Renault-Duster         170\n",
       "                      ... \n",
       "Isuzu-Amigo              1\n",
       "Renault-Master           1\n",
       "Peugeot-406              1\n",
       "Ford-Nueva               1\n",
       "Hyundai-H1               1\n",
       "Name: count, Length: 471, dtype: int64"
      ]
     },
     "execution_count": 81,
     "metadata": {},
     "output_type": "execute_result"
    }
   ],
   "source": [
    "data['brand_line'].value_counts()"
   ]
  },
  {
   "cell_type": "code",
   "execution_count": 82,
   "id": "b0de92ed",
   "metadata": {},
   "outputs": [
    {
     "data": {
      "text/html": [
       "<div>\n",
       "<style scoped>\n",
       "    .dataframe tbody tr th:only-of-type {\n",
       "        vertical-align: middle;\n",
       "    }\n",
       "\n",
       "    .dataframe tbody tr th {\n",
       "        vertical-align: top;\n",
       "    }\n",
       "\n",
       "    .dataframe thead th {\n",
       "        text-align: right;\n",
       "    }\n",
       "</style>\n",
       "<table border=\"1\" class=\"dataframe\">\n",
       "  <thead>\n",
       "    <tr style=\"text-align: right;\">\n",
       "      <th></th>\n",
       "      <th>product</th>\n",
       "      <th>price</th>\n",
       "      <th>link</th>\n",
       "      <th>years</th>\n",
       "      <th>kilometraje</th>\n",
       "      <th>_created</th>\n",
       "      <th>id</th>\n",
       "      <th>location_city</th>\n",
       "      <th>location_state</th>\n",
       "      <th>vehicle_brand</th>\n",
       "      <th>vehicle_line</th>\n",
       "      <th>brand_line</th>\n",
       "    </tr>\n",
       "  </thead>\n",
       "  <tbody>\n",
       "    <tr>\n",
       "      <th>1</th>\n",
       "      <td>Mazda 3 2.0 Grand Touring</td>\n",
       "      <td>64900000</td>\n",
       "      <td>https://carro.mercadolibre.com.co/MCO-22614289...</td>\n",
       "      <td>2016</td>\n",
       "      <td>59000</td>\n",
       "      <td>2024-03-14</td>\n",
       "      <td>2261428954</td>\n",
       "      <td>Envigado</td>\n",
       "      <td>Antioquia</td>\n",
       "      <td>Mazda</td>\n",
       "      <td>3</td>\n",
       "      <td>Mazda-3</td>\n",
       "    </tr>\n",
       "    <tr>\n",
       "      <th>88</th>\n",
       "      <td>Mazda 3 Touring</td>\n",
       "      <td>60900000</td>\n",
       "      <td>https://carro.mercadolibre.com.co/MCO-14152771...</td>\n",
       "      <td>2016</td>\n",
       "      <td>52566</td>\n",
       "      <td>2024-04-21</td>\n",
       "      <td>1415277115</td>\n",
       "      <td>Usaquén</td>\n",
       "      <td>Bogotá D.C.</td>\n",
       "      <td>Mazda</td>\n",
       "      <td>3</td>\n",
       "      <td>Mazda-3</td>\n",
       "    </tr>\n",
       "    <tr>\n",
       "      <th>124</th>\n",
       "      <td>Mazda 3 Touring 2.0</td>\n",
       "      <td>93990000</td>\n",
       "      <td>https://carro.mercadolibre.com.co/MCO-14389696...</td>\n",
       "      <td>2022</td>\n",
       "      <td>12000</td>\n",
       "      <td>2024-06-18</td>\n",
       "      <td>1438969695</td>\n",
       "      <td>Usaquén</td>\n",
       "      <td>Bogotá D.C.</td>\n",
       "      <td>Mazda</td>\n",
       "      <td>3</td>\n",
       "      <td>Mazda-3</td>\n",
       "    </tr>\n",
       "    <tr>\n",
       "      <th>187</th>\n",
       "      <td>Mazda 3 2.0 Prime</td>\n",
       "      <td>55000000</td>\n",
       "      <td>https://carro.mercadolibre.com.co/MCO-24199058...</td>\n",
       "      <td>2015</td>\n",
       "      <td>119000</td>\n",
       "      <td>2024-06-04</td>\n",
       "      <td>2419905816</td>\n",
       "      <td>Cajicá</td>\n",
       "      <td>Cundinamarca</td>\n",
       "      <td>Mazda</td>\n",
       "      <td>3</td>\n",
       "      <td>Mazda-3</td>\n",
       "    </tr>\n",
       "    <tr>\n",
       "      <th>237</th>\n",
       "      <td>Mazda 3 2.0 Touring</td>\n",
       "      <td>89000000</td>\n",
       "      <td>https://carro.mercadolibre.com.co/MCO-24890914...</td>\n",
       "      <td>2024</td>\n",
       "      <td>12000</td>\n",
       "      <td>2024-06-30</td>\n",
       "      <td>2489091496</td>\n",
       "      <td>Cota</td>\n",
       "      <td>Cundinamarca</td>\n",
       "      <td>Mazda</td>\n",
       "      <td>3</td>\n",
       "      <td>Mazda-3</td>\n",
       "    </tr>\n",
       "    <tr>\n",
       "      <th>...</th>\n",
       "      <td>...</td>\n",
       "      <td>...</td>\n",
       "      <td>...</td>\n",
       "      <td>...</td>\n",
       "      <td>...</td>\n",
       "      <td>...</td>\n",
       "      <td>...</td>\n",
       "      <td>...</td>\n",
       "      <td>...</td>\n",
       "      <td>...</td>\n",
       "      <td>...</td>\n",
       "      <td>...</td>\n",
       "    </tr>\n",
       "    <tr>\n",
       "      <th>7018</th>\n",
       "      <td>Mazda 3 2.0 Touring</td>\n",
       "      <td>77000000</td>\n",
       "      <td>https://carro.mercadolibre.com.co/MCO-14052473...</td>\n",
       "      <td>2019</td>\n",
       "      <td>55000</td>\n",
       "      <td>2024-03-21</td>\n",
       "      <td>1405247319</td>\n",
       "      <td>Usaquén</td>\n",
       "      <td>Bogotá D.C.</td>\n",
       "      <td>Mazda</td>\n",
       "      <td>3</td>\n",
       "      <td>Mazda-3</td>\n",
       "    </tr>\n",
       "    <tr>\n",
       "      <th>7086</th>\n",
       "      <td>Mazda 3 2.5 Grand Touring Lx</td>\n",
       "      <td>90000000</td>\n",
       "      <td>https://carro.mercadolibre.com.co/MCO-14005516...</td>\n",
       "      <td>2021</td>\n",
       "      <td>69335</td>\n",
       "      <td>2024-03-09</td>\n",
       "      <td>1400551689</td>\n",
       "      <td>Engativa</td>\n",
       "      <td>Bogotá D.C.</td>\n",
       "      <td>Mazda</td>\n",
       "      <td>3</td>\n",
       "      <td>Mazda-3</td>\n",
       "    </tr>\n",
       "    <tr>\n",
       "      <th>7133</th>\n",
       "      <td>Mazda 3 2.0 Sport Touring</td>\n",
       "      <td>54500000</td>\n",
       "      <td>https://carro.mercadolibre.com.co/MCO-14128522...</td>\n",
       "      <td>2015</td>\n",
       "      <td>86000</td>\n",
       "      <td>2024-04-14</td>\n",
       "      <td>1412852201</td>\n",
       "      <td>Fontibón</td>\n",
       "      <td>Bogotá D.C.</td>\n",
       "      <td>Mazda</td>\n",
       "      <td>3</td>\n",
       "      <td>Mazda-3</td>\n",
       "    </tr>\n",
       "    <tr>\n",
       "      <th>7163</th>\n",
       "      <td>Mazda 3 2.0 Sport Touring</td>\n",
       "      <td>65000000</td>\n",
       "      <td>https://carro.mercadolibre.com.co/MCO-24272204...</td>\n",
       "      <td>2019</td>\n",
       "      <td>66000</td>\n",
       "      <td>2024-06-05</td>\n",
       "      <td>2427220460</td>\n",
       "      <td>Fontibón</td>\n",
       "      <td>Bogotá D.C.</td>\n",
       "      <td>Mazda</td>\n",
       "      <td>3</td>\n",
       "      <td>Mazda-3</td>\n",
       "    </tr>\n",
       "    <tr>\n",
       "      <th>7194</th>\n",
       "      <td>Mazda 3 2.0 Touring</td>\n",
       "      <td>61000000</td>\n",
       "      <td>https://carro.mercadolibre.com.co/MCO-24214015...</td>\n",
       "      <td>2016</td>\n",
       "      <td>54000</td>\n",
       "      <td>2024-06-05</td>\n",
       "      <td>2421401554</td>\n",
       "      <td>Cajicá</td>\n",
       "      <td>Cundinamarca</td>\n",
       "      <td>Mazda</td>\n",
       "      <td>3</td>\n",
       "      <td>Mazda-3</td>\n",
       "    </tr>\n",
       "  </tbody>\n",
       "</table>\n",
       "<p>191 rows × 12 columns</p>\n",
       "</div>"
      ],
      "text/plain": [
       "                           product     price  \\\n",
       "1        Mazda 3 2.0 Grand Touring  64900000   \n",
       "88                 Mazda 3 Touring  60900000   \n",
       "124            Mazda 3 Touring 2.0  93990000   \n",
       "187              Mazda 3 2.0 Prime  55000000   \n",
       "237            Mazda 3 2.0 Touring  89000000   \n",
       "...                            ...       ...   \n",
       "7018           Mazda 3 2.0 Touring  77000000   \n",
       "7086  Mazda 3 2.5 Grand Touring Lx  90000000   \n",
       "7133     Mazda 3 2.0 Sport Touring  54500000   \n",
       "7163     Mazda 3 2.0 Sport Touring  65000000   \n",
       "7194           Mazda 3 2.0 Touring  61000000   \n",
       "\n",
       "                                                   link  years  kilometraje  \\\n",
       "1     https://carro.mercadolibre.com.co/MCO-22614289...   2016        59000   \n",
       "88    https://carro.mercadolibre.com.co/MCO-14152771...   2016        52566   \n",
       "124   https://carro.mercadolibre.com.co/MCO-14389696...   2022        12000   \n",
       "187   https://carro.mercadolibre.com.co/MCO-24199058...   2015       119000   \n",
       "237   https://carro.mercadolibre.com.co/MCO-24890914...   2024        12000   \n",
       "...                                                 ...    ...          ...   \n",
       "7018  https://carro.mercadolibre.com.co/MCO-14052473...   2019        55000   \n",
       "7086  https://carro.mercadolibre.com.co/MCO-14005516...   2021        69335   \n",
       "7133  https://carro.mercadolibre.com.co/MCO-14128522...   2015        86000   \n",
       "7163  https://carro.mercadolibre.com.co/MCO-24272204...   2019        66000   \n",
       "7194  https://carro.mercadolibre.com.co/MCO-24214015...   2016        54000   \n",
       "\n",
       "       _created          id location_city location_state vehicle_brand  \\\n",
       "1    2024-03-14  2261428954      Envigado      Antioquia         Mazda   \n",
       "88   2024-04-21  1415277115       Usaquén    Bogotá D.C.         Mazda   \n",
       "124  2024-06-18  1438969695       Usaquén    Bogotá D.C.         Mazda   \n",
       "187  2024-06-04  2419905816        Cajicá   Cundinamarca         Mazda   \n",
       "237  2024-06-30  2489091496          Cota   Cundinamarca         Mazda   \n",
       "...         ...         ...           ...            ...           ...   \n",
       "7018 2024-03-21  1405247319       Usaquén    Bogotá D.C.         Mazda   \n",
       "7086 2024-03-09  1400551689      Engativa    Bogotá D.C.         Mazda   \n",
       "7133 2024-04-14  1412852201      Fontibón    Bogotá D.C.         Mazda   \n",
       "7163 2024-06-05  2427220460      Fontibón    Bogotá D.C.         Mazda   \n",
       "7194 2024-06-05  2421401554        Cajicá   Cundinamarca         Mazda   \n",
       "\n",
       "     vehicle_line brand_line  \n",
       "1               3    Mazda-3  \n",
       "88              3    Mazda-3  \n",
       "124             3    Mazda-3  \n",
       "187             3    Mazda-3  \n",
       "237             3    Mazda-3  \n",
       "...           ...        ...  \n",
       "7018            3    Mazda-3  \n",
       "7086            3    Mazda-3  \n",
       "7133            3    Mazda-3  \n",
       "7163            3    Mazda-3  \n",
       "7194            3    Mazda-3  \n",
       "\n",
       "[191 rows x 12 columns]"
      ]
     },
     "execution_count": 82,
     "metadata": {},
     "output_type": "execute_result"
    }
   ],
   "source": [
    "data[data['brand_line'] == \"Mazda-3\"]"
   ]
  },
  {
   "cell_type": "code",
   "execution_count": 90,
   "id": "f67e40e2",
   "metadata": {},
   "outputs": [
    {
     "data": {
      "image/png": "[encoded data removed]",
      "text/plain": [
       "<Figure size 640x480 with 1 Axes>"
      ]
     },
     "metadata": {},
     "output_type": "display_data"
    }
   ],
   "source": [
    "mazda_3 = data[data['brand_line'] == \"Mazda-3\"]\n",
    "plt.scatter(mazda_3['kilometraje'], mazda_3['price'])\n",
    "plt.xlabel('Kilometraje')\n",
    "plt.ylabel('Precio')\n",
    "plt.title('Relación entre kilometraje y precio para Mazda 3')\n",
    "plt.show()\n",
    "\n",
    "\n"
   ]
  },
  {
   "cell_type": "code",
   "execution_count": 94,
   "id": "2e284f07",
   "metadata": {},
   "outputs": [
    {
     "data": {
      "text/plain": [
       "<Axes: xlabel='years'>"
      ]
     },
     "execution_count": 94,
     "metadata": {},
     "output_type": "execute_result"
    },
    {
     "data": {
      "image/png": "[encoded data removed]",
      "text/plain": [
       "<Figure size 640x480 with 1 Axes>"
      ]
     },
     "metadata": {},
     "output_type": "display_data"
    }
   ],
   "source": [
    "mazda_3.groupby(\"years\")['price'].mean().sort_index(ascending=False).plot()"
   ]
  },
  {
   "cell_type": "code",
   "execution_count": 95,
   "id": "b4ef761b",
   "metadata": {},
   "outputs": [
    {
     "data": {
      "application/vnd.plotly.v1+json": {
       "config": {
        "plotlyServerURL": "https://plot.ly"
       },
       "data": [
        {
         "hovertemplate": "Kilometraje=%{x}<br>Precio (COP)=%{y}<extra></extra>",
         "legendgroup": "",
         "marker": {
          "color": "steelblue",
          "opacity": 0.7,
          "size": 8,
          "symbol": "circle"
         },
         "mode": "markers",
         "name": "",
         "orientation": "v",
         "showlegend": false,
         "type": "scatter",
         "x": {
          "bdata": "eOYAAFbNAADgLgAA2NABAOAuAABWWAEAoIwAAJDiAABYFQEAEd8AAOl+AACwMAEAhOQAAEAZAQAcxQAA3LQAACdZAgBIzwEAKJoBAECWAQBGwgEACM8AAJx8AAD3cQEAsLMAAJD7AAAwbwEACEwBAMSGAAAMxgAA6uwAAIDUAAAynwEAeGMBAJCXAACvbgAA8E8BAOCSAAAEpgAAMPIAAGhCAACYtwAAMYYAAIA4AQBhIQAAYSEAAFw+AQCTsgAAibwAACRrAADwuQAAGPYAAMRXAQAQngEA59sAAADhAAAoHQEA9h4AAJfzAQDwSQIA6IAAAB7DAACEVAAAvjQCAKCMAACQXwEA8FUAAIiEAgAOKAEAYOQBAH0IAQB07wAA8MMAADVIAgBFgwAAclsAALRZAQAooAAAmDQBAA3fAQAYeQAAuIgAAIARAABI6AEAWBUBANhTAQDHkAAAWRcAAJNhAAA7ZQEAUMMAANjWAABoZQEA6P0AAMgsAQCOrQAA+KcAAEhxAADsqQAA41oAAIhFAADA2gAAIDUAAEi8AABI7gAA2AgBAHJCAQBovwAAwF0AAJBlAACXogAAxIYAAATYAABI7gAAxLgAAKFDAQDFWgAAczcBAI+IAABK1QAAUNcAAECDAABklgAAdE8AAApQAAA4RAEAYOoAAPICAQAkdwAAT+wAAGuXAADISwAA2DcBAKCMAAAzugEAwFcBAAdfAAAooAAAAHcBAMSGAABI6AEA5H8BANjWAADgpQEAECcAAOCSAACGKgAAAHECAHsKAgBAGQEAgDgBAHCUAAAQcgAAnjkAAOCrAAAWhAEAaaUAAOwNAQCcGAAAnPkAAPAEAQBnfgAA6IAAAMQ1AQBYmAAAyK8AAEpoAAAYeQAAiA0BAJixAQD0eAEAgAwAABTHAQDQhAAAADIAAOQ4AQCoEAEA9PsAAAkMAQDIyAAAOPkAALBoAADQhAAAy1YBAJg0AQC0LQAA2NYAANcOAQDwTwEA0AEBAPDSAAA=",
          "dtype": "i4"
         },
         "xaxis": "x",
         "y": {
          "bdata": "oEveA6BCoQNwLJoFwDtHA0AITgUAokoEAKJKBACiSgRA0t8DgPD6AgCQ0APAXzsE4ABDBMBW/gOAZLIEALTEBOC4WgJAkzQCgNVDAoDDyQGgJogB4LHhBEDbHATAeZADQORZBEDJogMAP6sBwPNeAQCiSgTAXzsEQNscBMBoeATg0xEDoHgPBb9fOwQAtMQEwDtHA4BKXQVAM7sDQNscBIA44wSAOOMEQAhOBYD5NwOgBhwGoAYcBoACdQOAC7IDQP8QBWBRtwXAXzsEgB0sBACQ0AOgZNEBwFb+A4AmaQTAVv4DwJ7mBSCsCANApa4CgEEgBWBHGAQA2LgFwMePASAhIgZA0t8DwGh4BAA2bgEgx78DwFb+AyDQ/APAXzsE4O7IA4C6jAFgLcMEQBrIBYALsgPAaHgEYGqqAwBI6AFA/xAFgC+mBGDNSQbgX1oBQPbTBAB1GQNgLcMEACh8BsBxtQSgrLkDwGh4BIALsgPATcED4JYqBKBCoQNgNgAFIND8A8DC2gbATcEDwMLaBsBoeATglioEQP8QBWA9eQJgG0kE4I3tA0CK9wEgMdgDgDjjBEARiwVAyaID4JYqBIA44wTAcbUEgAJ1AwCHkwNgLcMEgCZpBAANxQXAlakFgB0sBCDRXgXgw1sFQMmiA0D/EAVA0t8DgC+mBEAQKQRA0t8DIDoVBEDS3wOAU5oFQNLfA8BfOwSAAnUDYFgwAyBDUgRAPrwGwESEAwCiSgSgFXACQLcoA0AQKQSAuowBgFOaBSBwgwWAZRQGwDrlASC9IALg9wUE4O7IAyAznAag0K0EYKlVBcBW/gOA3oACAJDQA8DRLgOAd44GYIVhBCDQ/APAlakF4AmABIALsgNAGsgFQNLfA6ClQAYAmQ0EAJkNBKBtDgIgKJsDwLBgBgBRJQLgw1sFAPNvBmBqqgNgweYBwAedBMBoeAQAxj4F4ABDBP+zxASAC7IDQNLfAyDHvwOAkkUHQO2WBIBKXQWgmj8DQNLfA0DJogM=",
          "dtype": "i4"
         },
         "yaxis": "y"
        }
       ],
       "layout": {
        "legend": {
         "tracegroupgap": 0
        },
        "template": {
         "data": {
          "bar": [
           {
            "error_x": {
             "color": "#2a3f5f"
            },
            "error_y": {
             "color": "#2a3f5f"
            },
            "marker": {
             "line": {
              "color": "white",
              "width": 0.5
             },
             "pattern": {
              "fillmode": "overlay",
              "size": 10,
              "solidity": 0.2
             }
            },
            "type": "bar"
           }
          ],
          "barpolar": [
           {
            "marker": {
             "line": {
              "color": "white",
              "width": 0.5
             },
             "pattern": {
              "fillmode": "overlay",
              "size": 10,
              "solidity": 0.2
             }
            },
            "type": "barpolar"
           }
          ],
          "carpet": [
           {
            "aaxis": {
             "endlinecolor": "#2a3f5f",
             "gridcolor": "#C8D4E3",
             "linecolor": "#C8D4E3",
             "minorgridcolor": "#C8D4E3",
             "startlinecolor": "#2a3f5f"
            },
            "baxis": {
             "endlinecolor": "#2a3f5f",
             "gridcolor": "#C8D4E3",
             "linecolor": "#C8D4E3",
             "minorgridcolor": "#C8D4E3",
             "startlinecolor": "#2a3f5f"
            },
            "type": "carpet"
           }
          ],
          "choropleth": [
           {
            "colorbar": {
             "outlinewidth": 0,
             "ticks": ""
            },
            "type": "choropleth"
           }
          ],
          "contour": [
           {
            "colorbar": {
             "outlinewidth": 0,
             "ticks": ""
            },
            "colorscale": [
             [
              0,
              "#0d0887"
             ],
             [
              0.1111111111111111,
              "#46039f"
             ],
             [
              0.2222222222222222,
              "#7201a8"
             ],
             [
              0.3333333333333333,
              "#9c179e"
             ],
             [
              0.4444444444444444,
              "#bd3786"
             ],
             [
              0.5555555555555556,
              "#d8576b"
             ],
             [
              0.6666666666666666,
              "#ed7953"
             ],
             [
              0.7777777777777778,
              "#fb9f3a"
             ],
             [
              0.8888888888888888,
              "#fdca26"
             ],
             [
              1,
              "#f0f921"
             ]
            ],
            "type": "contour"
           }
          ],
          "contourcarpet": [
           {
            "colorbar": {
             "outlinewidth": 0,
             "ticks": ""
            },
            "type": "contourcarpet"
           }
          ],
          "heatmap": [
           {
            "colorbar": {
             "outlinewidth": 0,
             "ticks": ""
            },
            "colorscale": [
             [
              0,
              "#0d0887"
             ],
             [
              0.1111111111111111,
              "#46039f"
             ],
             [
              0.2222222222222222,
              "#7201a8"
             ],
             [
              0.3333333333333333,
              "#9c179e"
             ],
             [
              0.4444444444444444,
              "#bd3786"
             ],
             [
              0.5555555555555556,
              "#d8576b"
             ],
             [
              0.6666666666666666,
              "#ed7953"
             ],
             [
              0.7777777777777778,
              "#fb9f3a"
             ],
             [
              0.8888888888888888,
              "#fdca26"
             ],
             [
              1,
              "#f0f921"
             ]
            ],
            "type": "heatmap"
           }
          ],
          "histogram": [
           {
            "marker": {
             "pattern": {
              "fillmode": "overlay",
              "size": 10,
              "solidity": 0.2
             }
            },
            "type": "histogram"
           }
          ],
          "histogram2d": [
           {
            "colorbar": {
             "outlinewidth": 0,
             "ticks": ""
            },
            "colorscale": [
             [
              0,
              "#0d0887"
             ],
             [
              0.1111111111111111,
              "#46039f"
             ],
             [
              0.2222222222222222,
              "#7201a8"
             ],
             [
              0.3333333333333333,
              "#9c179e"
             ],
             [
              0.4444444444444444,
              "#bd3786"
             ],
             [
              0.5555555555555556,
              "#d8576b"
             ],
             [
              0.6666666666666666,
              "#ed7953"
             ],
             [
              0.7777777777777778,
              "#fb9f3a"
             ],
             [
              0.8888888888888888,
              "#fdca26"
             ],
             [
              1,
              "#f0f921"
             ]
            ],
            "type": "histogram2d"
           }
          ],
          "histogram2dcontour": [
           {
            "colorbar": {
             "outlinewidth": 0,
             "ticks": ""
            },
            "colorscale": [
             [
              0,
              "#0d0887"
             ],
             [
              0.1111111111111111,
              "#46039f"
             ],
             [
              0.2222222222222222,
              "#7201a8"
             ],
             [
              0.3333333333333333,
              "#9c179e"
             ],
             [
              0.4444444444444444,
              "#bd3786"
             ],
             [
              0.5555555555555556,
              "#d8576b"
             ],
             [
              0.6666666666666666,
              "#ed7953"
             ],
             [
              0.7777777777777778,
              "#fb9f3a"
             ],
             [
              0.8888888888888888,
              "#fdca26"
             ],
             [
              1,
              "#f0f921"
             ]
            ],
            "type": "histogram2dcontour"
           }
          ],
          "mesh3d": [
           {
            "colorbar": {
             "outlinewidth": 0,
             "ticks": ""
            },
            "type": "mesh3d"
           }
          ],
          "parcoords": [
           {
            "line": {
             "colorbar": {
              "outlinewidth": 0,
              "ticks": ""
             }
            },
            "type": "parcoords"
           }
          ],
          "pie": [
           {
            "automargin": true,
            "type": "pie"
           }
          ],
          "scatter": [
           {
            "fillpattern": {
             "fillmode": "overlay",
             "size": 10,
             "solidity": 0.2
            },
            "type": "scatter"
           }
          ],
          "scatter3d": [
           {
            "line": {
             "colorbar": {
              "outlinewidth": 0,
              "ticks": ""
             }
            },
            "marker": {
             "colorbar": {
              "outlinewidth": 0,
              "ticks": ""
             }
            },
            "type": "scatter3d"
           }
          ],
          "scattercarpet": [
           {
            "marker": {
             "colorbar": {
              "outlinewidth": 0,
              "ticks": ""
             }
            },
            "type": "scattercarpet"
           }
          ],
          "scattergeo": [
           {
            "marker": {
             "colorbar": {
              "outlinewidth": 0,
              "ticks": ""
             }
            },
            "type": "scattergeo"
           }
          ],
          "scattergl": [
           {
            "marker": {
             "colorbar": {
              "outlinewidth": 0,
              "ticks": ""
             }
            },
            "type": "scattergl"
           }
          ],
          "scattermap": [
           {
            "marker": {
             "colorbar": {
              "outlinewidth": 0,
              "ticks": ""
             }
            },
            "type": "scattermap"
           }
          ],
          "scattermapbox": [
           {
            "marker": {
             "colorbar": {
              "outlinewidth": 0,
              "ticks": ""
             }
            },
            "type": "scattermapbox"
           }
          ],
          "scatterpolar": [
           {
            "marker": {
             "colorbar": {
              "outlinewidth": 0,
              "ticks": ""
             }
            },
            "type": "scatterpolar"
           }
          ],
          "scatterpolargl": [
           {
            "marker": {
             "colorbar": {
              "outlinewidth": 0,
              "ticks": ""
             }
            },
            "type": "scatterpolargl"
           }
          ],
          "scatterternary": [
           {
            "marker": {
             "colorbar": {
              "outlinewidth": 0,
              "ticks": ""
             }
            },
            "type": "scatterternary"
           }
          ],
          "surface": [
           {
            "colorbar": {
             "outlinewidth": 0,
             "ticks": ""
            },
            "colorscale": [
             [
              0,
              "#0d0887"
             ],
             [
              0.1111111111111111,
              "#46039f"
             ],
             [
              0.2222222222222222,
              "#7201a8"
             ],
             [
              0.3333333333333333,
              "#9c179e"
             ],
             [
              0.4444444444444444,
              "#bd3786"
             ],
             [
              0.5555555555555556,
              "#d8576b"
             ],
             [
              0.6666666666666666,
              "#ed7953"
             ],
             [
              0.7777777777777778,
              "#fb9f3a"
             ],
             [
              0.8888888888888888,
              "#fdca26"
             ],
             [
              1,
              "#f0f921"
             ]
            ],
            "type": "surface"
           }
          ],
          "table": [
           {
            "cells": {
             "fill": {
              "color": "#EBF0F8"
             },
             "line": {
              "color": "white"
             }
            },
            "header": {
             "fill": {
              "color": "#C8D4E3"
             },
             "line": {
              "color": "white"
             }
            },
            "type": "table"
           }
          ]
         },
         "layout": {
          "annotationdefaults": {
           "arrowcolor": "#2a3f5f",
           "arrowhead": 0,
           "arrowwidth": 1
          },
          "autotypenumbers": "strict",
          "coloraxis": {
           "colorbar": {
            "outlinewidth": 0,
            "ticks": ""
           }
          },
          "colorscale": {
           "diverging": [
            [
             0,
             "#8e0152"
            ],
            [
             0.1,
             "#c51b7d"
            ],
            [
             0.2,
             "#de77ae"
            ],
            [
             0.3,
             "#f1b6da"
            ],
            [
             0.4,
             "#fde0ef"
            ],
            [
             0.5,
             "#f7f7f7"
            ],
            [
             0.6,
             "#e6f5d0"
            ],
            [
             0.7,
             "#b8e186"
            ],
            [
             0.8,
             "#7fbc41"
            ],
            [
             0.9,
             "#4d9221"
            ],
            [
             1,
             "#276419"
            ]
           ],
           "sequential": [
            [
             0,
             "#0d0887"
            ],
            [
             0.1111111111111111,
             "#46039f"
            ],
            [
             0.2222222222222222,
             "#7201a8"
            ],
            [
             0.3333333333333333,
             "#9c179e"
            ],
            [
             0.4444444444444444,
             "#bd3786"
            ],
            [
             0.5555555555555556,
             "#d8576b"
            ],
            [
             0.6666666666666666,
             "#ed7953"
            ],
            [
             0.7777777777777778,
             "#fb9f3a"
            ],
            [
             0.8888888888888888,
             "#fdca26"
            ],
            [
             1,
             "#f0f921"
            ]
           ],
           "sequentialminus": [
            [
             0,
             "#0d0887"
            ],
            [
             0.1111111111111111,
             "#46039f"
            ],
            [
             0.2222222222222222,
             "#7201a8"
            ],
            [
             0.3333333333333333,
             "#9c179e"
            ],
            [
             0.4444444444444444,
             "#bd3786"
            ],
            [
             0.5555555555555556,
             "#d8576b"
            ],
            [
             0.6666666666666666,
             "#ed7953"
            ],
            [
             0.7777777777777778,
             "#fb9f3a"
            ],
            [
             0.8888888888888888,
             "#fdca26"
            ],
            [
             1,
             "#f0f921"
            ]
           ]
          },
          "colorway": [
           "#636efa",
           "#EF553B",
           "#00cc96",
           "#ab63fa",
           "#FFA15A",
           "#19d3f3",
           "#FF6692",
           "#B6E880",
           "#FF97FF",
           "#FECB52"
          ],
          "font": {
           "color": "#2a3f5f"
          },
          "geo": {
           "bgcolor": "white",
           "lakecolor": "white",
           "landcolor": "white",
           "showlakes": true,
           "showland": true,
           "subunitcolor": "#C8D4E3"
          },
          "hoverlabel": {
           "align": "left"
          },
          "hovermode": "closest",
          "mapbox": {
           "style": "light"
          },
          "paper_bgcolor": "white",
          "plot_bgcolor": "white",
          "polar": {
           "angularaxis": {
            "gridcolor": "#EBF0F8",
            "linecolor": "#EBF0F8",
            "ticks": ""
           },
           "bgcolor": "white",
           "radialaxis": {
            "gridcolor": "#EBF0F8",
            "linecolor": "#EBF0F8",
            "ticks": ""
           }
          },
          "scene": {
           "xaxis": {
            "backgroundcolor": "white",
            "gridcolor": "#DFE8F3",
            "gridwidth": 2,
            "linecolor": "#EBF0F8",
            "showbackground": true,
            "ticks": "",
            "zerolinecolor": "#EBF0F8"
           },
           "yaxis": {
            "backgroundcolor": "white",
            "gridcolor": "#DFE8F3",
            "gridwidth": 2,
            "linecolor": "#EBF0F8",
            "showbackground": true,
            "ticks": "",
            "zerolinecolor": "#EBF0F8"
           },
           "zaxis": {
            "backgroundcolor": "white",
            "gridcolor": "#DFE8F3",
            "gridwidth": 2,
            "linecolor": "#EBF0F8",
            "showbackground": true,
            "ticks": "",
            "zerolinecolor": "#EBF0F8"
           }
          },
          "shapedefaults": {
           "line": {
            "color": "#2a3f5f"
           }
          },
          "ternary": {
           "aaxis": {
            "gridcolor": "#DFE8F3",
            "linecolor": "#A2B1C6",
            "ticks": ""
           },
           "baxis": {
            "gridcolor": "#DFE8F3",
            "linecolor": "#A2B1C6",
            "ticks": ""
           },
           "bgcolor": "white",
           "caxis": {
            "gridcolor": "#DFE8F3",
            "linecolor": "#A2B1C6",
            "ticks": ""
           }
          },
          "title": {
           "x": 0.05
          },
          "xaxis": {
           "automargin": true,
           "gridcolor": "#EBF0F8",
           "linecolor": "#EBF0F8",
           "ticks": "",
           "title": {
            "standoff": 15
           },
           "zerolinecolor": "#EBF0F8",
           "zerolinewidth": 2
          },
          "yaxis": {
           "automargin": true,
           "gridcolor": "#EBF0F8",
           "linecolor": "#EBF0F8",
           "ticks": "",
           "title": {
            "standoff": 15
           },
           "zerolinecolor": "#EBF0F8",
           "zerolinewidth": 2
          }
         }
        },
        "title": {
         "text": "Relación entre kilometraje y precio para Mazda 3"
        },
        "xaxis": {
         "anchor": "y",
         "domain": [
          0,
          1
         ],
         "title": {
          "text": "Kilometraje"
         }
        },
        "yaxis": {
         "anchor": "x",
         "domain": [
          0,
          1
         ],
         "separatethousands": true,
         "showgrid": true,
         "tickprefix": "$",
         "title": {
          "text": "Precio (COP)"
         }
        }
       }
      }
     },
     "metadata": {},
     "output_type": "display_data"
    }
   ],
   "source": [
    "# Crear el gráfico interactivo\n",
    "fig = px.scatter(\n",
    "    mazda_3,\n",
    "    x=\"kilometraje\",\n",
    "    y=\"price\",\n",
    "    labels={\n",
    "        \"kilometraje\": \"Kilometraje\",\n",
    "        \"price\": \"Precio (COP)\"\n",
    "    },\n",
    "    title=\"Relación entre kilometraje y precio para Mazda 3\",\n",
    ")\n",
    "\n",
    "# Ajustar el formato del eje Y (pesos colombianos)\n",
    "fig.update_yaxes(\n",
    "    tickprefix=\"$\",\n",
    "    separatethousands=True,\n",
    "    showgrid=True\n",
    ")\n",
    "\n",
    "# Personalizar el diseño\n",
    "fig.update_traces(\n",
    "    marker=dict(\n",
    "        color=\"steelblue\",\n",
    "        size=8,\n",
    "        opacity=0.7\n",
    "    )\n",
    ")\n",
    "fig.update_layout(\n",
    "    template=\"plotly_white\"\n",
    ")\n",
    "\n",
    "fig.show()"
   ]
  },
  {
   "cell_type": "code",
   "execution_count": 96,
   "id": "d43272f3",
   "metadata": {},
   "outputs": [
    {
     "data": {
      "text/html": [
       "<div>\n",
       "<style scoped>\n",
       "    .dataframe tbody tr th:only-of-type {\n",
       "        vertical-align: middle;\n",
       "    }\n",
       "\n",
       "    .dataframe tbody tr th {\n",
       "        vertical-align: top;\n",
       "    }\n",
       "\n",
       "    .dataframe thead th {\n",
       "        text-align: right;\n",
       "    }\n",
       "</style>\n",
       "<table border=\"1\" class=\"dataframe\">\n",
       "  <thead>\n",
       "    <tr style=\"text-align: right;\">\n",
       "      <th></th>\n",
       "      <th>product</th>\n",
       "      <th>price</th>\n",
       "      <th>link</th>\n",
       "      <th>years</th>\n",
       "      <th>kilometraje</th>\n",
       "      <th>_created</th>\n",
       "      <th>id</th>\n",
       "      <th>location_city</th>\n",
       "      <th>location_state</th>\n",
       "      <th>vehicle_brand</th>\n",
       "      <th>vehicle_line</th>\n",
       "      <th>brand_line</th>\n",
       "    </tr>\n",
       "  </thead>\n",
       "  <tbody>\n",
       "    <tr>\n",
       "      <th>0</th>\n",
       "      <td>Byd Song Plus Dm-i 1.5 Hibrida Enchufable</td>\n",
       "      <td>183900000</td>\n",
       "      <td>https://carro.mercadolibre.com.co/MCO-14023610...</td>\n",
       "      <td>2024</td>\n",
       "      <td>5800</td>\n",
       "      <td>2024-03-14</td>\n",
       "      <td>1402361017</td>\n",
       "      <td>Suba</td>\n",
       "      <td>Bogotá D.C.</td>\n",
       "      <td>Byd</td>\n",
       "      <td>Song</td>\n",
       "      <td>Byd-Song</td>\n",
       "    </tr>\n",
       "    <tr>\n",
       "      <th>1</th>\n",
       "      <td>Mazda 3 2.0 Grand Touring</td>\n",
       "      <td>64900000</td>\n",
       "      <td>https://carro.mercadolibre.com.co/MCO-22614289...</td>\n",
       "      <td>2016</td>\n",
       "      <td>59000</td>\n",
       "      <td>2024-03-14</td>\n",
       "      <td>2261428954</td>\n",
       "      <td>Envigado</td>\n",
       "      <td>Antioquia</td>\n",
       "      <td>Mazda</td>\n",
       "      <td>3</td>\n",
       "      <td>Mazda-3</td>\n",
       "    </tr>\n",
       "    <tr>\n",
       "      <th>2</th>\n",
       "      <td>Chevrolet Tracker 1.8 Lt</td>\n",
       "      <td>72000000</td>\n",
       "      <td>https://carro.mercadolibre.com.co/MCO-14023596...</td>\n",
       "      <td>2018</td>\n",
       "      <td>47000</td>\n",
       "      <td>2024-03-14</td>\n",
       "      <td>1402359669</td>\n",
       "      <td>Usaquén</td>\n",
       "      <td>Bogotá D.C.</td>\n",
       "      <td>Chevrolet</td>\n",
       "      <td>Tracker</td>\n",
       "      <td>Chevrolet-Tracker</td>\n",
       "    </tr>\n",
       "    <tr>\n",
       "      <th>3</th>\n",
       "      <td>Kia Picanto 1.2 Vibrant</td>\n",
       "      <td>59500000</td>\n",
       "      <td>https://carro.mercadolibre.com.co/MCO-22614018...</td>\n",
       "      <td>2024</td>\n",
       "      <td>3600</td>\n",
       "      <td>2024-03-14</td>\n",
       "      <td>2261401840</td>\n",
       "      <td>Suba</td>\n",
       "      <td>Bogotá D.C.</td>\n",
       "      <td>Kia</td>\n",
       "      <td>Picanto</td>\n",
       "      <td>Kia-Picanto</td>\n",
       "    </tr>\n",
       "    <tr>\n",
       "      <th>4</th>\n",
       "      <td>Nissan X-trail 2.5 Kapital</td>\n",
       "      <td>63000000</td>\n",
       "      <td>https://carro.mercadolibre.com.co/MCO-22614783...</td>\n",
       "      <td>2015</td>\n",
       "      <td>81000</td>\n",
       "      <td>2024-03-14</td>\n",
       "      <td>2261478326</td>\n",
       "      <td>Kennedy</td>\n",
       "      <td>Bogotá D.C.</td>\n",
       "      <td>Nissan</td>\n",
       "      <td>X-trail</td>\n",
       "      <td>Nissan-X-trail</td>\n",
       "    </tr>\n",
       "    <tr>\n",
       "      <th>...</th>\n",
       "      <td>...</td>\n",
       "      <td>...</td>\n",
       "      <td>...</td>\n",
       "      <td>...</td>\n",
       "      <td>...</td>\n",
       "      <td>...</td>\n",
       "      <td>...</td>\n",
       "      <td>...</td>\n",
       "      <td>...</td>\n",
       "      <td>...</td>\n",
       "      <td>...</td>\n",
       "      <td>...</td>\n",
       "    </tr>\n",
       "    <tr>\n",
       "      <th>7245</th>\n",
       "      <td>Renault Duster 2.0 Dynamique 4x2</td>\n",
       "      <td>54000000</td>\n",
       "      <td>https://carro.mercadolibre.com.co/MCO-14353772...</td>\n",
       "      <td>2016</td>\n",
       "      <td>88062</td>\n",
       "      <td>2024-06-11</td>\n",
       "      <td>1435377249</td>\n",
       "      <td>Suba</td>\n",
       "      <td>Bogotá D.C.</td>\n",
       "      <td>Renault</td>\n",
       "      <td>Duster</td>\n",
       "      <td>Renault-Duster</td>\n",
       "    </tr>\n",
       "    <tr>\n",
       "      <th>7246</th>\n",
       "      <td>Toyota Corolla Cross 1.8 At Hibrida 4x2</td>\n",
       "      <td>127000000</td>\n",
       "      <td>https://carro.mercadolibre.com.co/MCO-14354156...</td>\n",
       "      <td>2022</td>\n",
       "      <td>33800</td>\n",
       "      <td>2024-06-11</td>\n",
       "      <td>1435415665</td>\n",
       "      <td>Mosquera</td>\n",
       "      <td>Cundinamarca</td>\n",
       "      <td>Toyota</td>\n",
       "      <td>Corolla</td>\n",
       "      <td>Toyota-Corolla</td>\n",
       "    </tr>\n",
       "    <tr>\n",
       "      <th>7247</th>\n",
       "      <td>Honda Civic 1.8 Lx</td>\n",
       "      <td>26000000</td>\n",
       "      <td>https://carro.mercadolibre.com.co/MCO-14353251...</td>\n",
       "      <td>2006</td>\n",
       "      <td>150000</td>\n",
       "      <td>2024-06-11</td>\n",
       "      <td>1435325157</td>\n",
       "      <td>Usaquén</td>\n",
       "      <td>Bogotá D.C.</td>\n",
       "      <td>Honda</td>\n",
       "      <td>Civic</td>\n",
       "      <td>Honda-Civic</td>\n",
       "    </tr>\n",
       "    <tr>\n",
       "      <th>7248</th>\n",
       "      <td>Kia Cerato Forte 1.6 Sx</td>\n",
       "      <td>40000000</td>\n",
       "      <td>https://carro.mercadolibre.com.co/MCO-14353369...</td>\n",
       "      <td>2012</td>\n",
       "      <td>75000</td>\n",
       "      <td>2024-06-11</td>\n",
       "      <td>1435336985</td>\n",
       "      <td>Bosa</td>\n",
       "      <td>Bogotá D.C.</td>\n",
       "      <td>Kia</td>\n",
       "      <td>Cerato</td>\n",
       "      <td>Kia-Cerato</td>\n",
       "    </tr>\n",
       "    <tr>\n",
       "      <th>7249</th>\n",
       "      <td>Nissan Np300 Frontier 2.4l Mt 4x2</td>\n",
       "      <td>57000000</td>\n",
       "      <td>https://carro.mercadolibre.com.co/MCO-14353112...</td>\n",
       "      <td>2011</td>\n",
       "      <td>202000</td>\n",
       "      <td>2024-06-11</td>\n",
       "      <td>1435311215</td>\n",
       "      <td>Engativa</td>\n",
       "      <td>Bogotá D.C.</td>\n",
       "      <td>Nissan</td>\n",
       "      <td>Np300</td>\n",
       "      <td>Nissan-Np300</td>\n",
       "    </tr>\n",
       "  </tbody>\n",
       "</table>\n",
       "<p>7250 rows × 12 columns</p>\n",
       "</div>"
      ],
      "text/plain": [
       "                                        product      price  \\\n",
       "0     Byd Song Plus Dm-i 1.5 Hibrida Enchufable  183900000   \n",
       "1                     Mazda 3 2.0 Grand Touring   64900000   \n",
       "2                      Chevrolet Tracker 1.8 Lt   72000000   \n",
       "3                       Kia Picanto 1.2 Vibrant   59500000   \n",
       "4                    Nissan X-trail 2.5 Kapital   63000000   \n",
       "...                                         ...        ...   \n",
       "7245           Renault Duster 2.0 Dynamique 4x2   54000000   \n",
       "7246    Toyota Corolla Cross 1.8 At Hibrida 4x2  127000000   \n",
       "7247                         Honda Civic 1.8 Lx   26000000   \n",
       "7248                    Kia Cerato Forte 1.6 Sx   40000000   \n",
       "7249          Nissan Np300 Frontier 2.4l Mt 4x2   57000000   \n",
       "\n",
       "                                                   link  years  kilometraje  \\\n",
       "0     https://carro.mercadolibre.com.co/MCO-14023610...   2024         5800   \n",
       "1     https://carro.mercadolibre.com.co/MCO-22614289...   2016        59000   \n",
       "2     https://carro.mercadolibre.com.co/MCO-14023596...   2018        47000   \n",
       "3     https://carro.mercadolibre.com.co/MCO-22614018...   2024         3600   \n",
       "4     https://carro.mercadolibre.com.co/MCO-22614783...   2015        81000   \n",
       "...                                                 ...    ...          ...   \n",
       "7245  https://carro.mercadolibre.com.co/MCO-14353772...   2016        88062   \n",
       "7246  https://carro.mercadolibre.com.co/MCO-14354156...   2022        33800   \n",
       "7247  https://carro.mercadolibre.com.co/MCO-14353251...   2006       150000   \n",
       "7248  https://carro.mercadolibre.com.co/MCO-14353369...   2012        75000   \n",
       "7249  https://carro.mercadolibre.com.co/MCO-14353112...   2011       202000   \n",
       "\n",
       "       _created          id location_city location_state vehicle_brand  \\\n",
       "0    2024-03-14  1402361017          Suba    Bogotá D.C.           Byd   \n",
       "1    2024-03-14  2261428954      Envigado      Antioquia         Mazda   \n",
       "2    2024-03-14  1402359669       Usaquén    Bogotá D.C.     Chevrolet   \n",
       "3    2024-03-14  2261401840          Suba    Bogotá D.C.           Kia   \n",
       "4    2024-03-14  2261478326       Kennedy    Bogotá D.C.        Nissan   \n",
       "...         ...         ...           ...            ...           ...   \n",
       "7245 2024-06-11  1435377249          Suba    Bogotá D.C.       Renault   \n",
       "7246 2024-06-11  1435415665      Mosquera   Cundinamarca        Toyota   \n",
       "7247 2024-06-11  1435325157       Usaquén    Bogotá D.C.         Honda   \n",
       "7248 2024-06-11  1435336985          Bosa    Bogotá D.C.           Kia   \n",
       "7249 2024-06-11  1435311215      Engativa    Bogotá D.C.        Nissan   \n",
       "\n",
       "     vehicle_line         brand_line  \n",
       "0            Song           Byd-Song  \n",
       "1               3            Mazda-3  \n",
       "2         Tracker  Chevrolet-Tracker  \n",
       "3         Picanto        Kia-Picanto  \n",
       "4         X-trail     Nissan-X-trail  \n",
       "...           ...                ...  \n",
       "7245       Duster     Renault-Duster  \n",
       "7246      Corolla     Toyota-Corolla  \n",
       "7247        Civic        Honda-Civic  \n",
       "7248       Cerato         Kia-Cerato  \n",
       "7249        Np300       Nissan-Np300  \n",
       "\n",
       "[7250 rows x 12 columns]"
      ]
     },
     "execution_count": 96,
     "metadata": {},
     "output_type": "execute_result"
    }
   ],
   "source": [
    "data"
   ]
  },
  {
   "cell_type": "code",
   "execution_count": null,
   "id": "26f760a6",
   "metadata": {},
   "outputs": [],
   "source": [
    "## bronze --> gold"
   ]
  }
 ],
 "metadata": {
  "kernelspec": {
   "display_name": ".venv",
   "language": "python",
   "name": "python3"
  },
  "language_info": {
   "codemirror_mode": {
    "name": "ipython",
    "version": 3
   },
   "file_extension": ".py",
   "mimetype": "text/x-python",
   "name": "python",
   "nbconvert_exporter": "python",
   "pygments_lexer": "ipython3",
   "version": "3.11.5"
  }
 },
 "nbformat": 4,
 "nbformat_minor": 5
}
